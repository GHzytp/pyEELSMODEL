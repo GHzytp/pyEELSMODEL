{
 "cells": [
  {
   "cell_type": "markdown",
   "id": "a3f6f71f-6363-46f5-9bc9-c90143b2b68f",
   "metadata": {},
   "source": [
    "# Splice example\n",
    "This notebook shows how the splice class can be used to concatenate multiple spectra from a different energy range together. "
   ]
  },
  {
   "cell_type": "code",
   "execution_count": 1,
   "id": "bb66e9bd-fcaa-4e3f-8221-84dc33cc170c",
   "metadata": {},
   "outputs": [],
   "source": [
    "%matplotlib qt"
   ]
  },
  {
   "cell_type": "code",
   "execution_count": 2,
   "id": "927f655f-375f-43bd-9468-07c82d0a766f",
   "metadata": {},
   "outputs": [],
   "source": [
    "import pyEELSMODEL.api as em\n",
    "import numpy as np\n",
    "import os\n",
    "import matplotlib.pyplot as plt"
   ]
  },
  {
   "cell_type": "markdown",
   "id": "cce787f0-5e69-48f9-8542-74b5e97122b1",
   "metadata": {
    "jp-MarkdownHeadingCollapsed": true
   },
   "source": [
    "## Simulation\n",
    "Three spectra will be simulated which have some overlapping regions and where the acquisition times are different (1, 10 and 1000 ms). The current is assumed to be constant meaning that the different acquisition times changes the amount of signal detected per spectrum. *This part part is not very important to understand how to utilize the splicing class*"
   ]
  },
  {
   "cell_type": "code",
   "execution_count": 3,
   "id": "12e2259c-5d11-44ec-8e17-de9b61ff3250",
   "metadata": {},
   "outputs": [],
   "source": [
    "def make_circular_mask(xco, yco, Rin, Rout, shape):\n",
    "    XX, YY = np.meshgrid(np.arange(shape[1])-yco, np.arange(shape[0])-xco)\n",
    "    \n",
    "    R = np.sqrt(XX**2+YY**2)\n",
    "    \n",
    "    mask = np.zeros(shape)\n",
    "    boolean = (R>=Rin) & (R<Rout)\n",
    "    mask[boolean] = 1\n",
    "    return mask\n",
    "\n",
    "def make_rectangular_mask(xco, yco, width,height, shape):\n",
    "    mask = np.zeros(shape)\n",
    "    mask[xco:xco+width, yco:yco+height] = 1\n",
    "    return mask"
   ]
  },
  {
   "cell_type": "code",
   "execution_count": 5,
   "id": "d93b3b98-8d3d-454a-991f-0022ecd2f2e1",
   "metadata": {},
   "outputs": [],
   "source": [
    "xsize = 128\n",
    "ysize = 128\n",
    "\n",
    "elements = ['C', 'N', 'O', 'Fe', 'Al']\n",
    "edges = ['K', 'K', 'K', 'L', 'K']\n",
    "Zs = [6, 7, 8, 26, 14]\n",
    "\n",
    "maps = np.zeros((len(elements),xsize,ysize))\n",
    "\n",
    "\n",
    "mask0 =make_rectangular_mask(5, 5, 20, 20, (xsize,ysize))\n",
    "mask1 =  make_rectangular_mask(90, 90, 20, 30, (xsize,ysize))\n",
    "mask2 = make_circular_mask(xsize//2, ysize//2, 20, 30, (xsize,ysize))\n",
    "mask3 = make_circular_mask(xsize//2, ysize//2, 0, 20, (xsize,ysize))\n",
    "\n",
    "maps[0] = 1\n",
    "maps[1] = 2*mask0 + mask1\n",
    "maps[2] = mask2\n",
    "maps[3] = mask3+0.5*mask2\n",
    "maps[4] = mask0 + mask1 +mask2 "
   ]
  },
  {
   "cell_type": "code",
   "execution_count": 10,
   "id": "96a46b7f-783b-409a-89f4-ae019cd055df",
   "metadata": {},
   "outputs": [],
   "source": [
    "#add some thickness variation in the eels spectra, not \n",
    "tlambda_map = np.zeros((xsize, ysize))\n",
    "for ii in range(maps.shape[0]):\n",
    "    tlambda_map += Zs[ii]*maps[ii]\n",
    "\n",
    "tlambda_map = tlambda_map/tlambda_map.max()"
   ]
  },
  {
   "cell_type": "code",
   "execution_count": 13,
   "id": "57e21b81-b2ed-48fc-9d6f-9f30f56154bb",
   "metadata": {},
   "outputs": [],
   "source": [
    "settings = (300e3, 1e-9, 20e-3)\n",
    "msh = em.MultiSpectrumshape(1, 150, 2048, xsize, ysize)"
   ]
  },
  {
   "cell_type": "code",
   "execution_count": 15,
   "id": "6353f418-0fc7-4d98-86ce-44a35c457057",
   "metadata": {},
   "outputs": [
    {
     "name": "stderr",
     "output_type": "stream",
     "text": [
      "16384it [00:12, 1281.85it/s]\n",
      "16384it [00:35, 462.57it/s]"
     ]
    },
    {
     "name": "stdout",
     "output_type": "stream",
     "text": [
      "Multispectrum is simulated\n"
     ]
    },
    {
     "name": "stderr",
     "output_type": "stream",
     "text": [
      "\n"
     ]
    }
   ],
   "source": [
    "sim = em.CoreLossSimulator(msh, elements, edges, maps, tlambda_map, settings)\n",
    "sim.bg_method='convolved'\n",
    "sim.add_poisson = False #no poisson noise is added at this stage\n",
    "sim.simulate_multispectrum()\n",
    "hl = sim.multispectrum"
   ]
  },
  {
   "cell_type": "code",
   "execution_count": 16,
   "id": "3240a4ef-ba76-429a-9d85-b680793f67ab",
   "metadata": {},
   "outputs": [],
   "source": [
    "spec1 = hl.get_interval((0.,500.))\n",
    "spec2 = hl.get_interval((400.,900.))\n",
    "spec3 = hl.get_interval((800.,2500.))"
   ]
  },
  {
   "cell_type": "markdown",
   "id": "daa540e3-98ad-4da0-b198-af3480bf5351",
   "metadata": {},
   "source": [
    "Define the acquisition times of the three different multispectra"
   ]
  },
  {
   "cell_type": "code",
   "execution_count": 17,
   "id": "487641e6-bc01-4cb2-8ce4-dde00eda9269",
   "metadata": {},
   "outputs": [],
   "source": [
    "specs = [spec1, spec2, spec3]\n",
    "acq_times = np.array([1, 10, 1000])"
   ]
  },
  {
   "cell_type": "code",
   "execution_count": 18,
   "id": "75262d83-552a-41af-bd30-046783824853",
   "metadata": {},
   "outputs": [],
   "source": [
    "for acq_time, spec in zip(acq_times, specs):\n",
    "    spec.multidata = np.random.poisson(acq_time * spec.multidata).astype('float64') #needs to be flaot for multispectrum"
   ]
  },
  {
   "cell_type": "markdown",
   "id": "bd0a218a-fd21-4d3f-a5ec-be7e6c667b96",
   "metadata": {},
   "source": [
    "## Splicing \n",
    "The different multispectrums defined in *specs* are being used to splice together. The acquisition times are needed to make a good average of the different spectra. This assumes that the count rate is constant during the acquisition of the three spectra. "
   ]
  },
  {
   "cell_type": "code",
   "execution_count": 19,
   "id": "8e5bae26-f683-4ed0-baba-feab934b2045",
   "metadata": {},
   "outputs": [],
   "source": [
    "acq_times = [1, 10, 1000] "
   ]
  },
  {
   "cell_type": "code",
   "execution_count": 20,
   "id": "d41e1355-de1a-4b9e-baf5-b9faac103561",
   "metadata": {},
   "outputs": [
    {
     "name": "stderr",
     "output_type": "stream",
     "text": [
      "No artists with labels found to put in legend.  Note that artists whose label start with an underscore are ignored when legend() is called with no argument.\n"
     ]
    },
    {
     "data": {
      "text/plain": [
       "<pyEELSMODEL.operators.multispectrumvisualizer.MultiSpectrumVisualizer at 0x1bb57e9f3d0>"
      ]
     },
     "execution_count": 20,
     "metadata": {},
     "output_type": "execute_result"
    }
   ],
   "source": [
    "#visualization\n",
    "em.MultiSpectrumVisualizer(specs)"
   ]
  },
  {
   "cell_type": "code",
   "execution_count": 21,
   "id": "7763c5cb-6163-4b9b-82a7-461bed11ad30",
   "metadata": {},
   "outputs": [],
   "source": [
    "from pyEELSMODEL.operators.splice import Splice"
   ]
  },
  {
   "cell_type": "code",
   "execution_count": 22,
   "id": "a3803d13-9e9b-4bfb-a1bd-154deb4fa6fe",
   "metadata": {},
   "outputs": [
    {
     "name": "stderr",
     "output_type": "stream",
     "text": [
      "16384it [00:09, 1713.01it/s]\n"
     ]
    }
   ],
   "source": [
    "splice = Splice(specs, acq_times)\n",
    "spliced_spectrum = splice.splice_multispectra()"
   ]
  },
  {
   "cell_type": "markdown",
   "id": "6b381ed1-eba9-4fef-affb-760847d7e24a",
   "metadata": {},
   "source": [
    "The spliced multispectrum is visualized in the next cell. Note that the noise distribution has now changed and is not Poissonian anymore, the part with the longer acquisition time has significanlty lower noise as would expected from Poissonian. This could introduce some bias when doing elemental mapping since this assumes Poissonian noise. This can be solved by adding proper weights into the fitter but this is not implemented at this point"
   ]
  },
  {
   "cell_type": "code",
   "execution_count": 23,
   "id": "5d6ba7a8-5f15-4871-93ae-3992687191c1",
   "metadata": {},
   "outputs": [
    {
     "name": "stderr",
     "output_type": "stream",
     "text": [
      "No artists with labels found to put in legend.  Note that artists whose label start with an underscore are ignored when legend() is called with no argument.\n"
     ]
    },
    {
     "data": {
      "text/plain": [
       "<pyEELSMODEL.operators.multispectrumvisualizer.MultiSpectrumVisualizer at 0x1bb014df820>"
      ]
     },
     "execution_count": 23,
     "metadata": {},
     "output_type": "execute_result"
    }
   ],
   "source": [
    "em.MultiSpectrumVisualizer([spliced_spectrum], logscale=False)"
   ]
  }
 ],
 "metadata": {
  "kernelspec": {
   "display_name": "Python 3 (ipykernel)",
   "language": "python",
   "name": "python3"
  },
  "language_info": {
   "codemirror_mode": {
    "name": "ipython",
    "version": 3
   },
   "file_extension": ".py",
   "mimetype": "text/x-python",
   "name": "python",
   "nbconvert_exporter": "python",
   "pygments_lexer": "ipython3",
   "version": "3.10.13"
  }
 },
 "nbformat": 4,
 "nbformat_minor": 5
}
