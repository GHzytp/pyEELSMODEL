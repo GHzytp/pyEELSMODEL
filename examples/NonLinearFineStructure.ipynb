{
 "cells": [
  {
   "cell_type": "markdown",
   "id": "e385db83-30bf-410b-a591-a466dfa8e8b4",
   "metadata": {},
   "source": [
    "# Non Linear Fine Structure Determination\n",
    "In this notebook, a non-linear fitting procedure is shown. In particular, the peak energies of the fine structure of the titanium L edge are determined via fitting the appropriate model to the data. The data is not a real sample but **simulated** and shows how to get relevant information on the fitted model via the use of pyEELSMODEL. \\\n",
    "Note that pyEELSMODEL can be used to perform non-linear fitting procedures on EELS data, but it is not optimized for these tasks as we focussed mainly on elemental quantification using linear models. "
   ]
  },
  {
   "cell_type": "code",
   "execution_count": 1,
   "id": "336b2384-a598-4d5f-8deb-a6e388c250bc",
   "metadata": {},
   "outputs": [],
   "source": [
    "%matplotlib qt \n",
    "#important for the em.MultiSpectrumVisualizer since this is an interactive plotting tool"
   ]
  },
  {
   "cell_type": "code",
   "execution_count": 2,
   "id": "51d0c983-b6db-4fc2-98d4-8f085d7de27b",
   "metadata": {},
   "outputs": [],
   "source": [
    "import numpy as np\n",
    "import matplotlib.pyplot as plt\n",
    "import pyEELSMODEL.api as em\n",
    "from pyEELSMODEL.components.linear_background import LinearBG #how to import a class, check documentation of available components\n",
    "from pyEELSMODEL.components.lorentzian import Lorentzian #how to import a class, check documentation of available components"
   ]
  },
  {
   "cell_type": "markdown",
   "id": "496b2712-3eb0-4bea-acf3-d3133f801a0f",
   "metadata": {},
   "source": [
    "## Simulation\n",
    "The EEL spectrum of the titanium L edge is simulated as the linear combination of four lorentzian peaks (amplitude, center and broadening), the atomic cross section and a background function. \\\n",
    "The amplitudes and broading will remain constant accross the EELS map but the central position will vary with probe position. \\\n",
    "*This part of the notebook is off lesser importance since it shows how to simulate some arbitrary fine structure.*"
   ]
  },
  {
   "cell_type": "code",
   "execution_count": 3,
   "id": "796ddb72-3c0c-4a24-9fe6-ec88b82a460f",
   "metadata": {},
   "outputs": [],
   "source": [
    "def ti_4(specshape, As, cs, fwhms, settings):\n",
    "    \"\"\"\n",
    "    Small function which calculates the titanium l edge where the As (amplitudes),\n",
    "    cs (centers) and fhwms are given for the lorentzians,\n",
    "    \"\"\"\n",
    "    E0 = settings[0]\n",
    "    alpha = settings[1]\n",
    "    beta = settings[2]    \n",
    "    \n",
    "    element = 'Ti'\n",
    "    edge = 'L'\n",
    "    \n",
    "    bg = LinearBG(specshape, rlist=np.linspace(1,5,4))\n",
    "\n",
    "    comp = em.ZezhongCoreLossEdgeCombined(specshape, 0.5, E0, alpha, beta, element, edge)\n",
    "    value = 1/comp.data.max()\n",
    "    comp.parameters[0].setvalue(value)\n",
    "    \n",
    "    lorentz = []\n",
    "    for ii in range(len(As)):\n",
    "        lorentz.append(Lorentzian(specshape, As[ii], cs[ii], fwhms[ii]))\n",
    "    \n",
    "    components = [bg, comp] + lorentz\n",
    "    mod = em.Model(specshape, components)\n",
    "    mod.calculate()\n",
    "    return mod"
   ]
  },
  {
   "cell_type": "code",
   "execution_count": 4,
   "id": "e1f51b64-5bdc-489a-b836-ee73737cafbd",
   "metadata": {},
   "outputs": [],
   "source": [
    "def change_params(mod, As, cs, fwhms):\n",
    "    \"\"\"\n",
    "    Function which modifies the parameters of the lorentzian peaks\n",
    "    \"\"\"\n",
    "    #first two components are the background and atomic edge\n",
    "    for ii, comp in enumerate(mod.components[2:]):\n",
    "        comp.parameters[0].setvalue(As[ii])\n",
    "        comp.parameters[1].setvalue(cs[ii])\n",
    "        comp.parameters[2].setvalue(fwhms[ii])\n",
    "    return mod\n",
    "    "
   ]
  },
  {
   "cell_type": "code",
   "execution_count": 5,
   "id": "66c40a5d-2e9c-48dd-ace9-f2e7e5828e0b",
   "metadata": {},
   "outputs": [],
   "source": [
    "xsize = 50\n",
    "ysize = 50 \n",
    "\n",
    "msh = em.MultiSpectrumshape(0.1, 420, 1024, xsize, ysize)\n",
    "specshape = msh.getspectrumshape()\n",
    "settings = (300e3, 1e-9, 20e-3)\n",
    "\n",
    "\n",
    "As = [4,6,4,6]\n",
    "fwhms = [0.5,0.8,1,1.3]\n",
    "\n",
    "#the EELS map has two region of constant fine structure\n",
    "#only the \n",
    "cs1 = [456, 459, 462, 464] \n",
    "cs2 = [457, 459, 462.5, 464]"
   ]
  },
  {
   "cell_type": "markdown",
   "id": "21a5925b-1c72-495c-ba6d-ef464e04c328",
   "metadata": {},
   "source": [
    "Two different fine structures with different energies of the first and third peak. "
   ]
  },
  {
   "cell_type": "code",
   "execution_count": 6,
   "id": "f9166f55-4c7c-452c-ab27-7afaacc4837d",
   "metadata": {},
   "outputs": [],
   "source": [
    "mod1 = ti_4(specshape, As, cs1, fwhms, settings)\n",
    "mod2 = ti_4(specshape, As, cs2, fwhms, settings)"
   ]
  },
  {
   "cell_type": "code",
   "execution_count": 7,
   "id": "02181a95-aade-47c3-aa09-c83e4169e547",
   "metadata": {},
   "outputs": [
    {
     "data": {
      "text/plain": [
       "[<matplotlib.lines.Line2D at 0x1b060d47310>]"
      ]
     },
     "execution_count": 7,
     "metadata": {},
     "output_type": "execute_result"
    }
   ],
   "source": [
    "fig, ax = plt.subplots()\n",
    "ax.plot(mod1.energy_axis, mod1.data)\n",
    "ax.plot(mod2.energy_axis, mod2.data)"
   ]
  },
  {
   "cell_type": "markdown",
   "id": "a207ebea-5599-43c8-88a6-a566a197daa1",
   "metadata": {},
   "source": [
    "EEL map will be simulated with constant amplitudes and broadening at each probe position. The center energy of the first and third peak does vary in the map. The first 10 rows all have the same fine structure (*mod1*), the last 10 rows also have the same fine structure (*mod2*). In between, the energy of the first and third peak scales linearly per row. "
   ]
  },
  {
   "cell_type": "code",
   "execution_count": 8,
   "id": "104c854b-43e6-40a5-8c95-32069c0c490b",
   "metadata": {},
   "outputs": [],
   "source": [
    "scan_size = (xsize, ysize)\n",
    "As_map = np.ones(scan_size+(4,))\n",
    "fwhms_map = np.ones(scan_size+(4,))\n",
    "cs_map = np.ones(scan_size+(4,))\n",
    "\n",
    "start=10\n",
    "end=40\n",
    "\n",
    "XX, YY = np.meshgrid(np.arange(xsize)-start, np.arange(ysize)-start)\n",
    "m1 = (cs2[0]-cs1[0])/(end-start)\n",
    "m1 = (cs2[0]-cs1[0])/(end-start)\n",
    "\n",
    "for ii in range(len(As)):\n",
    "    As_map[:,:,ii] = As[ii]\n",
    "    fwhms_map[:,:,ii] = fwhms[ii]\n",
    "    cs_map[:start,:,ii] = cs1[ii]\n",
    "    cs_map[end:,:,ii] = cs2[ii]\n",
    "    \n",
    "    m = (cs2[ii] - cs1[ii])/(end-start)\n",
    "    cs_map[start:end,:,ii] = m*YY[start:end,:]+cs1[ii]"
   ]
  },
  {
   "cell_type": "code",
   "execution_count": 9,
   "id": "70eb388d-ee0c-46b5-a5af-f25250c4579d",
   "metadata": {},
   "outputs": [],
   "source": [
    "fig, ax = plt.subplots(1,4)\n",
    "for ii in range(cs_map.shape[-1]):\n",
    "    ax[ii].imshow(cs_map[:,:,ii])\n",
    "    name = 'Center peak '+str(ii+1)\n",
    "    ax[ii].set_title(name)\n"
   ]
  },
  {
   "cell_type": "markdown",
   "id": "c8e56688-7345-4d07-b779-6f021b4debc1",
   "metadata": {},
   "source": [
    "Simulation of the EELS map where at each probe position. It uses the *As_map*, *cs_map*, *fwhms_map* information is input for each lorentzian. There is no thickness effect added to the simulation since this is only for illustration purposes. Noise is added in the form of poisson noise and can be modified using the *cte* value."
   ]
  },
  {
   "cell_type": "code",
   "execution_count": 10,
   "id": "7be039ee-0871-4f9e-bb8e-35583f2270cc",
   "metadata": {},
   "outputs": [],
   "source": [
    "cte = 1e2 #counts which modifies the poisson noise \n",
    "eels_data = np.zeros((xsize, ysize, msh.Esize))\n",
    "for index in np.ndindex(scan_size):\n",
    "        islice = np.s_[index]\n",
    "        mod = change_params(mod1, As_map[islice], cs_map[islice], fwhms_map[islice])\n",
    "        \n",
    "        mod.calculate()\n",
    "        eels_data[islice] = np.random.poisson(mod.data*cte)\n",
    "\n",
    "s = em.MultiSpectrum(msh, data=eels_data)"
   ]
  },
  {
   "cell_type": "code",
   "execution_count": 11,
   "id": "4edb6476-6b6f-45c2-a624-c0b64219360f",
   "metadata": {
    "scrolled": true
   },
   "outputs": [
    {
     "name": "stderr",
     "output_type": "stream",
     "text": [
      "No artists with labels found to put in legend.  Note that artists whose label start with an underscore are ignored when legend() is called with no argument.\n"
     ]
    },
    {
     "data": {
      "text/plain": [
       "<pyEELSMODEL.operators.multispectrumvisualizer.MultiSpectrumVisualizer at 0x1b0633457b0>"
      ]
     },
     "execution_count": 11,
     "metadata": {},
     "output_type": "execute_result"
    }
   ],
   "source": [
    "em.MultiSpectrumVisualizer([s])"
   ]
  },
  {
   "cell_type": "markdown",
   "id": "ceaa1dbf-ba7e-406c-9e93-6e22675e0b57",
   "metadata": {},
   "source": [
    "Visulization of the EEL spectra accross the x direction. This shows how the peak position of the first and third peak changes along the EELS map."
   ]
  },
  {
   "cell_type": "code",
   "execution_count": 12,
   "id": "3e896b27-34bf-4c67-9cac-262bdf13e81a",
   "metadata": {},
   "outputs": [
    {
     "data": {
      "text/plain": [
       "<matplotlib.image.AxesImage at 0x1b0633f1e40>"
      ]
     },
     "execution_count": 12,
     "metadata": {},
     "output_type": "execute_result"
    }
   ],
   "source": [
    "fig, ax = plt.subplots()\n",
    "ax.imshow(s.multidata.mean(1), aspect='auto')"
   ]
  },
  {
   "cell_type": "markdown",
   "id": "7f1f7487-c015-4a19-9539-88c4d7d23bab",
   "metadata": {},
   "source": [
    "## Background removal\n",
    "We will remove the background before the edge since the non-linear fitting procedure can become unstable when adding the background component to the model. However, if it works in your particular case, then  you can add the background to the model itself. Note that the simulated background is the sum of powerlaws, this means that a small bias could arise due to the power-law background removal. This bias also occurs in experimental data since we do not have knowledge on the exact shape of the background. "
   ]
  },
  {
   "cell_type": "code",
   "execution_count": 13,
   "id": "75ef9605-a713-43a6-b98b-00b71328e382",
   "metadata": {},
   "outputs": [
    {
     "name": "stdout",
     "output_type": "stream",
     "text": [
      "True\n"
     ]
    },
    {
     "name": "stderr",
     "output_type": "stream",
     "text": [
      "2500it [00:00, 8007.64it/s]\n",
      "2500it [00:04, 563.01it/s]\n",
      "2500it [00:00, 22990.50it/s]\n"
     ]
    }
   ],
   "source": [
    "back = em.BackgroundRemoval(s, (425,440))\n",
    "rem = back.calculate_multi()"
   ]
  },
  {
   "cell_type": "markdown",
   "id": "d57bb3d6-8dfe-489a-9249-2abb6284c2f9",
   "metadata": {},
   "source": [
    "## Non-linear fittings\n",
    "The model used for the fitting will be created as the sum of four lorentzians and one atomic cross section. "
   ]
  },
  {
   "cell_type": "code",
   "execution_count": 14,
   "id": "f67aaf04-b6f3-4f63-b90f-b4161806ba36",
   "metadata": {},
   "outputs": [],
   "source": [
    "#the experimental settings\n",
    "specshape = s.get_spectrumshape()\n",
    "E0 = settings[0]\n",
    "alpha = settings[1]\n",
    "beta = settings[2]    \n",
    "\n",
    "element = 'Ti'\n",
    "edge = 'L'"
   ]
  },
  {
   "cell_type": "markdown",
   "id": "e146e195-6216-4bca-83e4-d6c96f24b970",
   "metadata": {},
   "source": [
    "An average spectrum is created from the first row to have some estimate of starting parameters and the boundaries. "
   ]
  },
  {
   "cell_type": "code",
   "execution_count": 15,
   "id": "4c9e45d1-2537-4221-82c2-c5e23c5fe489",
   "metadata": {},
   "outputs": [],
   "source": [
    "smean = rem[0,:].mean()"
   ]
  },
  {
   "cell_type": "code",
   "execution_count": 16,
   "id": "81c92224-4065-4a69-b23f-96a3d9a85e73",
   "metadata": {},
   "outputs": [],
   "source": [
    "smean.plot()"
   ]
  },
  {
   "cell_type": "markdown",
   "id": "bcdf3ca2-a153-456d-8f1c-264a9d176702",
   "metadata": {},
   "source": [
    "As, cs and fwhms are set manually from the average spectrum. "
   ]
  },
  {
   "cell_type": "code",
   "execution_count": 17,
   "id": "a443ab7f-287b-4e94-b492-a7ce46159869",
   "metadata": {},
   "outputs": [],
   "source": [
    "As = [500,500,500,500]\n",
    "cs = [456, 459,462,464]\n",
    "fwhms = [1,1,1,1]\n",
    "lorentz = []\n",
    "for ii in range(len(As)):\n",
    "    lorentz.append(Lorentzian(specshape, As[ii], cs[ii], fwhms[ii]))"
   ]
  },
  {
   "cell_type": "markdown",
   "id": "341b6dd7-b1dc-4455-9df4-ba36a628e76d",
   "metadata": {},
   "source": [
    "Also boundaries will be set for each lorentz. This is subject to user interpretation of the data. In this case, the amplitude boundaries are between 100 and 2000. The center of each peak has boundaries -1.5 to 1.5 eV with respect to the inputted *cs*. The broadening cannot lower than 0.2 and bigger than 3 eV. Some iterative steps can be used to find the suitable boundaries to let the fitter convergence to the right solution. "
   ]
  },
  {
   "cell_type": "code",
   "execution_count": 18,
   "id": "4da6a363-7c77-4018-857c-da9b941a376d",
   "metadata": {},
   "outputs": [],
   "source": [
    "for lor in lorentz:\n",
    "    lor.parameters[0].setboundaries(100,2000)\n",
    "    \n",
    "    val = lor.parameters[1].getvalue()\n",
    "    lor.parameters[1].setboundaries(val-1.5, val+1.5)\n",
    "\n",
    "    lor.parameters[2].setboundaries(0.2, 3)"
   ]
  },
  {
   "cell_type": "code",
   "execution_count": 19,
   "id": "5ee7c3a0-842f-449b-8d6a-d01881e6e204",
   "metadata": {},
   "outputs": [],
   "source": [
    "#the atomic cross section\n",
    "comp = em.ZezhongCoreLossEdgeCombined(specshape, 1, E0, alpha, beta, element, edge)"
   ]
  },
  {
   "cell_type": "code",
   "execution_count": 20,
   "id": "6a6f3eb9-f84e-44ee-a9fd-216ae4059790",
   "metadata": {},
   "outputs": [],
   "source": [
    "components = [comp] + lorentz\n",
    "mod = em.Model(specshape, components)\n",
    "mod.calculate()"
   ]
  },
  {
   "cell_type": "markdown",
   "id": "2a745ac8-be51-4b2e-b0f8-2709d382acf6",
   "metadata": {},
   "source": [
    "Shows the calculated model with the parameters values set in the previous cells. This should be more or less similar to the expected fit. "
   ]
  },
  {
   "cell_type": "code",
   "execution_count": 21,
   "id": "da9459b1-e75d-4ed8-a3c5-912a960d3ac3",
   "metadata": {},
   "outputs": [],
   "source": [
    "mod.plot(spectrum=smean)"
   ]
  },
  {
   "cell_type": "markdown",
   "id": "990328d8-73e1-40b3-b772-03b8fdd1d050",
   "metadata": {},
   "source": [
    "Some energy bins can be excluded from the fit. In this case, the background region before the edge will be excluded and not used in the fit. "
   ]
  },
  {
   "cell_type": "code",
   "execution_count": 22,
   "id": "cc2ee3c4-f486-4315-a50f-12b5e0c99582",
   "metadata": {},
   "outputs": [],
   "source": [
    "smean.set_exclude_region_energy(0, 455)\n",
    "smean.show_excluded_region()"
   ]
  },
  {
   "cell_type": "markdown",
   "id": "ed0a5c48-3b53-42de-b210-fe0a7b7d02d2",
   "metadata": {},
   "source": [
    "The fit on *smean* gives a better estimate of the starting parameters which can be used in the fit of the multispectrum. \n",
    "After the fit is performed, the fitted parameters are set as values for the model (*mod*). This model can then again be used for the fit of the multispectrum since the new starting guess is closer to the optimum. The [least-squares](https://docs.scipy.org/doc/scipy/reference/generated/scipy.optimize.least_squares.html) from scipy is used to perform the fitting. See documentation for more information. "
   ]
  },
  {
   "cell_type": "code",
   "execution_count": 23,
   "id": "1e32997e-8218-4c2e-aba0-1db72558ebed",
   "metadata": {
    "scrolled": true
   },
   "outputs": [
    {
     "data": {
      "image/png": "[encoded data removed]",
      "text/plain": [
       "<Figure size 640x480 with 1 Axes>"
      ]
     },
     "execution_count": 23,
     "metadata": {},
     "output_type": "execute_result"
    }
   ],
   "source": [
    "fit = em.LSQFitter(smean, mod, use_bounds=True, method='trf')\n",
    "fit.perform_fit()        \n",
    "fit.plot()        "
   ]
  },
  {
   "cell_type": "code",
   "execution_count": 24,
   "id": "5b1573fc-5402-4028-8eec-1d2347da2dbb",
   "metadata": {},
   "outputs": [],
   "source": [
    "#removing some energy region from the fit\n",
    "rem.set_exclude_region_energy(0, 455)\n",
    "rem.show_excluded_region() #check which regions are excluded from the fit"
   ]
  },
  {
   "cell_type": "code",
   "execution_count": 25,
   "id": "742a8510-ca2d-473d-9ce6-2d3af2ed6efb",
   "metadata": {},
   "outputs": [
    {
     "name": "stderr",
     "output_type": "stream",
     "text": [
      "2500it [00:42, 58.92it/s]\n"
     ]
    }
   ],
   "source": [
    "fitm = em.LSQFitter(rem, mod, use_bounds=True, method='trf')\n",
    "fitm.multi_fit()"
   ]
  },
  {
   "cell_type": "code",
   "execution_count": 26,
   "id": "3e022c07-0186-46c4-b517-330b8b895262",
   "metadata": {},
   "outputs": [
    {
     "name": "stderr",
     "output_type": "stream",
     "text": [
      "2500it [00:00, 14001.21it/s]\n"
     ]
    }
   ],
   "source": [
    "multimodel=fitm.model_to_multispectrum()"
   ]
  },
  {
   "cell_type": "code",
   "execution_count": 27,
   "id": "c615dc3d-03fe-44c1-9d01-9d04d141ccf9",
   "metadata": {},
   "outputs": [
    {
     "name": "stderr",
     "output_type": "stream",
     "text": [
      "No artists with labels found to put in legend.  Note that artists whose label start with an underscore are ignored when legend() is called with no argument.\n"
     ]
    },
    {
     "data": {
      "text/plain": [
       "<pyEELSMODEL.operators.multispectrumvisualizer.MultiSpectrumVisualizer at 0x1b06333dde0>"
      ]
     },
     "execution_count": 27,
     "metadata": {},
     "output_type": "execute_result"
    }
   ],
   "source": [
    "#visualization of the resulting fit\n",
    "em.MultiSpectrumVisualizer([rem, multimodel])"
   ]
  },
  {
   "cell_type": "markdown",
   "id": "63793934-814c-40bf-8e8c-7dad79515a4f",
   "metadata": {},
   "source": [
    "### Comparison with ground truth\n",
    "The last part shows how to interact with the resulting fits and how one can use matplotlib to visualize the results. The *fitm.get_map(parameter)* function needs as input a parameter and will return the map of the parameter. If this paramter is not optimized in the fit then it will return None."
   ]
  },
  {
   "cell_type": "code",
   "execution_count": 33,
   "id": "91dd2836-0758-4346-bed2-3592e49cccc3",
   "metadata": {},
   "outputs": [],
   "source": [
    "# The average value of the amplitude of different lorentzians compared to the ground truth\n",
    "fig, ax = plt.subplots(1,4)\n",
    "xaxis = np.arange(xsize)\n",
    "for ii, lor in enumerate(lorentz):\n",
    "    mp = fitm.get_map(lor.parameters[0])\n",
    "    ax[ii].errorbar(xaxis, mp.mean(1), yerr=mp.std(1), capsize=5)\n",
    "    ax[ii].plot(xaxis, cte*As_map[:,:,ii].mean(1), color='black') #cte to input the real amplitude value "
   ]
  },
  {
   "cell_type": "code",
   "execution_count": 35,
   "id": "f5b8a3ed-29c1-4771-9579-89140a1737dd",
   "metadata": {},
   "outputs": [],
   "source": [
    "# The average value of the center of different lorentzians compared to the ground truth\n",
    "fig, ax = plt.subplots(1,4)\n",
    "xaxis = np.arange(xsize)\n",
    "for ii, lor in enumerate(lorentz):\n",
    "    mp = fitm.get_map(lor.parameters[1])\n",
    "    ax[ii].errorbar(xaxis, mp.mean(1), yerr=mp.std(1), capsize=5)\n",
    "    ax[ii].plot(xaxis, cs_map[:,:,ii].mean(1), color='black')"
   ]
  },
  {
   "cell_type": "code",
   "execution_count": 37,
   "id": "20a2b958-6720-473e-8df8-5a60633c272a",
   "metadata": {},
   "outputs": [],
   "source": [
    "fig, ax = plt.subplots(1,4)\n",
    "xaxis = np.arange(xsize)\n",
    "for ii, lor in enumerate(lorentz):\n",
    "    mp = fitm.get_map(lor.parameters[2])\n",
    "    ax[ii].errorbar(xaxis, mp.mean(1), yerr=mp.std(1), capsize=5)\n",
    "    ax[ii].plot(xaxis, fwhms_map[:,:,ii].mean(1), color='black')"
   ]
  },
  {
   "cell_type": "code",
   "execution_count": 39,
   "id": "6124a6b1-cd29-4512-ac82-93f75161572b",
   "metadata": {},
   "outputs": [],
   "source": [
    "#2d maps of the center energy \n",
    "fig, ax = plt.subplots(1,4)\n",
    "for ii, lor in enumerate(lorentz):\n",
    "    mp = fitm.get_map(lor.parameters[1])\n",
    "    ax[ii].imshow(mp)\n"
   ]
  }
 ],
 "metadata": {
  "kernelspec": {
   "display_name": "Python 3 (ipykernel)",
   "language": "python",
   "name": "python3"
  },
  "language_info": {
   "codemirror_mode": {
    "name": "ipython",
    "version": 3
   },
   "file_extension": ".py",
   "mimetype": "text/x-python",
   "name": "python",
   "nbconvert_exporter": "python",
   "pygments_lexer": "ipython3",
   "version": "3.9.0"
  }
 },
 "nbformat": 4,
 "nbformat_minor": 5
}
