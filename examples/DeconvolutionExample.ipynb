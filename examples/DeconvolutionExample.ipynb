{
 "cells": [
  {
   "cell_type": "markdown",
   "id": "39f31be9-b836-4a51-8c21-1b4673b9150b",
   "metadata": {},
   "source": [
    "# Deconvolution Example\n",
    "In this notebook, a small example is shown on how to use the deconvolution classes. Deconvolution is a method used to remove the effect of the multiple scattering on the experimental EEL spectra. Two different deconvolution methods have been implemented:\n",
    "\n",
    "1. Gaussian Modifier: Deconvolution of the spectrum using the low loss and doing conventional deconvolution via the Fast Fourier Transform. A Gaussian is used to damp the higher frequencies (loss of energy resolution). \n",
    "   \n",
    "2. Richardson Lucy: Based on maximum likelihood deconvolution with the assumption of Poissonian distributed noise \n",
    "\n",
    "See [Verbeeck et al.](https://doi.org/10.1016/j.ultramic.2009.06.010) for a more in depth description on the two methods. In the philisophy of EELSMODEL, deconvolution should be avoided as much as possible and the multiple scattering should be accounted for in the model itself."
   ]
  },
  {
   "cell_type": "code",
   "execution_count": 1,
   "id": "dffc3e82-16db-4ea4-813f-733c77184235",
   "metadata": {},
   "outputs": [],
   "source": [
    "%matplotlib qt"
   ]
  },
  {
   "cell_type": "code",
   "execution_count": 18,
   "id": "45b53b24-9199-4d22-9f83-b3b3df9ea8cd",
   "metadata": {},
   "outputs": [],
   "source": [
    "import pyEELSMODEL.api as em\n",
    "from pyEELSMODEL.components.fixedpattern import FixedPattern\n",
    "import numpy as np\n",
    "import os\n",
    "import matplotlib.pyplot as plt"
   ]
  },
  {
   "cell_type": "markdown",
   "id": "87d8a166-713a-4cb6-bafc-2ef7e4ce067c",
   "metadata": {
    "jp-MarkdownHeadingCollapsed": true
   },
   "source": [
    "## Simulation \n",
    "This part simualtes a core-loss STEM-EELS spectrum on Ce 3+. The thickness varies in different part of the map. *This section only performs the STEM-EELS simulation hence it is not very important for the deconvolution part*"
   ]
  },
  {
   "cell_type": "code",
   "execution_count": 6,
   "id": "22214d37-c4bf-4248-b157-73d5096ae9d5",
   "metadata": {},
   "outputs": [],
   "source": [
    "def make_circular_mask(xco, yco, Rin, Rout, shape):\n",
    "    XX, YY = np.meshgrid(np.arange(shape[1])-yco, np.arange(shape[0])-xco)\n",
    "    \n",
    "    R = np.sqrt(XX**2+YY**2)\n",
    "    \n",
    "    mask = np.zeros(shape)\n",
    "    boolean = (R>=Rin) & (R<Rout)\n",
    "    mask[boolean] = 1\n",
    "    return mask\n",
    "\n",
    "def make_rectangular_mask(xco, yco, width,height, shape):\n",
    "    mask = np.zeros(shape)\n",
    "    mask[xco:xco+width, yco:yco+height] = 1\n",
    "    return mask\n",
    "    "
   ]
  },
  {
   "cell_type": "code",
   "execution_count": 10,
   "id": "8a9c0293-0fbf-494c-8b7b-55504a52ecce",
   "metadata": {},
   "outputs": [],
   "source": [
    "xsize = 64\n",
    "ysize = 64\n",
    "maps = np.zeros((1,xsize,ysize))\n",
    "\n",
    "\n",
    "mask0 =make_rectangular_mask(3, 3, 20, 20, (xsize,ysize))\n",
    "mask1 =  make_rectangular_mask(50, 50, 10, 10, (xsize,ysize))\n",
    "mask2 = make_circular_mask(xsize//2, ysize//2, 0, 10, (xsize,ysize))\n",
    "\n",
    "maps[0] = 1 + 2*mask0 + 3*mask1 + 4*mask2"
   ]
  },
  {
   "cell_type": "markdown",
   "id": "d1883546-63a8-4aca-b357-130f02c37eb3",
   "metadata": {},
   "source": [
    "Load an artificial Ce M edge with fine structure. "
   ]
  },
  {
   "cell_type": "code",
   "execution_count": 12,
   "id": "9fb09b61-6e04-4cc7-ad3d-b049fd974d72",
   "metadata": {},
   "outputs": [],
   "source": [
    "file_ce3 = os.path.join(os.getcwd(), r'data\\ce3_edge.hdf5')\n",
    "ce3 = em.Spectrum.load(file_ce3)"
   ]
  },
  {
   "cell_type": "code",
   "execution_count": 16,
   "id": "1023f5b2-1c8e-4a9c-a298-e2dbbc0b54fb",
   "metadata": {},
   "outputs": [
    {
     "data": {
      "text/plain": [
       "<matplotlib.image.AxesImage at 0x2be4ce84850>"
      ]
     },
     "execution_count": 16,
     "metadata": {},
     "output_type": "execute_result"
    }
   ],
   "source": [
    "tlambda_map = np.zeros_like(adf)\n",
    "for ii in range(maps.shape[0]):\n",
    "    tlambda_map += 1*maps[ii]\n",
    "\n",
    "# the maximal inelastic mean free path is 0.5\n",
    "tlambda_map = 0.5*tlambda_map/tlambda_map.max()\n",
    "\n",
    "fig, ax = plt.subplots()\n",
    "ax.imshow(tlambda_map, cmap='gray')\n"
   ]
  },
  {
   "cell_type": "code",
   "execution_count": 22,
   "id": "9e12ba83-9fcd-4c0b-9bce-93f5c999f98e",
   "metadata": {},
   "outputs": [],
   "source": [
    "settings = (300e3, 1e-9, 20e-3)\n",
    "msh = em.MultiSpectrumshape(0.2, 840, 1024, xsize, ysize)\n",
    "sh = msh.getspectrumshape()"
   ]
  },
  {
   "cell_type": "code",
   "execution_count": 23,
   "id": "6b2c3ffe-b91b-4669-a40b-0edd953d7f9e",
   "metadata": {},
   "outputs": [
    {
     "name": "stderr",
     "output_type": "stream",
     "text": [
      "4096it [00:02, 1557.67it/s]\n",
      "4096it [00:02, 1383.15it/s]\n"
     ]
    }
   ],
   "source": [
    "sim = em.CoreLossSimulator(msh, [], [], maps, tlambda_map, settings)\n",
    "sim.fwhm=0.5 #resolution of zlp\n",
    "sim.bg_method = 'powerlaw' #background model\n",
    "sim.noise = 1e3 #this reduces the noise by factor sqrt(noise) \n",
    "sim.make_lowloss() \n",
    "\n",
    "sim.element_components = []\n",
    "sim.element_components.append(FixedPattern(sh, ce3)) #add Ce3+ coreloss edge for simulation\n",
    "sim.make_coreloss()\n"
   ]
  },
  {
   "cell_type": "code",
   "execution_count": 24,
   "id": "1deb30f5-7304-48fa-9764-66acbfa83c25",
   "metadata": {},
   "outputs": [],
   "source": [
    "hl = sim.multispectrum\n",
    "ll = sim.ll"
   ]
  },
  {
   "cell_type": "markdown",
   "id": "8dc10c3a-31ba-4518-a474-e6cbea3dc2b9",
   "metadata": {},
   "source": [
    "## Deconvolution\n",
    "In this part , the deconvolution is performed on a single and a multispectrum using the two methods. Before deconvolving, the background is removed by fitting a power-law to the region before the edge onset. "
   ]
  },
  {
   "cell_type": "markdown",
   "id": "372a08d9-5eae-412e-8dcf-0d21e36778ce",
   "metadata": {},
   "source": [
    "#### Background removal"
   ]
  },
  {
   "cell_type": "code",
   "execution_count": 34,
   "id": "e6332984-728e-49f9-88ce-be15624c5262",
   "metadata": {},
   "outputs": [
    {
     "name": "stdout",
     "output_type": "stream",
     "text": [
      "True\n"
     ]
    },
    {
     "name": "stderr",
     "output_type": "stream",
     "text": [
      "4096it [00:00, 7139.83it/s]\n",
      "4096it [00:05, 709.15it/s]\n",
      "4096it [00:00, 21436.89it/s]\n"
     ]
    }
   ],
   "source": [
    "signal_ranges = [840,870]\n",
    "back = em.BackgroundRemoval(hl, signal_ranges)\n",
    "rem = back.calculate_multi()"
   ]
  },
  {
   "cell_type": "markdown",
   "id": "f8a4497c-fba9-4eae-9796-b81d60d6f405",
   "metadata": {},
   "source": [
    "#### Deconvolution on single spectrum\n"
   ]
  },
  {
   "cell_type": "code",
   "execution_count": null,
   "id": "b79481e8-207e-4b6d-b7cf-3d54596a9b50",
   "metadata": {},
   "outputs": [],
   "source": [
    "from pyEELSMODEL.operators.deconvolutions.richardson_lucy import RichardsonLucyDeconvolution\n",
    "from pyEELSMODEL.operators.deconvolutions.gaussianmodifier import GaussianModifier"
   ]
  },
  {
   "cell_type": "code",
   "execution_count": 27,
   "id": "6ad3d220-cf82-45ff-8d21-fcd8609f5dec",
   "metadata": {},
   "outputs": [],
   "source": [
    "indx=32\n",
    "indy=32\n",
    "\n",
    "s = rem[indx, indy]\n",
    "l =ll[indx, indy]"
   ]
  },
  {
   "cell_type": "code",
   "execution_count": 32,
   "id": "4702f6ae-e05d-4206-beda-1c20b0240684",
   "metadata": {},
   "outputs": [],
   "source": [
    "rich = RichardsonLucyDeconvolution(s, l, iterations=3)\n",
    "logr = GaussianModifier(s, l, factor=None) #if none is chosen it use the fwhm of the low loss to get esitmate gaussian fwhm\n",
    "\n",
    "s_r = rich.deconvolve()\n",
    "s_l = logr.deconvolve()"
   ]
  },
  {
   "cell_type": "code",
   "execution_count": 33,
   "id": "7d648a8e-b4b8-41b7-84a2-39062d872ee0",
   "metadata": {},
   "outputs": [
    {
     "data": {
      "text/plain": [
       "<matplotlib.legend.Legend at 0x2be4b4334c0>"
      ]
     },
     "execution_count": 33,
     "metadata": {},
     "output_type": "execute_result"
    }
   ],
   "source": [
    "win = (800,1000) #normalization region in eV. \n",
    "fig, ax = plt.subplots()\n",
    "ax.plot(s.energy_axis, s.data/s.integrate(win), label='Raw spectrum')\n",
    "ax.plot(s.energy_axis, s_r.data/s_r.integrate(win), label='RL deconvolution')\n",
    "ax.plot(s.energy_axis, s_l.data/s_l.integrate(win), label='Gaussian modifier')\n",
    "ax.plot(s.energy_axis, sim.element_components[0].data/sim.element_components[0].integrate(win), label='Single scattering cross section')\n",
    "ax.legend()"
   ]
  },
  {
   "cell_type": "markdown",
   "id": "bbf1fcd4-ba79-4207-8c4b-7119994c6962",
   "metadata": {},
   "source": [
    "#### Deconvolution on multispectrum"
   ]
  },
  {
   "cell_type": "code",
   "execution_count": 30,
   "id": "daf3286b-91d5-43ff-8fc4-5e2ae70bfab1",
   "metadata": {},
   "outputs": [
    {
     "name": "stderr",
     "output_type": "stream",
     "text": [
      "4096it [00:07, 570.27it/s]\n",
      "4096it [00:01, 3724.96it/s]\n"
     ]
    }
   ],
   "source": [
    "rich = RichardsonLucyDeconvolution(rem, ll)\n",
    "logr = GaussianModifier(rem, ll, factor=4)\n",
    "\n",
    "\n",
    "rem_r = rich.deconvolve()\n",
    "rem_l = logr.deconvolve()"
   ]
  },
  {
   "cell_type": "code",
   "execution_count": 31,
   "id": "09996ad3-2f22-4f35-9584-5d7e4cf11d2d",
   "metadata": {},
   "outputs": [
    {
     "data": {
      "text/plain": [
       "<pyEELSMODEL.operators.multispectrumvisualizer.MultiSpectrumVisualizer at 0x2be497d9810>"
      ]
     },
     "execution_count": 31,
     "metadata": {},
     "output_type": "execute_result"
    }
   ],
   "source": [
    "labels= ['Raw spectrum', 'RL deconvolution', 'Gaussian modifier']\n",
    "em.MultiSpectrumVisualizer([rem, rem_r, rem_l], labels=labels)"
   ]
  }
 ],
 "metadata": {
  "kernelspec": {
   "display_name": "Python 3 (ipykernel)",
   "language": "python",
   "name": "python3"
  },
  "language_info": {
   "codemirror_mode": {
    "name": "ipython",
    "version": 3
   },
   "file_extension": ".py",
   "mimetype": "text/x-python",
   "name": "python",
   "nbconvert_exporter": "python",
   "pygments_lexer": "ipython3",
   "version": "3.10.13"
  }
 },
 "nbformat": 4,
 "nbformat_minor": 5
}
