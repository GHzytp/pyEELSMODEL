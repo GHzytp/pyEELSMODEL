{
 "cells": [
  {
   "cell_type": "markdown",
   "id": "95eee807-2a5e-490f-8c70-214058e0b1a4",
   "metadata": {},
   "source": [
    "# Calibrate Spectrum\n",
    "This notebook shows a small example on how to modify the energy axis using the information on the core loss edge energies. Sometimes no low loss is available to know the exact offset. It could also happen that the dispersion is not entirely correct and this method could try to resolve this when the exact energies of the core loss edges are known"
   ]
  },
  {
   "cell_type": "code",
   "execution_count": 1,
   "id": "bbdd58ed-724b-4fac-94c9-adac9fc90783",
   "metadata": {},
   "outputs": [],
   "source": [
    "%matplotlib qt\n",
    "#important for interactive plotting tools"
   ]
  },
  {
   "cell_type": "code",
   "execution_count": 2,
   "id": "36d4d47c-b390-459d-b8cd-c2776fc2ffab",
   "metadata": {},
   "outputs": [],
   "source": [
    "import pyEELSMODEL.api as em\n",
    "import copy"
   ]
  },
  {
   "cell_type": "markdown",
   "id": "461acb19-e657-4a76-ab7e-b263a6e6a856",
   "metadata": {},
   "source": [
    "## Simulation of multispectrum\n",
    "The multispecta will be simuluated and a wrong dispersion will be added to the multispectrum"
   ]
  },
  {
   "cell_type": "code",
   "execution_count": 3,
   "id": "bb52d1f6-e9bd-4cd5-9630-691a1de35958",
   "metadata": {},
   "outputs": [],
   "source": [
    "from pyEELSMODEL.misc.data_simulator import simulate_data"
   ]
  },
  {
   "cell_type": "code",
   "execution_count": 4,
   "id": "8ec92480-9b5c-4d38-8a25-f6a0782e0191",
   "metadata": {},
   "outputs": [
    {
     "name": "stderr",
     "output_type": "stream",
     "text": [
      "16384it [00:11, 1425.69it/s]\n"
     ]
    },
    {
     "name": "stdout",
     "output_type": "stream",
     "text": [
      "hll\n",
      "hll\n",
      "hll\n",
      "hll\n",
      "hll\n",
      "hll\n"
     ]
    },
    {
     "name": "stderr",
     "output_type": "stream",
     "text": [
      "16384it [00:26, 612.74it/s]\n",
      "16384it [00:00, 45905.35it/s]\n"
     ]
    },
    {
     "name": "stdout",
     "output_type": "stream",
     "text": [
      "Multispectrum is simulated\n"
     ]
    }
   ],
   "source": [
    "hl, ll = simulate_data()"
   ]
  },
  {
   "cell_type": "code",
   "execution_count": 5,
   "id": "b466ebde-7d99-44d6-80cb-dd5540c846c0",
   "metadata": {},
   "outputs": [],
   "source": [
    "cte = 1.01 #factor to change dispersion\n",
    "expected_dispersion = copy.deepcopy(hl.dispersion)\n",
    "hl.dispersion = hl.dispersion * cte\n",
    "ll.dispersion = ll.dispersion * cte"
   ]
  },
  {
   "cell_type": "markdown",
   "id": "2e931238-d9ee-4a65-8308-5a5a984fc94c",
   "metadata": {},
   "source": [
    "## Align Multispectrum\n",
    "The best practice is to first align the shifts before recalibrating the energy axis.  "
   ]
  },
  {
   "cell_type": "code",
   "execution_count": null,
   "id": "90d53671-5c00-4883-b54f-d5ea016a9e2b",
   "metadata": {},
   "outputs": [],
   "source": [
    "fast_align = em.FastAlignZeroLoss(ll, other_spectra=[hl], cropping=True)\n",
    "fast_align.perform_alignment()"
   ]
  },
  {
   "cell_type": "code",
   "execution_count": null,
   "id": "e14c27fe-a2df-47c1-806b-be256a2e0cee",
   "metadata": {},
   "outputs": [],
   "source": [
    "hl_al = fast_align.aligned_others[0] #the core loss multispectrum\n",
    "ll_al = fast_align.aligned #the low loss "
   ]
  },
  {
   "cell_type": "code",
   "execution_count": null,
   "id": "87eeca74-5eed-47b7-a854-918dd3be35f6",
   "metadata": {
    "scrolled": true
   },
   "outputs": [],
   "source": [
    "em.MultiSpectrumVisualizer([ll_al, hl_al], logscale=True)"
   ]
  },
  {
   "cell_type": "markdown",
   "id": "d78b67f9-3856-4766-a958-d43525f297f6",
   "metadata": {},
   "source": [
    "## Calibrate spectrum\n",
    "The average spectrum can be used as input while the multispectrum can be corrected simultaneously. Note that the edge are also indicated by the number and not only the letter. To be able to calibrate the energy axis, it is necessary to have at least two points (two edges)."
   ]
  },
  {
   "cell_type": "code",
   "execution_count": null,
   "id": "d2fa61f3-46aa-4075-857b-2a5ce4927fa6",
   "metadata": {},
   "outputs": [],
   "source": [
    "elements = ['C', 'N', 'O', 'Fe', 'Fe']\n",
    "edges = ['K1', 'K1', 'K1', 'L3', 'L2']\n",
    "cal = em.CalibrateSpectrum(hl_al.mean(), elements, edges, other_spectra=[hl_al, ll_al])"
   ]
  },
  {
   "cell_type": "markdown",
   "id": "dc23bc93-04cf-4ee8-904f-39304c118027",
   "metadata": {},
   "source": [
    "Shows the expected energies and if it matches with the edge onsets"
   ]
  },
  {
   "cell_type": "code",
   "execution_count": null,
   "id": "0a7c0e8f-13c9-46ac-a9f9-aadb582c1d48",
   "metadata": {},
   "outputs": [],
   "source": [
    "cal.show_real_energies()"
   ]
  },
  {
   "cell_type": "markdown",
   "id": "986c525c-6c76-4783-8856-ddd15e742898",
   "metadata": {},
   "source": [
    "User input where the right click indicates the energy seen on the spectrum itself. The order should match with how you input the edges itself. After clicking, a black line should appear and the selected energy of the edge is indicated. "
   ]
  },
  {
   "cell_type": "code",
   "execution_count": null,
   "id": "ad6863d9-1c2b-4e36-a7d1-c166bb3c3394",
   "metadata": {},
   "outputs": [],
   "source": [
    "cal.determine_edge_positions()"
   ]
  },
  {
   "cell_type": "code",
   "execution_count": null,
   "id": "ddd1b13a-e881-431c-b8c3-4a004c44fbc8",
   "metadata": {},
   "outputs": [],
   "source": [
    "cal.calibrate_energy_axis()"
   ]
  },
  {
   "cell_type": "code",
   "execution_count": null,
   "id": "fc424a28-6581-479e-b4b1-e52e71a745c9",
   "metadata": {},
   "outputs": [],
   "source": [
    "cal.show_calibration_fit()"
   ]
  },
  {
   "cell_type": "code",
   "execution_count": null,
   "id": "1a199d2f-9fd2-48ea-97df-a254d09d82a6",
   "metadata": {},
   "outputs": [],
   "source": [
    "cal_hlmean = cal.spectrum"
   ]
  },
  {
   "cell_type": "code",
   "execution_count": null,
   "id": "194ef9cc-319b-442a-bab6-d7f430b1c876",
   "metadata": {},
   "outputs": [],
   "source": [
    "print('Initial dispersion was: {} eV'.format(hl_al.dispersion))\n",
    "print('Updated dispersion is: {} eV'.format(cal_hlmean.dispersion))\n",
    "print('Expected dispersion is: {} eV'.format(expected_dispersion)"
   ]
  },
  {
   "cell_type": "code",
   "execution_count": null,
   "id": "bd40f3b9-141b-441f-9f1b-9598cb648e38",
   "metadata": {},
   "outputs": [],
   "source": [
    "cal_hl = cal.other_spectra[0] #new updated multispectrum with right dispersion\n",
    "cal_ll = cal.other_spectra[1] "
   ]
  },
  {
   "cell_type": "markdown",
   "id": "a0a49d5e-71b9-4304-98fe-a70d507e36da",
   "metadata": {},
   "source": [
    "Small check can be done to see if the new energy axis is correct."
   ]
  },
  {
   "cell_type": "code",
   "execution_count": null,
   "id": "0f6c25d6-c814-4804-bff1-5e1a8d5f49dc",
   "metadata": {},
   "outputs": [],
   "source": [
    "cal.show_real_energies()"
   ]
  },
  {
   "cell_type": "markdown",
   "id": "5a456ff1-0104-41bf-98e3-813b9bc110e3",
   "metadata": {},
   "source": [
    "In order to reduce the user-input one could save the new obtained multispectrum or do the following thing"
   ]
  },
  {
   "cell_type": "code",
   "execution_count": null,
   "id": "ff7496ee-12cf-4e5e-9265-2b71a1df15a4",
   "metadata": {},
   "outputs": [],
   "source": [
    "cal_auto = em.CalibrateSpectrum(hl_al.mean(), elements, edges, other_spectra=[hl_al, ll_al])\n",
    "\n",
    "#the coords obtained from the previous method \n",
    "cal_auto.coords = [284.174602224911,\n",
    " 403.5955056419095,\n",
    " 534.9006627834328,\n",
    " 712.150902005906,\n",
    " 725.4287855870457]"
   ]
  },
  {
   "cell_type": "code",
   "execution_count": null,
   "id": "e88f33e3-f5a2-4b62-8b88-ac01c45daab1",
   "metadata": {},
   "outputs": [],
   "source": [
    "cal_auto.calibrate_energy_axis()"
   ]
  },
  {
   "cell_type": "code",
   "execution_count": null,
   "id": "1bb6fc02-da6d-4c2d-95b2-4c974c540576",
   "metadata": {},
   "outputs": [],
   "source": [
    "cal_auto.show_calibration_fit()"
   ]
  },
  {
   "cell_type": "code",
   "execution_count": null,
   "id": "e69105c8-c2d7-4978-b7be-a896d7fbb2ba",
   "metadata": {},
   "outputs": [],
   "source": [
    "cal_auto.show_real_energies()"
   ]
  },
  {
   "cell_type": "code",
   "execution_count": null,
   "id": "8b1f67fa-4a3a-410d-a5c4-45e00bb21ac5",
   "metadata": {},
   "outputs": [],
   "source": [
    "print('Initial dispersion was: {} eV'.format(hl_al.dispersion))\n",
    "print('Updated dispersion is: {} eV'.format(cal_hlmean.dispersion))\n",
    "print('Expected dispersion is: {} eV'.format(expected_dispersion)"
   ]
  }
 ],
 "metadata": {
  "kernelspec": {
   "display_name": "Python 3 (ipykernel)",
   "language": "python",
   "name": "python3"
  },
  "language_info": {
   "codemirror_mode": {
    "name": "ipython",
    "version": 3
   },
   "file_extension": ".py",
   "mimetype": "text/x-python",
   "name": "python",
   "nbconvert_exporter": "python",
   "pygments_lexer": "ipython3",
   "version": "3.10.0"
  }
 },
 "nbformat": 4,
 "nbformat_minor": 5
}
