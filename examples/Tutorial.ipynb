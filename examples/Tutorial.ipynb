{
 "cells": [
  {
   "cell_type": "markdown",
   "id": "b4aceea7-a208-490f-b959-82c8582ec39f",
   "metadata": {},
   "source": [
    "# Introduction to pyEELSMODEL\n",
    "In this notebook, a small overview is given on the different functionalities of pyEELSMODEL. The other notebooks are more in-depth on how to use the model-based approach for elemental quantification. "
   ]
  },
  {
   "cell_type": "code",
   "execution_count": 1,
   "id": "3f3a2bbe-6c0c-4670-bbc6-bc83b09fc70e",
   "metadata": {},
   "outputs": [],
   "source": [
    "%matplotlib qt\n",
    "#important for interactive plotting tools"
   ]
  },
  {
   "cell_type": "code",
   "execution_count": 2,
   "id": "84833729-c814-4d01-978d-83715d94680d",
   "metadata": {},
   "outputs": [],
   "source": [
    "import pyEELSMODEL.api as em\n",
    "import os\n",
    "import numpy as np\n",
    "import matplotlib.pyplot as plt"
   ]
  },
  {
   "cell_type": "markdown",
   "id": "bd37b8b0-6c77-460b-84d2-7cd6e64b7bb5",
   "metadata": {},
   "source": [
    "## Loading and Saving Data\n",
    "Different file formats such as *.msa*, *.dm3* and *.dm4* are supported. The Spectrum and MultiSpectrum can be saved as a *.hdf5* file. \\\n",
    "For the *.dm3/4* files there could be a bug in the loader when the energy axis has negative values (zero loss peak). If this is bug arises then it can be fixed to put flip_sign = True in the loading function. "
   ]
  },
  {
   "cell_type": "markdown",
   "id": "3c05433a-2f23-4ea3-8e9e-bcc9a8ce8f37",
   "metadata": {},
   "source": [
    "#### Spectrum loading\n",
    "Many function contain docstrings, one can access the documentation via following command"
   ]
  },
  {
   "cell_type": "code",
   "execution_count": 3,
   "id": "15090810-23af-4a78-a2be-3e617dfb60d1",
   "metadata": {},
   "outputs": [
    {
     "data": {
      "text/plain": [
       "\u001b[1;31mSignature:\u001b[0m \u001b[0mem\u001b[0m\u001b[1;33m.\u001b[0m\u001b[0mSpectrum\u001b[0m\u001b[1;33m.\u001b[0m\u001b[0mload\u001b[0m\u001b[1;33m(\u001b[0m\u001b[0mfilename\u001b[0m\u001b[1;33m,\u001b[0m \u001b[0mflip_sign\u001b[0m\u001b[1;33m=\u001b[0m\u001b[1;32mFalse\u001b[0m\u001b[1;33m,\u001b[0m \u001b[1;33m**\u001b[0m\u001b[0mkwargs\u001b[0m\u001b[1;33m)\u001b[0m\u001b[1;33m\u001b[0m\u001b[1;33m\u001b[0m\u001b[0m\n",
       "\u001b[1;31mDocstring:\u001b[0m\n",
       "Loads different types of data. The possible datatypes are: .hdf5,\n",
       ".hspy, .dm3/.dm4 and .msa.\n",
       "\n",
       "Parameters\n",
       "----------\n",
       "filename : string\n",
       "   String of the filename where the extention should be '.hdf5'\n",
       "flip_sign: boolean\n",
       "    Indicates whether the offset value should be negative when loading\n",
       "    a .dm file. (default: False)\n",
       "\n",
       "Returns\n",
       "-------\n",
       "s: Spectrum\n",
       "    The spectrum which is contained in the filename\n",
       "\u001b[1;31mFile:\u001b[0m      c:\\users\\djannis\\pycharmprojects\\project\\pyeelsmodel\\pyeelsmodel\\core\\spectrum.py\n",
       "\u001b[1;31mType:\u001b[0m      method"
      ]
     },
     "metadata": {},
     "output_type": "display_data"
    }
   ],
   "source": [
    "em.Spectrum.load?"
   ]
  },
  {
   "cell_type": "code",
   "execution_count": 4,
   "id": "eda0afc9-7467-403d-bebb-4f6d9d1861d5",
   "metadata": {},
   "outputs": [
    {
     "name": "stderr",
     "output_type": "stream",
     "text": [
      "this will change the size and contents of the current spectrum\n"
     ]
    }
   ],
   "source": [
    "filename = os.path.join('data', 'hl.msa')\n",
    "s = em.Spectrum.load(filename)"
   ]
  },
  {
   "cell_type": "code",
   "execution_count": 5,
   "id": "7b57631b-8357-4343-9bc8-e0f1e1e97ec8",
   "metadata": {},
   "outputs": [],
   "source": [
    "s.plot()"
   ]
  },
  {
   "cell_type": "markdown",
   "id": "e695029b-12ad-41e6-aed1-12844374332a",
   "metadata": {},
   "source": [
    "A spectrum can also be created by first creating a SpectrumShape which needs to know the dispersion, offset and size. Next, the Spectrum needs to have the Spectrumshape and raw data"
   ]
  },
  {
   "cell_type": "code",
   "execution_count": 6,
   "id": "1d9b6dc5-de50-487c-bd96-d029477ad72a",
   "metadata": {},
   "outputs": [],
   "source": [
    "dispersion = 1\n",
    "offset = 100\n",
    "size = 100\n",
    "data = np.random.random(size)\n",
    "\n",
    "specshape = em.Spectrumshape(dispersion, offset, size)\n",
    "s = em.Spectrum(specshape, data)"
   ]
  },
  {
   "cell_type": "code",
   "execution_count": 7,
   "id": "e2cde318-dfb5-4861-b798-f4b1cdb2b027",
   "metadata": {},
   "outputs": [],
   "source": [
    "s.plot()"
   ]
  },
  {
   "cell_type": "markdown",
   "id": "5fbb640c-cd96-4bb6-abf3-d9a42aae125d",
   "metadata": {},
   "source": [
    "When the energy axis is given and the raw data is available, the following code can be used to create a spectrum"
   ]
  },
  {
   "cell_type": "code",
   "execution_count": 8,
   "id": "db577825-304a-472c-99cb-e9bf3f5a4638",
   "metadata": {},
   "outputs": [],
   "source": [
    "energy_axis = dispersion*np.arange(size)+offset\n",
    "data = np.random.random(size)\n",
    "s = em.Spectrum.from_numpy(data, energy_axis)"
   ]
  },
  {
   "cell_type": "code",
   "execution_count": 9,
   "id": "a43871d2-098b-4c0d-b69f-bc245df812e2",
   "metadata": {},
   "outputs": [],
   "source": [
    "s.plot()"
   ]
  },
  {
   "cell_type": "markdown",
   "id": "01fa7fae-89d3-462f-afc3-5805e8638775",
   "metadata": {},
   "source": [
    "#### Spectrum saving\n",
    "The spectrum can be saved as *.hdf5*. "
   ]
  },
  {
   "cell_type": "code",
   "execution_count": 10,
   "id": "2d14a21d-3300-4579-b10a-d4cb97a35b15",
   "metadata": {},
   "outputs": [
    {
     "data": {
      "text/plain": [
       "False"
      ]
     },
     "execution_count": 10,
     "metadata": {},
     "output_type": "execute_result"
    }
   ],
   "source": [
    "savename = r'.\\data\\hl_test.hdf5'\n",
    "s.save_hdf5(savename)"
   ]
  },
  {
   "cell_type": "code",
   "execution_count": 11,
   "id": "c953c4e1-a371-4f26-ac5f-1b8b58013ef0",
   "metadata": {},
   "outputs": [],
   "source": [
    "p = em.Spectrum.load(savename)"
   ]
  },
  {
   "cell_type": "code",
   "execution_count": 12,
   "id": "b92bc9c9-31b3-4b97-bd29-56c241cb7401",
   "metadata": {},
   "outputs": [],
   "source": [
    "p.plot()"
   ]
  },
  {
   "cell_type": "markdown",
   "id": "ff91cec7-f660-47d9-befd-11430a86903c",
   "metadata": {},
   "source": [
    "#### MultiSpectrum loading"
   ]
  },
  {
   "cell_type": "code",
   "execution_count": 13,
   "id": "3cd946f0-d03b-4d34-b1ef-ae39f0f25a27",
   "metadata": {},
   "outputs": [],
   "source": [
    "filename = os.path.join('data', 'multi.hdf5')\n",
    "s = em.MultiSpectrum.load(filename)"
   ]
  },
  {
   "cell_type": "code",
   "execution_count": 14,
   "id": "176d53c9-1e80-4633-9bd4-0c431187b419",
   "metadata": {},
   "outputs": [
    {
     "name": "stdout",
     "output_type": "stream",
     "text": [
      "current spectrum id is: (0, 0)\n"
     ]
    }
   ],
   "source": [
    "#shows the current selected spectrum\n",
    "print('current spectrum id is: ' + str(s.currentspectrumid))\n",
    "s.plot()"
   ]
  },
  {
   "cell_type": "code",
   "execution_count": 15,
   "id": "831e3513-c3e5-4c7f-91d0-4a34c7624d3e",
   "metadata": {},
   "outputs": [],
   "source": [
    "s.setcurrentspectrum((2,1))"
   ]
  },
  {
   "cell_type": "code",
   "execution_count": 16,
   "id": "d1f90fa7-1db6-448e-b7f0-28a350cb93a4",
   "metadata": {},
   "outputs": [
    {
     "name": "stdout",
     "output_type": "stream",
     "text": [
      "current spectrum id is: (2, 1)\n"
     ]
    }
   ],
   "source": [
    "print('current spectrum id is: ' + str(s.currentspectrumid))\n",
    "s.plot()"
   ]
  },
  {
   "cell_type": "code",
   "execution_count": 17,
   "id": "971d0a6a-f4e6-44b9-9899-d4cfbb553088",
   "metadata": {},
   "outputs": [],
   "source": [
    "#plots the average spectrum\n",
    "s.mean().plot()"
   ]
  },
  {
   "cell_type": "markdown",
   "id": "782f5d8c-9868-462e-8720-d79ec567a460",
   "metadata": {},
   "source": [
    "A multispectrum can also be created by having a MultiSpectrumshape object together with the raw data"
   ]
  },
  {
   "cell_type": "code",
   "execution_count": 18,
   "id": "61b7576a-be54-4381-a245-e48ce9e0ddac",
   "metadata": {},
   "outputs": [],
   "source": [
    "dispersion = 1\n",
    "offset = 100\n",
    "size = 100\n",
    "xsize = 4\n",
    "ysize = 2\n",
    "data = np.random.random((xsize, ysize, size))\n",
    "\n",
    "m_specshape = em.MultiSpectrumshape(dispersion, offset, size, xsize, ysize)\n",
    "s = em.MultiSpectrum(m_specshape, data)"
   ]
  },
  {
   "cell_type": "markdown",
   "id": "0224fddb-37f9-4169-8098-6da066de538a",
   "metadata": {},
   "source": [
    "Or from a numpy array and energy axis"
   ]
  },
  {
   "cell_type": "code",
   "execution_count": 19,
   "id": "6d25ad34-5279-4ae0-8c0c-29f49d60525c",
   "metadata": {},
   "outputs": [],
   "source": [
    "energy_axis = dispersion*np.arange(size)+offset\n",
    "data = np.random.random((xsize, ysize, size))\n",
    "s = em.MultiSpectrum.from_numpy(data, energy_axis)"
   ]
  },
  {
   "cell_type": "markdown",
   "id": "4f7b6601-9d4b-425b-b379-810331e99e27",
   "metadata": {},
   "source": [
    "#### MultiSpectrum saving\n"
   ]
  },
  {
   "cell_type": "code",
   "execution_count": 20,
   "id": "d541c193-5426-467f-bd2d-75700b2d903a",
   "metadata": {},
   "outputs": [
    {
     "data": {
      "text/plain": [
       "\u001b[1;31mSignature:\u001b[0m \u001b[0ms\u001b[0m\u001b[1;33m.\u001b[0m\u001b[0msave_hdf5\u001b[0m\u001b[1;33m(\u001b[0m\u001b[0mfilename\u001b[0m\u001b[1;33m,\u001b[0m \u001b[0mmetadata\u001b[0m\u001b[1;33m=\u001b[0m\u001b[1;32mNone\u001b[0m\u001b[1;33m,\u001b[0m \u001b[0moverwrite\u001b[0m\u001b[1;33m=\u001b[0m\u001b[1;32mFalse\u001b[0m\u001b[1;33m)\u001b[0m\u001b[1;33m\u001b[0m\u001b[1;33m\u001b[0m\u001b[0m\n",
       "\u001b[1;31mDocstring:\u001b[0m\n",
       "Saves the spectrum as a hdf5 file. The structure of the file can easily\n",
       "be investigated via a hdfview software.\n",
       "\n",
       "Parameters\n",
       "----------\n",
       "filename : string\n",
       "    filename of the saved file.\n",
       "metadata: dictionary\n",
       "    A dictionary containing E0, alpha, beta, elements and edges can be\n",
       "    added to the hdf5 file. If None is given, nothing will be saved.\n",
       "overwrite: boolean\n",
       "    Indicates if the file will be overwritten if it already exists.\n",
       "    (default: False)\n",
       "Returns\n",
       "-------\n",
       "If the file saving workes, a True value is returned.\n",
       "\u001b[1;31mFile:\u001b[0m      c:\\users\\djannis\\pycharmprojects\\project\\pyeelsmodel\\pyeelsmodel\\core\\multispectrum.py\n",
       "\u001b[1;31mType:\u001b[0m      method"
      ]
     },
     "metadata": {},
     "output_type": "display_data"
    }
   ],
   "source": [
    "s.save_hdf5?"
   ]
  },
  {
   "cell_type": "code",
   "execution_count": 21,
   "id": "bf9a85ed-8412-469f-9c55-456d2edf05a3",
   "metadata": {},
   "outputs": [
    {
     "name": "stdout",
     "output_type": "stream",
     "text": [
      "not overwriting\n"
     ]
    },
    {
     "data": {
      "text/plain": [
       "False"
      ]
     },
     "execution_count": 21,
     "metadata": {},
     "output_type": "execute_result"
    }
   ],
   "source": [
    "savename = os.path.join('data', 'multi_test.hdf5')\n",
    "s.save_hdf5(savename)"
   ]
  },
  {
   "cell_type": "markdown",
   "id": "9d929e35-cf08-403f-a2d8-27f2873fd3c0",
   "metadata": {},
   "source": [
    "## STEM-EELS Simulation\n",
    "In this part, a simulated STEM-EELS map is created which will be used to showcase the different functionalities of pyEELSMODEL.\n",
    "It contains a low-loss and core-loss. The core-loss has carbon K edge, nitrogen K edge, oxygen K edge and iron L edge and has a scan size of 128x128. *In the CoreLossExampleExtended notebook, the procedure of simulating this multispectrum is shown.* "
   ]
  },
  {
   "cell_type": "code",
   "execution_count": 22,
   "id": "4bc7c9c8-cb6d-43d0-8a14-e4402f46d892",
   "metadata": {},
   "outputs": [],
   "source": [
    "from pyEELSMODEL.misc.data_simulator import simulate_data"
   ]
  },
  {
   "cell_type": "code",
   "execution_count": 23,
   "id": "efaf55fb-3d4d-4db1-b7d3-5c4065e66629",
   "metadata": {
    "scrolled": true
   },
   "outputs": [
    {
     "name": "stderr",
     "output_type": "stream",
     "text": [
      "16384it [00:13, 1216.67it/s]\n",
      "16384it [00:37, 439.14it/s]\n",
      "16384it [00:00, 38290.51it/s]\n"
     ]
    },
    {
     "name": "stdout",
     "output_type": "stream",
     "text": [
      "Multispectrum is simulated\n"
     ]
    }
   ],
   "source": [
    "hl, ll = simulate_data()"
   ]
  },
  {
   "cell_type": "markdown",
   "id": "4e9e8941-08f8-4ef9-8b86-b1a59863e2f2",
   "metadata": {},
   "source": [
    "## Aligning multispectra\n",
    "The core-loss gets aligned using the low-loss. Multiple methods are available for find the appropriate shifts and correct for it.\n",
    "\n",
    "1. **FastAlignZeroLoss**: Uses the energy at which the maximum intensity is measured. The found shifts are applied by rolling each spectra to make it align. This method is fast and does not modify the inputted data via interpolation. Hence it cannot find subpixel positions. This method works best when the zero-loss peak is sharp and has a high intensity which is valid in most cases. In our experience, this method works really well for elemental quantification.\n",
    "2. **AlignZeroLoss**: Fits a model to the zero-loss peak where the model is a Gaussian or Lorentzian function which needs to be specified by the user. This method is a lot slower and can be unstable due to its non-linear fitting procedure but has the potential to correct for subpixel shifts and works for a noisy and not sharp zero-loss peak.\n",
    "3. **AlignCrossCorrelation**: Finds the shift which gives the best similarity between two spectra by cross correlation the two spectra. Subpixel accuracy can be obtained via interpolating the experimental data and finding the shift. This method is generally faster than the AlignZeroLoss but could fail if the low loss spectra are not very similar to each other. This method can also be used to align core-loss signal when no low-loss is available. \n"
   ]
  },
  {
   "cell_type": "code",
   "execution_count": 24,
   "id": "8c2abcb4-6f18-42a4-8998-a9a40281d4c3",
   "metadata": {},
   "outputs": [],
   "source": [
    "fast_align = em.FastAlignZeroLoss(ll, other_spectra=[hl], cropping=True)\n",
    "align = em.AlignZeroLoss(ll, other_spectra=[hl], cropping=True)\n",
    "cros_align = em.AlignCrossCorrelation(ll, other_spectra=[hl], cropping=True, is_zlp=True)"
   ]
  },
  {
   "cell_type": "code",
   "execution_count": 25,
   "id": "5f285a7e-dbe9-4a50-a228-6226b792d8d1",
   "metadata": {
    "scrolled": true
   },
   "outputs": [
    {
     "name": "stdout",
     "output_type": "stream",
     "text": [
      "Start using FastAlignZeroLoss object\n",
      "Stop using FastAlignZeroLoss object\n",
      "Start using AlignZeroLoss object\n",
      "Estimates the parameters for the fitting procedure\n"
     ]
    },
    {
     "name": "stderr",
     "output_type": "stream",
     "text": [
      "16384it [00:43, 378.53it/s]\n",
      "16384it [00:03, 4392.15it/s]\n"
     ]
    },
    {
     "name": "stdout",
     "output_type": "stream",
     "text": [
      "Stop using AlignZeroLoss object\n",
      "Start using AlignCrossCorrelation object\n"
     ]
    },
    {
     "name": "stderr",
     "output_type": "stream",
     "text": [
      "16384it [00:08, 2012.52it/s]\n",
      "16384it [00:03, 4525.90it/s]"
     ]
    },
    {
     "name": "stdout",
     "output_type": "stream",
     "text": [
      "Stop using AlignCrossCorrelation object\n"
     ]
    },
    {
     "name": "stderr",
     "output_type": "stream",
     "text": [
      "\n"
     ]
    }
   ],
   "source": [
    "print('Start using FastAlignZeroLoss object')\n",
    "fast_align.perform_alignment()\n",
    "print('Stop using FastAlignZeroLoss object')\n",
    "print('Start using AlignZeroLoss object')\n",
    "align.perform_alignment()\n",
    "print('Stop using AlignZeroLoss object')\n",
    "print('Start using AlignCrossCorrelation object')\n",
    "cros_align.perform_alignment()\n",
    "print('Stop using AlignCrossCorrelation object')"
   ]
  },
  {
   "cell_type": "markdown",
   "id": "3cfdb879-cca0-42bf-9d32-0bb0b57124c9",
   "metadata": {},
   "source": [
    "The applied shift can be visualized"
   ]
  },
  {
   "cell_type": "code",
   "execution_count": 26,
   "id": "65c13ff2-2985-4c32-8d7d-fd89a8a85415",
   "metadata": {},
   "outputs": [],
   "source": [
    "fig = fast_align.show_shift()"
   ]
  },
  {
   "cell_type": "markdown",
   "id": "6b17ae16-3e2e-4eed-afb3-c66fc32b23d9",
   "metadata": {},
   "source": [
    "The average zero-loss peak can be shown to see if it indeed improved the sharpness. If this is not the case then something went wrong during the alignment procedure"
   ]
  },
  {
   "cell_type": "code",
   "execution_count": 27,
   "id": "8d12caa2-1966-4487-a39c-dcb41a6c2de6",
   "metadata": {},
   "outputs": [],
   "source": [
    "fig = fast_align.show_alignment_result()"
   ]
  },
  {
   "cell_type": "code",
   "execution_count": 28,
   "id": "4072e0bb-5ad9-417c-8914-47681f13c3c4",
   "metadata": {},
   "outputs": [],
   "source": [
    "#redefining the new alignemet multispectra\n",
    "hl_al = fast_align.aligned_others[0]\n",
    "ll_al = fast_align.aligned"
   ]
  },
  {
   "cell_type": "markdown",
   "id": "11f2edc8-172f-48b6-8c4a-3f144de34969",
   "metadata": {},
   "source": [
    "## Operations on Spectrum and MultiSpectrum\n",
    "Some simple operations which can be performed on spectra and multispectra are shown"
   ]
  },
  {
   "cell_type": "markdown",
   "id": "9ddb02ca-6998-4ec3-945c-ceb4637e3a85",
   "metadata": {},
   "source": [
    "The raw data and energy axis can be accessed by following command"
   ]
  },
  {
   "cell_type": "code",
   "execution_count": null,
   "id": "615eb4d6-af40-4f88-b21d-ff425eec9e37",
   "metadata": {},
   "outputs": [],
   "source": [
    "raw_data = hl_al[0,0].data\n",
    "print('raw data')\n",
    "print(raw_data)\n",
    "energy_axis = hl_al.energy_axis\n",
    "print('energy axis')\n",
    "print(energy_axis)"
   ]
  },
  {
   "cell_type": "markdown",
   "id": "e62f3c92-4cb2-4c23-beb3-efffe0ce56ec",
   "metadata": {},
   "source": [
    "Get the aveage spectrum of the multispectrum"
   ]
  },
  {
   "cell_type": "code",
   "execution_count": null,
   "id": "51fa4440-c13b-4d1b-84cd-7486dcd4dcb8",
   "metadata": {},
   "outputs": [],
   "source": [
    "spec = hl_al.mean()"
   ]
  },
  {
   "cell_type": "markdown",
   "id": "f3acc4b6-b116-4ef6-84fb-2025c44b4b3d",
   "metadata": {},
   "source": [
    "Get the index of the 315 eV energy position."
   ]
  },
  {
   "cell_type": "code",
   "execution_count": null,
   "id": "fab7bd24-4329-469f-a18e-2d3a71fac268",
   "metadata": {},
   "outputs": [],
   "source": [
    "index = hl_al.get_energy_index(315)\n",
    "print('The index of the 315 eV energy loss is: '+str(index))"
   ]
  },
  {
   "cell_type": "markdown",
   "id": "e6f2858c-9848-40b3-aeae-17a883d4f8bb",
   "metadata": {},
   "source": [
    "Gaussian smooting of the spectrum, the boundaries will not resemble reality since the convolution is performed with FFT which assumes symmetric boundary conditions. "
   ]
  },
  {
   "cell_type": "code",
   "execution_count": null,
   "id": "feb18ded-f944-4662-8181-81182ff4fe39",
   "metadata": {},
   "outputs": [],
   "source": [
    "smth = hl_al[10,10,:].gaussiansmooth(2)\n",
    "fig, ax  = plt.subplots()\n",
    "ax.plot(hl_al.energy_axis, hl_al[10,10].data, label='Raw')\n",
    "ax.plot(smth.energy_axis, smth.data, label='Smoothed')\n",
    "ax.legend()"
   ]
  },
  {
   "cell_type": "markdown",
   "id": "1eecb5d5-0cd8-478b-8d23-b829c1c59bd0",
   "metadata": {},
   "source": [
    "The multispectrum object can be sliced to select a part of the multispectrum. Slicing is not implemented for the energy direction."
   ]
  },
  {
   "cell_type": "code",
   "execution_count": null,
   "id": "2c819723-74a3-49a7-b7cc-d90c317d54fa",
   "metadata": {},
   "outputs": [],
   "source": [
    "sub = hl_al[4:10, 3:8, :]\n",
    "print('x size of the multispectrum is: '+str(sub.xsize))\n",
    "print('y size of the multispectrum is: '+str(sub.ysize))\n",
    "sub.mean().plot()"
   ]
  },
  {
   "cell_type": "markdown",
   "id": "34293fb0-ebb8-4b49-b8f6-9ae63de1e2dc",
   "metadata": {},
   "source": [
    "To get a subpart of the energy axis, following function can be used"
   ]
  },
  {
   "cell_type": "code",
   "execution_count": null,
   "id": "28773206-66d0-40c9-9919-a66412cd5cfe",
   "metadata": {},
   "outputs": [],
   "source": [
    "sub = hl_al.get_interval((500.,900.))\n",
    "print('Start of the energy axis is: '+str(sub.offset))\n",
    "sub.mean().plot()"
   ]
  },
  {
   "cell_type": "markdown",
   "id": "e2159244-76e4-4d12-822f-2f05a3c68e99",
   "metadata": {},
   "source": [
    "Integrating the multispectrum over a certain energy range"
   ]
  },
  {
   "cell_type": "code",
   "execution_count": null,
   "id": "5d163cc1-2222-4963-b4b4-ea72dc3ab786",
   "metadata": {},
   "outputs": [],
   "source": [
    "integral = hl_al.integrate((600,800))\n",
    "fig, ax = plt.subplots()\n",
    "ax.imshow(integral)"
   ]
  },
  {
   "cell_type": "markdown",
   "id": "afd1a452-9f11-4337-935b-ae39da7f4ce7",
   "metadata": {},
   "source": [
    "Rebinning on the multispectrum can be performed. The rebinning factors should be positive integers since a kernel of rebinning size is used to perform the rebinning"
   ]
  },
  {
   "cell_type": "code",
   "execution_count": null,
   "id": "6cb32a7b-5f38-4bca-a65f-1a5966414ae9",
   "metadata": {},
   "outputs": [],
   "source": [
    "rb = (4,2,2)\n",
    "hl_rb = hl_al.rebin(rb)"
   ]
  },
  {
   "cell_type": "code",
   "execution_count": null,
   "id": "52564025-60a8-47a6-8353-257c8e9fda02",
   "metadata": {},
   "outputs": [],
   "source": [
    "print('new xsize is: ' +str(hl_rb.xsize))\n",
    "print('new ysize is: ' +str(hl_rb.ysize))\n",
    "print('new Esize is: ' +str(hl_rb.size))"
   ]
  },
  {
   "cell_type": "code",
   "execution_count": null,
   "id": "28f89ad5-a053-4860-a483-01aea336fdb6",
   "metadata": {},
   "outputs": [],
   "source": [
    "hl_rb.mean().plot()"
   ]
  },
  {
   "cell_type": "markdown",
   "id": "3bda2022-1178-435a-8cc4-72995527d3f7",
   "metadata": {},
   "source": [
    "## Visualization methods\n",
    "Some classes are defined which provide some live user input to navigate through the data. "
   ]
  },
  {
   "cell_type": "markdown",
   "id": "1fb6f545-01b4-4fd9-81c0-ea7428bd4ff1",
   "metadata": {},
   "source": [
    "##### MultiSpectrumVisualizer\n",
    "The em.MultiSpectrumVisualizer object gives the ability to navigate through a MultiSpectrum.\n",
    "\n",
    "- **The arrows** on the keyboard are used to change the rectangle position.\n",
    "  \n",
    "- **'+' key** increases the area on which to visualize the spectrum and takes the average.\n",
    "  \n",
    "- **'-' key** decreases the area\n",
    "  \n",
    "-  **Mouse** can be used to drag the rectangle over multispectrum by **left  mouse** clicking inside the rectangle holding it and dragging"
   ]
  },
  {
   "cell_type": "code",
   "execution_count": 29,
   "id": "6ffa9c8b-ff84-4eb7-9af7-c58c2814ac6b",
   "metadata": {},
   "outputs": [
    {
     "data": {
      "text/plain": [
       "<pyEELSMODEL.operators.multispectrumvisualizer.MultiSpectrumVisualizer at 0x1f7b8572b00>"
      ]
     },
     "execution_count": 29,
     "metadata": {},
     "output_type": "execute_result"
    }
   ],
   "source": [
    "#shows one multispectrum\n",
    "em.MultiSpectrumVisualizer([hl_al], labels=['Experimental data'])"
   ]
  },
  {
   "cell_type": "code",
   "execution_count": null,
   "id": "decd7fe4-d318-423b-87f5-dafeae8461e0",
   "metadata": {},
   "outputs": [],
   "source": [
    "#multiple multispectra with the same xsize, ysize can be shown.\n",
    "em.MultiSpectrumVisualizer([ll_al, hl_al], labels=['low loss', 'core loss'], logscale=True)"
   ]
  },
  {
   "cell_type": "markdown",
   "id": "7e12d5e5-0ce8-438b-a013-e44dfb7a7590",
   "metadata": {},
   "source": [
    "A line spectrum can be made from the multispectrum by averaging along one axis"
   ]
  },
  {
   "cell_type": "code",
   "execution_count": null,
   "id": "f3db6beb-e700-4858-9255-475a7ee7bd02",
   "metadata": {},
   "outputs": [],
   "source": [
    "hl_line = hl_al.mean(1)"
   ]
  },
  {
   "cell_type": "code",
   "execution_count": null,
   "id": "799ff32a-d9c7-4ee8-a4fd-fede67643010",
   "metadata": {},
   "outputs": [],
   "source": [
    "em.MultiSpectrumVisualizer([hl_line], labels=['line spectrum'])"
   ]
  },
  {
   "cell_type": "markdown",
   "id": "884ba1ae-8150-4f13-bed2-cd1d905702ae",
   "metadata": {},
   "source": [
    "##### AreaSelection\n",
    "The em.AreaSelection object gives the ability to draw shapes on the map and extract the average spectrum from that area. The **right mouse click** is used to select the points of the area"
   ]
  },
  {
   "cell_type": "code",
   "execution_count": null,
   "id": "bdaed87f-d631-457d-83ff-6c8726d6d4d8",
   "metadata": {},
   "outputs": [],
   "source": [
    "area = em.AreaSelection(hl_al, max_points=5, other_spectra=[ll_al])"
   ]
  },
  {
   "cell_type": "markdown",
   "id": "5171e7b9-4e61-4ac5-9cf8-8072ca9b9148",
   "metadata": {},
   "source": [
    "The .determine_input_area() shows the image on which to select a region."
   ]
  },
  {
   "cell_type": "code",
   "execution_count": null,
   "id": "6e69c06f-4957-4e96-9cf0-5450371da73d",
   "metadata": {},
   "outputs": [],
   "source": [
    "area.determine_input_area()"
   ]
  },
  {
   "cell_type": "code",
   "execution_count": null,
   "id": "80d019b7-1329-4247-b934-5ffacfdc9c7f",
   "metadata": {},
   "outputs": [],
   "source": [
    "#shows the drawn area\n",
    "area.show_area()"
   ]
  },
  {
   "cell_type": "code",
   "execution_count": null,
   "id": "de94b17f-1270-4789-a1da-db895389b7a2",
   "metadata": {},
   "outputs": [],
   "source": [
    "spec_mean =  area.get_mean_from_area()"
   ]
  },
  {
   "cell_type": "code",
   "execution_count": null,
   "id": "9fdec59c-420a-4a75-a0be-4723dad11ee1",
   "metadata": {},
   "outputs": [],
   "source": [
    "#the average spectrum of the added multispectra\n",
    "ll_mean = area.other_avg_spec[0]"
   ]
  },
  {
   "cell_type": "code",
   "execution_count": null,
   "id": "d1bb433e-6826-487b-bb45-2a9d62dce959",
   "metadata": {},
   "outputs": [],
   "source": [
    "spec_mean.plot()"
   ]
  },
  {
   "cell_type": "code",
   "execution_count": null,
   "id": "3a4be9eb-8841-4809-8dce-df56438bd05d",
   "metadata": {},
   "outputs": [],
   "source": [
    "ll_mean.plot()"
   ]
  },
  {
   "cell_type": "markdown",
   "id": "f531fba4-723c-4d7b-81d5-029301d24f8c",
   "metadata": {},
   "source": [
    "## Background Removal\n",
    "In this part a small example is shown on how to remove the background from a multispectrum. The BackgroundRemoval class has a workflow implemented on how to get the appropriate results. Multiple methods of background subtraction are implemented but in this case we focus on the power-law only."
   ]
  },
  {
   "cell_type": "code",
   "execution_count": null,
   "id": "00a8b4c1-fd87-44c9-bd6c-c12b283dd99e",
   "metadata": {},
   "outputs": [],
   "source": [
    "em.BackgroundRemoval?"
   ]
  },
  {
   "cell_type": "code",
   "execution_count": null,
   "id": "f1295a78-4ca8-4ed4-b6a5-ef546ee754b1",
   "metadata": {},
   "outputs": [],
   "source": [
    "back = em.BackgroundRemoval(hl_al, (600,700)) #before the iron L edge"
   ]
  },
  {
   "cell_type": "code",
   "execution_count": null,
   "id": "14d55b15-6688-4278-a6ce-3ea07d157ca9",
   "metadata": {},
   "outputs": [],
   "source": [
    "rem = back.calculate_multi() #rem is the background removed spectrum "
   ]
  },
  {
   "cell_type": "code",
   "execution_count": null,
   "id": "73810adc-80e0-4710-8fbb-e5ffbb14b04b",
   "metadata": {},
   "outputs": [],
   "source": [
    "fig = back.show_fit_result(use_mean=True)"
   ]
  },
  {
   "cell_type": "code",
   "execution_count": null,
   "id": "2a03a3eb-dd7e-4891-8d87-606fa40a86e8",
   "metadata": {},
   "outputs": [],
   "source": [
    "em.MultiSpectrumVisualizer([hl_al, rem, back.multi_model_signal], labels=['Raw spectrum', 'Background subtracted', 'Background'])"
   ]
  },
  {
   "cell_type": "markdown",
   "id": "7a0f6ce9-0a56-41aa-b482-fe9c5051669c",
   "metadata": {},
   "source": [
    "## Model-based Quantification\n",
    "The last part shows how to get the elemental quantification on the multispectrum. It uses the ElementalQuantification class which has a workflow defined which only needs information on the estimated elements, acceleration voltage, convergence angle and collection angle. **See other notebooks for more in-depth examples on how to perform model-based quantification.**"
   ]
  },
  {
   "cell_type": "code",
   "execution_count": null,
   "id": "19b3cab0-c023-4131-844f-ac9e817681c0",
   "metadata": {},
   "outputs": [],
   "source": [
    "elements = ['C', 'N', 'O', 'Fe']\n",
    "edges = ['K', 'K', 'K', 'L']\n",
    "E0 = 300e3 \n",
    "alpha = 1e-9\n",
    "beta = 20e-3 \n",
    "settings = (E0, alpha, beta)"
   ]
  },
  {
   "cell_type": "code",
   "execution_count": null,
   "id": "f0d29cc5-2808-4554-99e5-1e219986f7da",
   "metadata": {},
   "outputs": [],
   "source": [
    "quant = em.ElementalQuantification(hl, elements, edges, settings, ll=ll)\n",
    "quant.n_bgterms = 4\n",
    "quant.linear_fitter_method = 'ols'\n",
    "quant.do_procedure()"
   ]
  },
  {
   "cell_type": "code",
   "execution_count": null,
   "id": "287e5b26-d2b0-4ed0-8052-fff94f9489e5",
   "metadata": {},
   "outputs": [],
   "source": [
    "#calculate different models with different components added to it. \n",
    "multimodels = quant.get_multimodels()"
   ]
  },
  {
   "cell_type": "code",
   "execution_count": null,
   "id": "b0578a0f-0ef2-4776-8925-400266d2cae1",
   "metadata": {},
   "outputs": [],
   "source": [
    "#compare the fitted model to experimental data\n",
    "em.MultiSpectrumVisualizer([quant.spectrum, multimodels[-1]])"
   ]
  },
  {
   "cell_type": "code",
   "execution_count": null,
   "id": "3f6d1a3a-5585-4108-8f10-d665a6b31a7d",
   "metadata": {},
   "outputs": [],
   "source": [
    "quant.show_elements_maps()"
   ]
  }
 ],
 "metadata": {
  "kernelspec": {
   "display_name": "Python 3 (ipykernel)",
   "language": "python",
   "name": "python3"
  },
  "language_info": {
   "codemirror_mode": {
    "name": "ipython",
    "version": 3
   },
   "file_extension": ".py",
   "mimetype": "text/x-python",
   "name": "python",
   "nbconvert_exporter": "python",
   "pygments_lexer": "ipython3",
   "version": "3.10.13"
  }
 },
 "nbformat": 4,
 "nbformat_minor": 5
}
