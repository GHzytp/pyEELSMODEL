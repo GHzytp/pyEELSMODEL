{
 "cells": [
  {
   "cell_type": "markdown",
   "id": "50848290-aed3-4f96-ba76-4a1066f1e565",
   "metadata": {},
   "source": [
    "# t/&lambda; mapping example\n",
    "In this example, it is shown on how to map the t/&lambda; from a low loss multispectrum. "
   ]
  },
  {
   "cell_type": "code",
   "execution_count": 1,
   "id": "5cdeb5d0-a976-404e-9a5d-a27781662785",
   "metadata": {},
   "outputs": [],
   "source": [
    "%matplotlib qt"
   ]
  },
  {
   "cell_type": "code",
   "execution_count": 2,
   "id": "211a5cb9-5441-4ae2-9514-6846c657abaa",
   "metadata": {},
   "outputs": [],
   "source": [
    "import pyEELSMODEL.api as em\n",
    "import os \n",
    "import numpy as np\n",
    "import matplotlib.pyplot as plt"
   ]
  },
  {
   "cell_type": "code",
   "execution_count": 3,
   "id": "8aeca3c3-0a8f-45e9-bdc6-66269d7aeffc",
   "metadata": {},
   "outputs": [],
   "source": [
    "def make_circular_mask(xco, yco, Rin, Rout, shape):\n",
    "    XX, YY = np.meshgrid(np.arange(shape[1])-yco, np.arange(shape[0])-xco)\n",
    "    \n",
    "    R = np.sqrt(XX**2+YY**2)\n",
    "    \n",
    "    mask = np.zeros(shape)\n",
    "    boolean = (R>=Rin) & (R<Rout)\n",
    "    mask[boolean] = 1\n",
    "    return mask\n",
    "\n",
    "def make_rectangular_mask(xco, yco, width,height, shape):\n",
    "    mask = np.zeros(shape)\n",
    "    mask[xco:xco+width, yco:yco+height] = 1\n",
    "    return mask"
   ]
  },
  {
   "cell_type": "markdown",
   "id": "f5dba0c4-2542-4c11-846f-e17deae13e47",
   "metadata": {},
   "source": [
    "### Simulation low loss\n",
    "In the first part, a low loss with known t/&lambda; will be simulated. "
   ]
  },
  {
   "cell_type": "code",
   "execution_count": 4,
   "id": "969469eb-906f-473b-8664-43c37edf6dfd",
   "metadata": {},
   "outputs": [],
   "source": [
    "xsize = 128\n",
    "ysize = 128\n",
    "maps = np.zeros((2,xsize,ysize))"
   ]
  },
  {
   "cell_type": "code",
   "execution_count": 5,
   "id": "6ca763a3-8070-481e-b584-02072eb861b9",
   "metadata": {},
   "outputs": [],
   "source": [
    "mask0 = make_rectangular_mask(5, 5, 20, 20, (xsize,ysize))\n",
    "mask1 =  make_rectangular_mask(90, 90, 20, 30, (xsize,ysize))\n",
    "mask2 = make_circular_mask(xsize//2, ysize//2, 20, 30, (xsize,ysize))\n",
    "mask3 = make_circular_mask(xsize//2, ysize//2, 0, 20, (xsize,ysize))"
   ]
  },
  {
   "cell_type": "code",
   "execution_count": 6,
   "id": "c7376520-0a7a-424c-8aee-b5d81bb89130",
   "metadata": {},
   "outputs": [],
   "source": [
    "cte=1\n",
    "tlambda_map = np.ones_like(mask0)*0.3*cte\n",
    "tlambda_map[mask0==1] = cte*0.5\n",
    "tlambda_map[mask1==1] = cte*0.7\n",
    "tlambda_map[mask2==1] = cte*1\n",
    "tlambda_map[mask3==1] = cte*1.5"
   ]
  },
  {
   "cell_type": "code",
   "execution_count": 16,
   "id": "14fba1ba-9aea-43f5-a25c-0c25fae74f66",
   "metadata": {},
   "outputs": [
    {
     "data": {
      "text/plain": [
       "<matplotlib.image.AxesImage at 0x22b3145f520>"
      ]
     },
     "execution_count": 16,
     "metadata": {},
     "output_type": "execute_result"
    }
   ],
   "source": [
    "fig, ax = plt.subplots()\n",
    "ax.imshow(tlambda_map)"
   ]
  },
  {
   "cell_type": "markdown",
   "id": "b21db04f-ad1a-4d97-961f-6b7917899990",
   "metadata": {},
   "source": [
    "The low loss will be modelled using the CoreLossSimulator, it is not needed to add the elements, edges and maps since we are not interested in the core-loss but will only calculate a low loss multispectrum"
   ]
  },
  {
   "cell_type": "code",
   "execution_count": 8,
   "id": "470b67f1-ea48-4dad-a94d-b00c170ece81",
   "metadata": {},
   "outputs": [
    {
     "name": "stderr",
     "output_type": "stream",
     "text": [
      "16384it [00:10, 1597.99it/s]\n"
     ]
    }
   ],
   "source": [
    "settings = (300e3, 1e-9, 20e-3)\n",
    "msh = em.MultiSpectrumshape(0.5, 200, 2048, xsize, ysize) #will not be used\n",
    "maps = np.zeros((2,xsize,ysize))\n",
    "sh = msh.getspectrumshape()\n",
    "\n",
    "sim = em.CoreLossSimulator(msh, [], [], maps, tlambda_map, settings)\n",
    "sim.fwhm= 2\n",
    "sim.n_plasmon = 3\n",
    "sim.make_lowloss()"
   ]
  },
  {
   "cell_type": "code",
   "execution_count": 9,
   "id": "1ab8b5f8-36fc-4b46-a890-5550b711a574",
   "metadata": {},
   "outputs": [],
   "source": [
    "# add poisson noise to low loss\n",
    "ll = sim.ll.copy()\n",
    "cte = 1e3\n",
    "ll.multidata = np.random.poisson(cte*ll.multidata)"
   ]
  },
  {
   "cell_type": "code",
   "execution_count": 10,
   "id": "d9040858-caf9-4263-be93-f96956e0ee77",
   "metadata": {
    "scrolled": true
   },
   "outputs": [
    {
     "name": "stderr",
     "output_type": "stream",
     "text": [
      "No artists with labels found to put in legend.  Note that artists whose label start with an underscore are ignored when legend() is called with no argument.\n"
     ]
    },
    {
     "data": {
      "text/plain": [
       "<pyEELSMODEL.operators.multispectrumvisualizer.MultiSpectrumVisualizer at 0x22b33d8e370>"
      ]
     },
     "execution_count": 10,
     "metadata": {},
     "output_type": "execute_result"
    }
   ],
   "source": [
    "em.MultiSpectrumVisualizer([ll])"
   ]
  },
  {
   "cell_type": "markdown",
   "id": "ac9eadf0-2f4f-4855-8b8d-5568edb07bd5",
   "metadata": {},
   "source": [
    "### Extracting t/&lambda; from low loss\n",
    "The t/&lambda; can be determined from the low loss by $t/\\lambda = \\ln \\frac{I_t}{I_0}$ where $I_t$ is the total intensity and $I_0$ is the intensity of the zero loss peak. Two different methods can be used to extract $I_0$. \n",
    "1. Approximate the zero loss signal by taking the left part of the peak and doubling this.\n",
    "2. Fit an appropriate function to the zero loss peak. A Gaussian or Lorentzian can be chosen.\\\n",
    "   \n",
    "Both methods will be used to get a result which is confirmed by the ground truth value inputted"
   ]
  },
  {
   "cell_type": "code",
   "execution_count": 11,
   "id": "ba3c085b-b2cc-4c8f-82c4-4a8029d2dcd7",
   "metadata": {},
   "outputs": [],
   "source": [
    "from pyEELSMODEL.operators.estimate_thickness import ThicknessEstimator"
   ]
  },
  {
   "cell_type": "code",
   "execution_count": 12,
   "id": "58606d34-8661-4f0d-acda-40f290011174",
   "metadata": {},
   "outputs": [],
   "source": [
    "thick_mirror = ThicknessEstimator(sim.ll, model_type='Mirrored') #mirrored the zlp\n",
    "thick_g = ThicknessEstimator(sim.ll, model_type='Gaussian') #fits gaussian to the zlp "
   ]
  },
  {
   "cell_type": "code",
   "execution_count": 13,
   "id": "d9fac822-e5a8-4eb4-90e2-c665b90a15ca",
   "metadata": {
    "scrolled": true
   },
   "outputs": [
    {
     "name": "stdout",
     "output_type": "stream",
     "text": [
      "True\n"
     ]
    },
    {
     "name": "stderr",
     "output_type": "stream",
     "text": [
      "16384it [01:05, 251.96it/s]\n",
      "16384it [00:01, 10954.32it/s]\n"
     ]
    }
   ],
   "source": [
    "thick_mirror.log_ratio_method()\n",
    "thick_g.log_ratio_method()"
   ]
  },
  {
   "cell_type": "code",
   "execution_count": 21,
   "id": "4c825a6d-c4be-4444-bec5-9844390a2445",
   "metadata": {},
   "outputs": [],
   "source": []
  },
  {
   "cell_type": "code",
   "execution_count": 17,
   "id": "de5be522-df19-4e3b-9c28-824f7cf2c1af",
   "metadata": {},
   "outputs": [
    {
     "data": {
      "text/plain": [
       "Text(0.5, 1.0, 'Gaussian model')"
      ]
     },
     "execution_count": 17,
     "metadata": {},
     "output_type": "execute_result"
    }
   ],
   "source": [
    "fig, ax = plt.subplots(1,3)\n",
    "ax[0].imshow(tlambda_map, vmin=0,vmax=1.5, cmap='jet')\n",
    "ax[1].imshow(thick_mirror.tlambda,vmin=0,vmax=1.5,cmap='jet')\n",
    "ax[1].set_title('Mirrored')\n",
    "ax[2].imshow(thick_g.tlambda,vmin=0,vmax=1.5,cmap='jet')\n",
    "ax[2].set_title('Gaussian model')"
   ]
  },
  {
   "cell_type": "code",
   "execution_count": null,
   "id": "5dfb564e-dea2-4ae0-bd65-53bd878b1413",
   "metadata": {},
   "outputs": [],
   "source": []
  }
 ],
 "metadata": {
  "kernelspec": {
   "display_name": "Python 3 (ipykernel)",
   "language": "python",
   "name": "python3"
  },
  "language_info": {
   "codemirror_mode": {
    "name": "ipython",
    "version": 3
   },
   "file_extension": ".py",
   "mimetype": "text/x-python",
   "name": "python",
   "nbconvert_exporter": "python",
   "pygments_lexer": "ipython3",
   "version": "3.9.0"
  }
 },
 "nbformat": 4,
 "nbformat_minor": 5
}
