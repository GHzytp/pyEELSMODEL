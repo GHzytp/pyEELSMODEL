{
 "cells": [
  {
   "cell_type": "markdown",
   "id": "0ff1f315-20fb-47c6-b9c2-34a3217f7082",
   "metadata": {},
   "source": [
    "# Cerium oxidation state determination\n",
    "In this notebook, the oxidation state of a **simulated** dataset is determined from the fine structure of the cerium M edge. The oxidation state is determined by performing a least squares fit of the data with a background and the two reference edges of Ce$^{3+}$ and Ce$^{4+}$. The reference edges are determined from the dataset itself. This can only be done when pure regions of both states are identified. If this is not available, proper references should be measured and can be used as input. In this case proper care needs to be taken for the experimental parameters such as acceleration voltage, collection angle, thickness, *etc.*\n"
   ]
  },
  {
   "cell_type": "code",
   "execution_count": 1,
   "id": "fbc9a165-ad19-4519-b457-af886ea4b0cd",
   "metadata": {},
   "outputs": [],
   "source": [
    "%matplotlib qt"
   ]
  },
  {
   "cell_type": "code",
   "execution_count": 2,
   "id": "bd69b213-b61b-404b-8f68-75d1f1851eb8",
   "metadata": {},
   "outputs": [],
   "source": [
    "import pyEELSMODEL.api as em\n",
    "import os \n",
    "import numpy as np\n",
    "import matplotlib.pyplot as plt\n",
    "from pyEELSMODEL.components.fixedpattern import FixedPattern\n",
    "from pyEELSMODEL.components.linear_background import LinearBG\n",
    "from pyEELSMODEL.components.MScatter.mscatterfft import MscatterFFT"
   ]
  },
  {
   "cell_type": "code",
   "execution_count": 3,
   "id": "a63874aa-812d-400f-96d3-dbd97089e651",
   "metadata": {},
   "outputs": [
    {
     "name": "stdout",
     "output_type": "stream",
     "text": [
      "Current directory is: C:\\Users\\DJannis\\PycharmProjects\\project\\pyEELSMODEL\\examples\n"
     ]
    }
   ],
   "source": [
    "#the current directory is important to find the cerium references\n",
    "cdir = os.getcwd()\n",
    "print('Current directory is: ' + cdir)"
   ]
  },
  {
   "cell_type": "code",
   "execution_count": 4,
   "id": "bac951c9-6f1a-463c-950e-effe63c5ff82",
   "metadata": {},
   "outputs": [],
   "source": [
    "def make_circular_mask(xco, yco, Rin, Rout, shape):\n",
    "    XX, YY = np.meshgrid(np.arange(shape[1])-yco, np.arange(shape[0])-xco)\n",
    "    \n",
    "    R = np.sqrt(XX**2+YY**2)\n",
    "    \n",
    "    mask = np.zeros(shape)\n",
    "    boolean = (R>=Rin) & (R<Rout)\n",
    "    mask[boolean] = 1\n",
    "    return mask\n",
    "\n",
    "def make_rectangular_mask(xco, yco, width,height, shape):\n",
    "    mask = np.zeros(shape)\n",
    "    mask[xco:xco+width, yco:yco+height] = 1\n",
    "    return mask"
   ]
  },
  {
   "cell_type": "markdown",
   "id": "ca3304ac-f1c8-430a-b890-427f1190c2e8",
   "metadata": {},
   "source": [
    "### Simulation\n",
    "The EELS map is simulated using two reference spectra of cerium together with a background. The background is a powerlaw with r=3 convolved with the low loss spectrum. The content of Ce$^{3+}$ and Ce$^{4+}$, and t/&lambda; is varied accros the map. Two regions are also identified to only have Ce$^{3+}$ or Ce$^{4+}$ which then will be used as references for furhter processing. *This part is not very important since the outcome will be used as input for the quantification.*"
   ]
  },
  {
   "cell_type": "code",
   "execution_count": 5,
   "id": "5710f1be-6c31-4758-bef4-515d47ac1f5a",
   "metadata": {},
   "outputs": [],
   "source": [
    "xsize = 128\n",
    "ysize = 128\n",
    "maps = np.zeros((2,xsize,ysize))\n",
    "\n",
    "\n",
    "mask0 =make_rectangular_mask(5, 5, 20, 20, (xsize,ysize))\n",
    "mask1 =  make_rectangular_mask(90, 90, 20, 30, (xsize,ysize))\n",
    "mask2 = make_circular_mask(xsize//2, ysize//2, 20, 30, (xsize,ysize))\n",
    "mask3 = make_circular_mask(xsize//2, ysize//2, 0, 20, (xsize,ysize))\n",
    "\n",
    "maps[0] = 1*mask0  + 0.5*mask2 + 0.7*mask3#ce 3+\n",
    "maps[1] = 1*mask1 + 0.5*mask2 + 0.3*mask3#ce 4+\n"
   ]
  },
  {
   "cell_type": "code",
   "execution_count": 6,
   "id": "f93a7704-e515-4839-9cdb-de87bb3ab5fe",
   "metadata": {},
   "outputs": [
    {
     "data": {
      "text/plain": [
       "Text(0.5, 1.0, 'Ce4+')"
      ]
     },
     "execution_count": 6,
     "metadata": {},
     "output_type": "execute_result"
    }
   ],
   "source": [
    "fig, ax = plt.subplots(1,2)\n",
    "ax[0].imshow(maps[0])\n",
    "ax[0].set_title(r'Ce3+')\n",
    "ax[1].imshow(maps[1])\n",
    "ax[1].set_title(r'Ce4+')"
   ]
  },
  {
   "cell_type": "markdown",
   "id": "9121f55e-3a8b-4c86-97d6-bdafcb319ce9",
   "metadata": {},
   "source": [
    "Loading of simulated reference cerium M edges. Note that these references replicate experimental results but are quantitatively not correct.  "
   ]
  },
  {
   "cell_type": "code",
   "execution_count": 7,
   "id": "d9ddd7ea-7c30-499d-bdbd-0b11720d02b1",
   "metadata": {},
   "outputs": [],
   "source": [
    "file_ce3 = os.path.join(cdir, r'data\\ce3_edge.hdf5')\n",
    "ce3 = em.Spectrum.load(file_ce3)\n",
    "file_ce4 = os.path.join(cdir, r'data\\ce4_edge.hdf5')\n",
    "ce4 = em.Spectrum.load(file_ce4)"
   ]
  },
  {
   "cell_type": "code",
   "execution_count": 8,
   "id": "458684aa-192b-462a-bcf1-6da331a8a065",
   "metadata": {},
   "outputs": [
    {
     "data": {
      "text/plain": [
       "<matplotlib.legend.Legend at 0x22511f62440>"
      ]
     },
     "execution_count": 8,
     "metadata": {},
     "output_type": "execute_result"
    }
   ],
   "source": [
    "fig, ax = plt.subplots()\n",
    "ax.plot(ce3.energy_axis, ce3.data, label='Ce+3')\n",
    "ax.plot(ce4.energy_axis, ce4.data, label='Ce+4')\n",
    "ax.legend()"
   ]
  },
  {
   "cell_type": "code",
   "execution_count": 9,
   "id": "ab23ec65-9687-4a5c-8951-4f679c1d179f",
   "metadata": {},
   "outputs": [],
   "source": [
    "cte=1\n",
    "tlambda_map = np.ones_like(mask0)*0.3*cte\n",
    "tlambda_map[mask0==1] = 0.2\n",
    "tlambda_map[mask1==1] = 0.3\n",
    "tlambda_map[mask2==1] = 0.5\n",
    "tlambda_map[mask3==1] = 0.4"
   ]
  },
  {
   "cell_type": "code",
   "execution_count": 10,
   "id": "203f7d52-69c3-4db4-acea-df4e402e27ce",
   "metadata": {},
   "outputs": [
    {
     "name": "stderr",
     "output_type": "stream",
     "text": [
      "16384it [00:14, 1146.06it/s]\n",
      "16384it [01:13, 222.49it/s]\n"
     ]
    }
   ],
   "source": [
    "settings = (300e3, 1e-9, 20e-3) #E0, convergence angle, collection angle\n",
    "msh = em.MultiSpectrumshape(0.05, 840, 4096, xsize, ysize)\n",
    "sh = msh.getspectrumshape()\n",
    "\n",
    "sim = em.CoreLossSimulator(msh, [], [], maps, tlambda_map, settings)\n",
    "sim.fwhm=0.3 #eV, resolution needs to be good enough to resolve difference between fine structure\n",
    "sim.n_plasmon = 3 #number of plasmons \n",
    "sim.make_lowloss()\n",
    "\n",
    "sim.element_components = []\n",
    "sim.element_components.append(FixedPattern(sh, ce3))\n",
    "sim.element_components.append(FixedPattern(sh, ce4))\n",
    "\n",
    "sim.make_coreloss()\n"
   ]
  },
  {
   "cell_type": "code",
   "execution_count": 11,
   "id": "96c0a355-1e4f-4b9d-be5c-01cd75da5932",
   "metadata": {},
   "outputs": [],
   "source": [
    "hl = sim.multispectrum\n",
    "ll = sim.ll"
   ]
  },
  {
   "cell_type": "markdown",
   "id": "11732252-a15b-4cf1-94b6-db2c09aae1fc",
   "metadata": {},
   "source": [
    "### Extract Core-loss edges\n",
    "In this section, the reference edges are extracted from the simulated dataset. This will be done by first identifying the regions in which a pure oxidation state occurs. Next, a fit will be performed on this averaged edge. The fit includes the background, core-loss edge, fine structure and thickness. From the fit a raw experimental reference edge can be extracted which will be used for the oxidation state determination. Here we used model-based fitting to extract a reference edge which is different from other approaches where the experimental edge after power-law background subtraction gets deconvolved.  "
   ]
  },
  {
   "cell_type": "code",
   "execution_count": 13,
   "id": "804c90b9-d452-4c36-89b7-700ec98f84f3",
   "metadata": {},
   "outputs": [],
   "source": [
    "from pyEELSMODEL.operators.quantification.extract_experimental_edge import ExperimentalEdgeExtractor"
   ]
  },
  {
   "cell_type": "code",
   "execution_count": 14,
   "id": "b5c6c629-d5c8-4e60-87bf-702d500a7e3c",
   "metadata": {},
   "outputs": [],
   "source": [
    "exp = ExperimentalEdgeExtractor(hl, settings, ll=ll)"
   ]
  },
  {
   "cell_type": "markdown",
   "id": "f023920c-1f22-490b-99de-bd1e87cc6f0c",
   "metadata": {},
   "source": [
    "Running of the next cell opens a figure on which you can draw a shape with *max_points (4)* corners. Each point is selected by using the right mouse click. After the area is drawn, the figure should be closed. When \"the shape is drawn, this will be used to determine the average spectrum\n",
    " is printed then you know that the area is configured properly. \"\\\n",
    "Two areas need to be selected which is done by running the .define_new_region() function twice. The two regions of pure Ce$^{3+}$ and Ce$^{4+}$ are the rectangular regions.Using the .show_regions(), you can see which areas you have selected. "
   ]
  },
  {
   "cell_type": "code",
   "execution_count": 15,
   "id": "20381977-00f8-4f59-ae07-47f4bb996694",
   "metadata": {},
   "outputs": [
    {
     "name": "stdout",
     "output_type": "stream",
     "text": [
      "the shape is drawn, this will be used to determine the average spectrum\n"
     ]
    }
   ],
   "source": [
    "exp.define_new_region(max_points=4)"
   ]
  },
  {
   "cell_type": "code",
   "execution_count": 16,
   "id": "f956b177-ea96-4826-898e-24ea0dcaf4fc",
   "metadata": {},
   "outputs": [
    {
     "name": "stdout",
     "output_type": "stream",
     "text": [
      "the shape is drawn, this will be used to determine the average spectrum\n"
     ]
    }
   ],
   "source": [
    "exp.define_new_region(max_points=4)"
   ]
  },
  {
   "cell_type": "code",
   "execution_count": 17,
   "id": "cf3f5465-5cd2-419c-bb3b-bfca20c16f27",
   "metadata": {},
   "outputs": [],
   "source": [
    "exp.show_regions()\n",
    "exp.calculate_spectra()"
   ]
  },
  {
   "cell_type": "markdown",
   "id": "c4b707ad-47a6-4af9-99eb-374a63c81457",
   "metadata": {},
   "source": [
    "Since we know where the two regions are located, we can also use this as input into the .define_new_region(). This removes the graphical user input which makes analysis less reproducable. The coordinates of the points from which to draw the area should be provided. "
   ]
  },
  {
   "cell_type": "code",
   "execution_count": null,
   "id": "10074fa5-1d49-4f12-ab67-5a0a68381081",
   "metadata": {},
   "outputs": [],
   "source": [
    "exp = ExperimentalEdgeExtractor(hl, settings, ll=ll)\n",
    "exp.define_new_region(max_points=4, coords = [[5,5,25,25],[5,25,25,5]])\n",
    "exp.define_new_region(max_points=4, coords = [[90,90,120,120],[90,110,110,90]])"
   ]
  },
  {
   "cell_type": "code",
   "execution_count": null,
   "id": "a251111a-7114-411b-98a0-7549117f8f90",
   "metadata": {},
   "outputs": [],
   "source": [
    "exp.show_regions() #check the proper inputs of the coordinates\n",
    "exp.calculate_spectra()"
   ]
  },
  {
   "cell_type": "markdown",
   "id": "033968ac-0e66-4d45-8d53-065aa339e2c1",
   "metadata": {},
   "source": [
    "Show the average spectra for checking that the proper regions are determined. "
   ]
  },
  {
   "cell_type": "code",
   "execution_count": 18,
   "id": "691e781d-fff9-48d0-a23f-7e8f39b850c1",
   "metadata": {},
   "outputs": [],
   "source": [
    "exp.show_average_spectra()"
   ]
  },
  {
   "cell_type": "markdown",
   "id": "09042c6e-daa1-4049-a370-8d4b7e6681c2",
   "metadata": {},
   "source": [
    "From the average experimental datasets, the edge shape is extracted by model-based fitting this spectrum. In order to do this, one needs to specify the elements and edges which are present in the spectrum. The intervals indicates the energy region over which to fit the fine structure and pre_fine indicates how many eV before the tabulated edge onset energy, the fine structure should already be used. This could be due to a chemical shift or a bad energy axis (wrong offset or dispersion). For more information see description of the function in the docstrings"
   ]
  },
  {
   "cell_type": "code",
   "execution_count": 22,
   "id": "59410171-118f-4105-89ec-a8e40e91973e",
   "metadata": {},
   "outputs": [
    {
     "data": {
      "text/plain": [
       "\u001b[1;31mSignature:\u001b[0m \u001b[0mexp\u001b[0m\u001b[1;33m.\u001b[0m\u001b[0mextract_edge\u001b[0m\u001b[1;33m(\u001b[0m\u001b[0mindex\u001b[0m\u001b[1;33m,\u001b[0m \u001b[0melements\u001b[0m\u001b[1;33m,\u001b[0m \u001b[0medges\u001b[0m\u001b[1;33m,\u001b[0m \u001b[0mintervals\u001b[0m\u001b[1;33m,\u001b[0m \u001b[0mpre_fine\u001b[0m\u001b[1;33m)\u001b[0m\u001b[1;33m\u001b[0m\u001b[1;33m\u001b[0m\u001b[0m\n",
       "\u001b[1;31mDocstring:\u001b[0m\n",
       "Fits the average spectrum indicated by index using the elements and\n",
       "edges. The interval indicates the energy region over which to fit\n",
       "the fine structure. Pre_fine is used to modify the start position\n",
       "of the fine structure with respect to the atomic cross section. The\n",
       "sampling of the fine structure is determined by the fwhm of the zlp.\n",
       "\n",
       "Parameters\n",
       "----------\n",
       "index: int\n",
       "    The index of the chosen area. The first area selected has index 0\n",
       "    and so forth. The show_regions() function also shows which area\n",
       "    corresponds to which index.\n",
       "elements: list\n",
       "    List of elements which are present in the spectrum of index\n",
       "edges: list\n",
       "    List of edge of the elements. The length of this list should be\n",
       "    equal to the elements list.\n",
       "intervals: list\n",
       "    List of energy intervals [eV] over which to fit the fine structure.\n",
       "pre_fine: list\n",
       "    List of energies onset energy with respect to the onset energy\n",
       "    of the atomic cross section. Hence a positive value indicates\n",
       "    that the fine structure starts before expected onset from the\n",
       "    atomic cross section. Negative values would be unexpected.\n",
       "\u001b[1;31mFile:\u001b[0m      c:\\users\\djannis\\pycharmprojects\\project\\pyeelsmodel\\pyeelsmodel\\operators\\quantification\\extract_experimental_edge.py\n",
       "\u001b[1;31mType:\u001b[0m      method"
      ]
     },
     "metadata": {},
     "output_type": "display_data"
    }
   ],
   "source": [
    "#to show the docstrings of the function. \n",
    "exp.extract_edge?"
   ]
  },
  {
   "cell_type": "code",
   "execution_count": 19,
   "id": "168c5c22-06f0-4d64-8180-916fceb1318b",
   "metadata": {},
   "outputs": [
    {
     "name": "stderr",
     "output_type": "stream",
     "text": [
      "cannot use analytical gradients since a convolutor is inside model\n"
     ]
    },
    {
     "name": "stdout",
     "output_type": "stream",
     "text": [
      "0.29999999999999893\n",
      "116\n",
      "<pyEELSMODEL.components.CLedge.zezhong_coreloss_edgecombined.ZezhongCoreLossEdgeCombined object at 0x0000022510583670>\n",
      "True\n",
      "here\n"
     ]
    }
   ],
   "source": [
    "fixs0 = exp.extract_edge(index=0, elements=['Ce'], edges=['M'], intervals=[35], pre_fine=[5])\n",
    "fixs0[0].setname('Ce 3+')"
   ]
  },
  {
   "cell_type": "code",
   "execution_count": 20,
   "id": "e0203ce2-5d95-48d3-9456-42a90d6d6b37",
   "metadata": {
    "scrolled": true
   },
   "outputs": [
    {
     "name": "stderr",
     "output_type": "stream",
     "text": [
      "cannot use analytical gradients since a convolutor is inside model\n"
     ]
    },
    {
     "name": "stdout",
     "output_type": "stream",
     "text": [
      "0.29999999999999893\n",
      "116\n",
      "<pyEELSMODEL.components.CLedge.zezhong_coreloss_edgecombined.ZezhongCoreLossEdgeCombined object at 0x0000022510507A00>\n",
      "True\n",
      "here\n"
     ]
    }
   ],
   "source": [
    "fixs1 = exp.extract_edge(index=1, elements=['Ce'], edges=['M'], intervals=[35], pre_fine=[5])\n",
    "fixs1[0].setname('Ce 4+')"
   ]
  },
  {
   "cell_type": "markdown",
   "id": "d4e592aa-6990-41dd-beb1-a4efa95589c6",
   "metadata": {},
   "source": [
    "Compare the inputted spectra with the extracted ones. There is not a perfect match since the background function has a slight bias because the exact functional form of the background is unkown. This means that the result will also be biased because we did not extract the exact physical edge. This also happens in reality where the functional form of the background is also unkown. "
   ]
  },
  {
   "cell_type": "code",
   "execution_count": 21,
   "id": "e3ad6633-e637-4479-85e5-19ed43313baa",
   "metadata": {},
   "outputs": [
    {
     "data": {
      "text/plain": [
       "<matplotlib.legend.Legend at 0x22514217e20>"
      ]
     },
     "execution_count": 21,
     "metadata": {},
     "output_type": "execute_result"
    }
   ],
   "source": [
    "fig, ax = plt.subplots()\n",
    "ax.plot(fixs0[0].energy_axis, fixs0[0].data/fixs0[0].integrate((950,1000)), label='Ce3+', color='blue')\n",
    "ax.plot(fixs1[0].energy_axis, fixs1[0].data/fixs1[0].integrate((950,1000)), label='Ce4+', color='red')\n",
    "\n",
    "ax.plot(ce3.energy_axis, ce3.data/ce3.integrate((950,1000)), color='blue', linestyle='dotted', label='Simulted Ce3+')\n",
    "ax.plot(ce4.energy_axis, ce4.data/ce4.integrate((950,1000)), color='red', linestyle='dotted', label='Simulted Ce4+')\n",
    "ax.legend()"
   ]
  },
  {
   "cell_type": "markdown",
   "id": "379ff341-b5e6-4e4b-983a-54bdd4fa83ec",
   "metadata": {},
   "source": [
    "### Linear Least Squares Fitting\n",
    "The reference edges will be used to determine relative oxidation state of the cerium. The model consist out of:\n",
    "1. Background: Sum of powerlaws (to make it linear)\n",
    "2. Reference edges for Ce$^{3+}$ and Ce$^{4+}$\n",
    "3. Low loss to take multiple scattering into account since the t/&lambda; varies over the sample "
   ]
  },
  {
   "cell_type": "markdown",
   "id": "da1ec733-dee8-42eb-b7b5-3dd2d51c5eae",
   "metadata": {},
   "source": [
    "#### Making the model"
   ]
  },
  {
   "cell_type": "code",
   "execution_count": 23,
   "id": "1e5e31ac-7c4a-43c6-81e3-0e27985dbf5b",
   "metadata": {},
   "outputs": [],
   "source": [
    "from pyEELSMODEL.components.linear_background import LinearBG\n",
    "from pyEELSMODEL.components.MScatter.mscatterfft import MscatterFFT"
   ]
  },
  {
   "cell_type": "code",
   "execution_count": 24,
   "id": "05649e81-4ea4-4460-a4f9-e45c4e4b3a77",
   "metadata": {},
   "outputs": [],
   "source": [
    "n = 4\n",
    "bg = LinearBG(specshape=hl.get_spectrumshape(), rlist=np.linspace(1,5,n))"
   ]
  },
  {
   "cell_type": "code",
   "execution_count": 25,
   "id": "6ea3e7bc-9421-42c8-8516-3bed2e2f2642",
   "metadata": {},
   "outputs": [],
   "source": [
    "refs = [fixs0[0], fixs1[0]] #list of the reference edges"
   ]
  },
  {
   "cell_type": "code",
   "execution_count": 26,
   "id": "4866d13c-ad6a-4d3e-a0ea-84d7675f24dc",
   "metadata": {},
   "outputs": [
    {
     "data": {
      "text/plain": [
       "<pyEELSMODEL.components.fixedpattern.FixedPattern at 0x22514453e20>"
      ]
     },
     "execution_count": 26,
     "metadata": {},
     "output_type": "execute_result"
    }
   ],
   "source": [
    "#the reference should be a FixedPattern object. \n",
    "refs[0]"
   ]
  },
  {
   "cell_type": "code",
   "execution_count": 27,
   "id": "89ec0203-8c71-457e-bf11-478c4ba80b72",
   "metadata": {},
   "outputs": [],
   "source": [
    "llcomp  = MscatterFFT(hl.get_spectrumshape(), ll)"
   ]
  },
  {
   "cell_type": "code",
   "execution_count": 28,
   "id": "6d1c5f76-ecf3-4e99-9522-b3ad725fab7b",
   "metadata": {},
   "outputs": [],
   "source": [
    "components = [bg]+refs+[llcomp]\n",
    "mod = em.Model(hl.get_spectrumshape(), components)"
   ]
  },
  {
   "cell_type": "markdown",
   "id": "2aaba2c7-bf10-4bdf-abb9-141ac0dd3cd9",
   "metadata": {},
   "source": [
    "#### Fitting the experimental data"
   ]
  },
  {
   "cell_type": "code",
   "execution_count": 29,
   "id": "9202c5f0-9812-4c9b-bf03-ca4998b65f81",
   "metadata": {},
   "outputs": [
    {
     "name": "stderr",
     "output_type": "stream",
     "text": [
      "cannot use analytical gradients since a convolutor is inside model\n",
      "16384it [00:28, 576.06it/s]\n"
     ]
    }
   ],
   "source": [
    "fit = em.LinearFitter(hl, mod, use_weights=True)\n",
    "fit.multi_fit()"
   ]
  },
  {
   "cell_type": "code",
   "execution_count": 30,
   "id": "85b51677-585a-47eb-9bef-cf347b23afdf",
   "metadata": {},
   "outputs": [],
   "source": [
    "fig, exp_maps, names = fit.show_map_result(refs)"
   ]
  },
  {
   "cell_type": "code",
   "execution_count": 32,
   "id": "fae08cc5-6e5e-4ecd-b10e-7273a0c22caa",
   "metadata": {},
   "outputs": [
    {
     "name": "stderr",
     "output_type": "stream",
     "text": [
      "C:\\Users\\DJannis\\AppData\\Local\\Temp\\ipykernel_25264\\1042502816.py:10: RuntimeWarning: invalid value encountered in divide\n",
      "  sim_ce3 = maps[0]/(maps[0]+maps[1]) #ground truth\n",
      "C:\\Users\\DJannis\\AppData\\Local\\Temp\\ipykernel_25264\\1042502816.py:11: RuntimeWarning: invalid value encountered in divide\n",
      "  sim_ce4 = maps[1]/(maps[0]+maps[1]) #ground truth\n"
     ]
    }
   ],
   "source": [
    "\n",
    "sum_ce = (exp_maps[0]+exp_maps[1])\n",
    "\n",
    "con_ce3 = exp_maps[0]/sum_ce #relative ratio ce3 from experimental data\n",
    "con_ce4 = exp_maps[1]/sum_ce #relative ratio ce4 from experimental data\n",
    "\n",
    "mask = sum_ce < 1e-3 #identify when no cerium is detected\n",
    "con_ce3[mask] = np.nan\n",
    "con_ce4[mask] = np.nan\n",
    "\n",
    "sim_ce3 = maps[0]/(maps[0]+maps[1]) #ground truth\n",
    "sim_ce4 = maps[1]/(maps[0]+maps[1]) #ground truth\n"
   ]
  },
  {
   "cell_type": "markdown",
   "id": "54fda644-6376-49f8-90b1-7fd205cf4184",
   "metadata": {},
   "source": [
    "Compare the fitted ration with the ground truth. The comparison seems to be quite good even though there is a bias from the background."
   ]
  },
  {
   "cell_type": "code",
   "execution_count": 33,
   "id": "b6a9accb-8fa2-44c0-8ba8-5f8742d00366",
   "metadata": {},
   "outputs": [
    {
     "data": {
      "text/plain": [
       "<matplotlib.image.AxesImage at 0x2250f448f70>"
      ]
     },
     "execution_count": 33,
     "metadata": {},
     "output_type": "execute_result"
    }
   ],
   "source": [
    "fig, ax = plt.subplots(2,2)\n",
    "cmp = 'jet'\n",
    "ax[0,0].imshow(con_ce3,vmin=0,vmax=1, cmap=cmp)\n",
    "ax[0,0].set_title(r'Fitted ratio')\n",
    "ax[0,0].set_ylabel(r'Ce 3+')\n",
    "ax[0,1].imshow(sim_ce3,vmin=0,vmax=1, cmap=cmp)\n",
    "ax[0,1].set_title(r'Ground truth ratio')\n",
    "ax[1,0].imshow(con_ce4,vmin=0,vmax=1, cmap=cmp)\n",
    "ax[1,0].set_ylabel(r'Ce4+')\n",
    "ax[1,1].imshow(sim_ce4,vmin=0,vmax=1, cmap=cmp)\n"
   ]
  },
  {
   "cell_type": "markdown",
   "id": "03ea7332-cc56-4f5a-a7a6-3c0e371792b1",
   "metadata": {},
   "source": [
    "One can visualze the fitted multispectra"
   ]
  },
  {
   "cell_type": "code",
   "execution_count": 34,
   "id": "58fab7d7-82ee-475e-96e0-f29950d0b7e4",
   "metadata": {},
   "outputs": [
    {
     "name": "stderr",
     "output_type": "stream",
     "text": [
      "16384it [00:17, 946.33it/s]\n",
      "16384it [00:17, 948.46it/s]\n",
      "16384it [00:18, 905.17it/s]\n",
      "16384it [00:17, 962.24it/s]\n"
     ]
    }
   ],
   "source": [
    "multimodels = []\n",
    "multimodels.append(fit.model_to_multispectrum_with_comps([bg])) #only background\n",
    "multimodels.append(fit.model_to_multispectrum_with_comps([bg, refs[0]])) #background and ce3+\n",
    "multimodels.append(fit.model_to_multispectrum_with_comps([bg, refs[1]])) #background and ce4+\n",
    "multimodels.append(fit.model_to_multispectrum_with_comps([bg, refs[0], refs[1]])) #total model\n"
   ]
  },
  {
   "cell_type": "code",
   "execution_count": 35,
   "id": "99522f1a-1456-4a8f-ad5a-6ee8d952d8c2",
   "metadata": {},
   "outputs": [
    {
     "data": {
      "text/plain": [
       "<pyEELSMODEL.operators.multispectrumvisualizer.MultiSpectrumVisualizer at 0x225102d1d50>"
      ]
     },
     "execution_count": 35,
     "metadata": {},
     "output_type": "execute_result"
    }
   ],
   "source": [
    "em.MultiSpectrumVisualizer([hl]+multimodels, labels=['Exp', 'Bg', 'Ce3', 'Ce4', 'full'])"
   ]
  },
  {
   "cell_type": "code",
   "execution_count": null,
   "id": "f4834890-d7b4-483b-bb1f-28f795ea3f43",
   "metadata": {},
   "outputs": [],
   "source": []
  }
 ],
 "metadata": {
  "kernelspec": {
   "display_name": "Python 3 (ipykernel)",
   "language": "python",
   "name": "python3"
  },
  "language_info": {
   "codemirror_mode": {
    "name": "ipython",
    "version": 3
   },
   "file_extension": ".py",
   "mimetype": "text/x-python",
   "name": "python",
   "nbconvert_exporter": "python",
   "pygments_lexer": "ipython3",
   "version": "3.10.13"
  }
 },
 "nbformat": 4,
 "nbformat_minor": 5
}
