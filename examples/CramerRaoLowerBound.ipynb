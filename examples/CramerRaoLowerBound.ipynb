{
 "cells": [
  {
   "cell_type": "markdown",
   "id": "cd52fe95-d82d-4d0c-a64f-812734e88156",
   "metadata": {},
   "source": [
    "# Cramer Rao Lower Bound\n",
    "This notebook showcases how to get the Cramer Rao Lower Bound (CRLB) from a simulated dataset. "
   ]
  },
  {
   "cell_type": "code",
   "execution_count": 1,
   "id": "164162aa-4b20-4d1f-b0a7-50ade74c2eaa",
   "metadata": {},
   "outputs": [],
   "source": [
    "%matplotlib qt \n",
    "#important for the em.MultiSpectrumVisualizer since this is an interactive plotting tool"
   ]
  },
  {
   "cell_type": "code",
   "execution_count": 2,
   "id": "0f69366c-7b14-4720-90ad-eb5d77b01fef",
   "metadata": {},
   "outputs": [],
   "source": [
    "from pyEELSMODEL.components.linear_background import LinearBG\n",
    "from pyEELSMODEL.components.CLedge.zezhong_coreloss_edgecombined import ZezhongCoreLossEdgeCombined\n",
    "from pyEELSMODEL.core.multispectrum import MultiSpectrumshape, MultiSpectrum\n",
    "import pyEELSMODEL.api as em\n",
    "\n",
    "import numpy as np\n",
    "import matplotlib.pyplot as plt"
   ]
  },
  {
   "cell_type": "markdown",
   "id": "96cd4a92-7651-49b9-8491-032e3d57ddcb",
   "metadata": {},
   "source": [
    "## Simulation\n",
    "A multispectrum will be simulated. Compared to the examples, the analytical model for the simulation should be known accuratly. For the example in Coreloss Example, MethodComparison and CeriumOxidationState, the background is a convolution between the low-loss and a power-low which is not an analytical function. \\\n",
    "In this example, the background is the sum of four power-laws, a carbon and oxygen edge are used (C/O=2) and no low loss is used since it is just to illustrate the use of the CRLB."
   ]
  },
  {
   "cell_type": "code",
   "execution_count": 3,
   "id": "85197db8-3f02-4494-b67d-bd0c556ee1a1",
   "metadata": {},
   "outputs": [],
   "source": [
    "elements = ['C', 'O']\n",
    "edges = ['K', 'K']\n",
    "As = [1,2] #the relative amplitudes of the signals\n",
    "\n",
    "E0 = 300e3 #V\n",
    "alpha=1e-9 #rad\n",
    "beta=20e-3 #rad\n",
    "\n",
    "xsize = 100\n",
    "ysize = 200"
   ]
  },
  {
   "cell_type": "code",
   "execution_count": 4,
   "id": "cc971cd0-b360-4661-ba17-df80324277cf",
   "metadata": {},
   "outputs": [],
   "source": [
    "msh = MultiSpectrumshape(0.5, 200, 2048, xsize, ysize)\n",
    "sh = msh.getspectrumshape()"
   ]
  },
  {
   "cell_type": "code",
   "execution_count": 5,
   "id": "c9a1a857-28eb-425b-a977-a5223ff684cd",
   "metadata": {},
   "outputs": [],
   "source": [
    "bg = LinearBG(sh, rlist=np.linspace(1,5,4)) \n",
    "comp_elements = []\n",
    "cte = 0.01 #constant to have a proper signal-to-background value\n",
    "\n",
    "for elem, edge, A in zip(elements, edges, As):\n",
    "    comp = ZezhongCoreLossEdgeCombined(sh, A*cte,E0,alpha,beta, elem, edge)\n",
    "    comp_elements.append(comp)\n",
    "\n",
    "mod = em.Model(sh, components=[bg]+comp_elements)\n",
    "mod.calculate()"
   ]
  },
  {
   "cell_type": "code",
   "execution_count": 6,
   "id": "1b54dc3c-7c33-4744-b7f8-ab2d6b0e5e13",
   "metadata": {},
   "outputs": [
    {
     "name": "stderr",
     "output_type": "stream",
     "text": [
      "No artists with labels found to put in legend.  Note that artists whose label start with an underscore are ignored when legend() is called with no argument.\n"
     ]
    }
   ],
   "source": [
    "#shows the noisless spectrum\n",
    "mod.plot()"
   ]
  },
  {
   "cell_type": "markdown",
   "id": "6833091e-1df8-45e7-9923-87097df21ff8",
   "metadata": {},
   "source": [
    "Next cell creates a multispectrum of size: (xsize, ysize) and each row is the same spectrum with different noise. The noise is poissonian and this is changed by modifiying the total signal per spectrum (ne). Having a multispectrum where the noise content changes with respect to the columns but being equal for each row, gives us the ability to compare the CRLB with the found standard deviation as function of number of electrons. Moreover, a gain is defined which defines the number of counts created per electron. This information is important to have a proper estimate on the CRLB and depends on the detector used. "
   ]
  },
  {
   "cell_type": "code",
   "execution_count": 7,
   "id": "a1ee9ea9-c646-4a8f-aba4-1585af66e0f1",
   "metadata": {},
   "outputs": [],
   "source": [
    "gain = 5 #the signal one electron creates\n",
    "eels_data = np.zeros((xsize, ysize, msh.Esize))\n",
    "#ne is a exponential array to cover low to high signal-to-noise. \n",
    "ne = np.exp(np.linspace(1, 10, xsize)) #scaling factor to increase number of electrons per spectrum, hence improve signal-to-noise\n",
    "\n",
    "for ii in range(xsize):\n",
    "    ndata = np.copy(mod.data) * ne[ii]\n",
    "    for jj in range(ysize):\n",
    "        eels_data[ii,jj] = gain*np.random.poisson(ndata)\n",
    "\n",
    "s = MultiSpectrum(msh, data=eels_data)\n",
    "s.pppc = 1/gain"
   ]
  },
  {
   "cell_type": "code",
   "execution_count": null,
   "id": "af834fcd-3ada-4845-8a89-0864b5fd57bc",
   "metadata": {},
   "outputs": [],
   "source": [
    "em.MultiSpectrumVisualizer([s])"
   ]
  },
  {
   "cell_type": "markdown",
   "id": "416a4441-8d4a-40e9-bfa4-b5bf54fc52b7",
   "metadata": {},
   "source": [
    "## Fitting Spectra"
   ]
  },
  {
   "cell_type": "markdown",
   "id": "46ae3a8d-4b48-4677-898b-ce9459420679",
   "metadata": {},
   "source": [
    "## Defining model and fitter\n",
    "Since we know the groundth truth of the simulated multispectrum, we can define a model which will be used to fit it with. This model has three components:\n",
    "1. Background: Four terms are used\n",
    "2. Carbon K edge\n",
    "3. Oxygen K edge\n",
    "\n",
    "The fitter can be a linear one since the model is linear. Note that we optimize via the least squares method which is not exactly the same as the maximum likelihood estimator (MLE) for poisson noise. However, the linear least squares  and MLE are the same for gaussian noise which is approximatly valid."
   ]
  },
  {
   "cell_type": "code",
   "execution_count": 8,
   "id": "86c6939b-65c0-4a8c-a26c-94175f04d073",
   "metadata": {},
   "outputs": [],
   "source": [
    "bg = LinearBG(sh, rlist=np.linspace(1,5,4))\n",
    "\n",
    "comp_elements = []\n",
    "for elem, edge in zip(elements, edges):\n",
    "    comp = ZezhongCoreLossEdgeCombined(sh, 1,E0,alpha,beta, elem, edge)\n",
    "    comp_elements.append(comp)\n",
    "    \n",
    "\n",
    "mod = em.Model(sh, components=[bg]+comp_elements)\n",
    "fit = em.LinearFitter(s, mod)\n"
   ]
  },
  {
   "cell_type": "code",
   "execution_count": 9,
   "id": "c6d6c473-2da0-4ef2-9d07-f04ec4e49a64",
   "metadata": {},
   "outputs": [
    {
     "name": "stderr",
     "output_type": "stream",
     "text": [
      "20000it [00:03, 5373.96it/s]\n"
     ]
    }
   ],
   "source": [
    "fit.multi_fit()"
   ]
  },
  {
   "cell_type": "code",
   "execution_count": 10,
   "id": "b5c296e2-89aa-4b38-aca3-837afd96c844",
   "metadata": {},
   "outputs": [],
   "source": [
    "fig, maps, names = fit.show_map_result(comp_elements)"
   ]
  },
  {
   "cell_type": "code",
   "execution_count": 11,
   "id": "af8a0a45-9b46-44a5-beff-8a158a822653",
   "metadata": {},
   "outputs": [
    {
     "name": "stderr",
     "output_type": "stream",
     "text": [
      "20000it [00:11, 1788.38it/s]\n",
      "20000it [00:11, 1794.87it/s]\n"
     ]
    }
   ],
   "source": [
    "crlb_C = fit.CRLB_map(comp_elements[0].parameters[0]) #comp_elements[0].parameters[0]: amplitude of carbon edge\n",
    "crlb_O = fit.CRLB_map(comp_elements[1].parameters[0]) #comp_elements[1].parameters[0]: amplitude of oxygen edge"
   ]
  },
  {
   "cell_type": "code",
   "execution_count": 16,
   "id": "9c98d10d-3a2d-4cca-9bb6-6e78966604a2",
   "metadata": {},
   "outputs": [],
   "source": [
    "fig, ax = plt.subplots(2,2)\n",
    "ax[0,0].plot(ne/s.pppc, s.pppc*maps[0].mean(1)/ne, color='red')\n",
    "ax[0,0].axhline(As[0]*cte, linestyle='dotted', color='black', label='Ground truth')\n",
    "ax[0,0].set_ylabel('Average value/Total counts')\n",
    "ax[0,0].set_title(r'Carbon abundance')\n",
    "\n",
    "ax[0,1].plot(ne/s.pppc, s.pppc*maps[1].mean(1)/ne, color='blue')\n",
    "ax[0,1].axhline(As[1]*cte, linestyle='dotted', color='black', label='Ground truth')\n",
    "ax[0,1].set_title(r'Oxygen abundance')\n",
    "\n",
    "ax[1,0].plot(ne/s.pppc, crlb_C.mean(1)/ne, color='black', label='CRLB')\n",
    "ax[1,0].plot(ne/s.pppc, maps[0].std(1)/ne, color='red', label='std C')\n",
    "# ax[1,0].set_xscale('log')\n",
    "ax[1,1].plot(gain*ne, crlb_O.mean(1)/ne, color='black', label='CRLB')\n",
    "ax[1,1].plot(gain*ne, maps[1].std(1)/ne, color='blue', label='std O')\n",
    "# ax[1,1].set_xscale('log')\n",
    "ax[1,0].set_ylabel('Standard deviation/Total counts')\n",
    "ax[1,0].set_xlabel(r'Total counts')\n",
    "ax[1,1].set_xlabel(r'Total counts')\n",
    "\n",
    "for axe in ax.flatten():\n",
    "    axe.set_xscale('log')\n",
    "    axe.legend()"
   ]
  },
  {
   "cell_type": "code",
   "execution_count": null,
   "id": "5d7e039b-1034-446e-9d08-f12ed6fc5e7f",
   "metadata": {},
   "outputs": [],
   "source": []
  },
  {
   "cell_type": "code",
   "execution_count": null,
   "id": "54f00e82-437b-4a14-9956-67b15268c11d",
   "metadata": {},
   "outputs": [],
   "source": []
  },
  {
   "cell_type": "code",
   "execution_count": null,
   "id": "713d7ce9-831c-48fb-b4e7-36d1354b1fad",
   "metadata": {},
   "outputs": [],
   "source": []
  }
 ],
 "metadata": {
  "kernelspec": {
   "display_name": "Python 3 (ipykernel)",
   "language": "python",
   "name": "python3"
  },
  "language_info": {
   "codemirror_mode": {
    "name": "ipython",
    "version": 3
   },
   "file_extension": ".py",
   "mimetype": "text/x-python",
   "name": "python",
   "nbconvert_exporter": "python",
   "pygments_lexer": "ipython3",
   "version": "3.10.13"
  }
 },
 "nbformat": 4,
 "nbformat_minor": 5
}
