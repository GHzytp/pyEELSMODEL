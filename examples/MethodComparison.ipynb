{
 "cells": [
  {
   "cell_type": "markdown",
   "id": "45ae98f8-d687-426e-baf0-18b2c5970ff9",
   "metadata": {},
   "source": [
    "# Method comparison\n",
    "In this notebook, three different methods of doing core-loss quantification will be compared to each other on a simulated dataset.\n",
    "1. **Conventional**: Conventional background removal with a power-law\n",
    "2. **Power-law Model**: Model-based fitting with power-law background\n",
    "3. **Linear Model**: Model-based fitting with sum of power-laws background"
   ]
  },
  {
   "cell_type": "code",
   "execution_count": 1,
   "id": "babd0dfd-a7e1-4545-a4b0-739ae47fe9de",
   "metadata": {},
   "outputs": [],
   "source": [
    "%matplotlib qt"
   ]
  },
  {
   "cell_type": "code",
   "execution_count": 2,
   "id": "f537de29-1030-418b-bf81-67a180160bd4",
   "metadata": {},
   "outputs": [],
   "source": [
    "from pyEELSMODEL.operators.simulator.coreloss_simulator import CoreLossSimulator\n",
    "from pyEELSMODEL.operators.quantification.elemental_quantification import ElementalQuantification\n",
    "from pyEELSMODEL.operators.backgroundremoval import BackgroundRemoval\n",
    "\n",
    "from pyEELSMODEL.core.multispectrum import MultiSpectrumshape, MultiSpectrum\n",
    "import pyEELSMODEL.api as em\n",
    "\n",
    "import numpy as np\n",
    "import matplotlib.pyplot as plt\n",
    "from mpl_toolkits.axes_grid1 import make_axes_locatable"
   ]
  },
  {
   "cell_type": "markdown",
   "id": "8df5269e-a394-4358-91d2-43e706207cbd",
   "metadata": {},
   "source": [
    "## Simulation core-loss\n",
    "In this section , the core-loss signal will be simulated. *This step is in general not needed since we get the experimental data instead of simulating it.*\n"
   ]
  },
  {
   "cell_type": "code",
   "execution_count": 3,
   "id": "52871bcd-c6c5-4923-8ba1-ed3e15ed6816",
   "metadata": {},
   "outputs": [],
   "source": [
    "def make_circular_mask(xco, yco, Rin, Rout, shape):\n",
    "    XX, YY = np.meshgrid(np.arange(shape[1])-yco, np.arange(shape[0])-xco)\n",
    "    \n",
    "    R = np.sqrt(XX**2+YY**2)\n",
    "    \n",
    "    mask = np.zeros(shape)\n",
    "    boolean = (R>=Rin) & (R<Rout)\n",
    "    mask[boolean] = 1\n",
    "    return mask\n",
    "\n",
    "def make_rectangular_mask(xco, yco, width,height, shape):\n",
    "    mask = np.zeros(shape)\n",
    "    mask[xco:xco+width, yco:yco+height] = 1\n",
    "    return mask"
   ]
  },
  {
   "cell_type": "markdown",
   "id": "d303bf4c-676e-49d2-98a3-430364a6432f",
   "metadata": {},
   "source": [
    "#### Elemental abundance maps\n",
    "Define the elements and the eges used. Add the atomic numbers since they will be used to have some estimate on the free mean path. \\\n",
    "Different masks are defined to showcase an elemental abundance at each position"
   ]
  },
  {
   "cell_type": "code",
   "execution_count": 4,
   "id": "232407e3-1b92-4b71-b63b-bda369f2f705",
   "metadata": {},
   "outputs": [],
   "source": [
    "elements = ['C', 'N', 'O', 'Fe']\n",
    "edges = ['K', 'K', 'K', 'L']\n",
    "Zs = [6, 7, 8, 26] #atomic weights\n",
    "\n",
    "#scan size elemental map\n",
    "xsize = 128\n",
    "ysize = 128\n",
    "maps = np.zeros((len(elements),xsize,ysize))\n",
    "\n",
    "#masks which define different regions. \n",
    "mask0 =make_rectangular_mask(5, 5, 20, 20, (xsize,ysize))\n",
    "mask1 =  make_rectangular_mask(90, 90, 20, 30, (xsize,ysize))\n",
    "mask2 = make_circular_mask(xsize//2, ysize//2, 20, 30, (xsize,ysize))\n",
    "mask3 = make_circular_mask(xsize//2, ysize//2, 0, 20, (xsize,ysize))\n",
    "\n",
    "#attribute different elemental values for different masks\n",
    "maps[0] = 1  #carbon elemental map\n",
    "maps[1] = 2*mask0 + mask1 #nitrogen elemental map\n",
    "maps[2] = mask2 #oxygen elemental map\n",
    "maps[3] = mask3+0.5*mask2 #iron elemental map"
   ]
  },
  {
   "cell_type": "code",
   "execution_count": 5,
   "id": "052a78ad-d27c-471f-978f-c3da37a9a5bb",
   "metadata": {},
   "outputs": [],
   "source": [
    "#shows the real truth elemental abundance\n",
    "fig, ax = plt.subplots(1,len(elements))\n",
    "for ii in range(maps.shape[0]):\n",
    "    ax[ii].imshow(maps[ii], cmap='gray')\n",
    "    ax[ii].set_title(elements[ii])"
   ]
  },
  {
   "cell_type": "markdown",
   "id": "a195f455-970d-4743-bea0-0819ce2756e9",
   "metadata": {},
   "source": [
    "#### t/&lambda;\n",
    "Calculate some measure of inelastic mean free path to include this into the simulated data. Since a change in inelastic mean free path modfies the multiple scattering which then changes the shape of background and core loss edge"
   ]
  },
  {
   "cell_type": "code",
   "execution_count": 6,
   "id": "f1c35ab7-9571-4648-9116-210ce3cb8201",
   "metadata": {},
   "outputs": [],
   "source": [
    "adf = np.zeros((xsize, ysize))\n",
    "tlambda_map = np.zeros_like(adf)\n",
    "for ii in range(maps.shape[0]):\n",
    "    adf += (Zs[ii]*maps[ii])**2\n",
    "    tlambda_map += Zs[ii]*maps[ii]\n",
    "    \n",
    "tlambda_map = tlambda_map/tlambda_map.max() #maximum t/lambda is 1 for this sample"
   ]
  },
  {
   "cell_type": "code",
   "execution_count": 7,
   "id": "f3abc2a5-d3f8-43a4-b895-f508efff91d1",
   "metadata": {},
   "outputs": [
    {
     "data": {
      "text/plain": [
       "Text(0.5, 1.0, 'mean free path')"
      ]
     },
     "execution_count": 7,
     "metadata": {},
     "output_type": "execute_result"
    }
   ],
   "source": [
    "#shows adf and mean-free path figure\n",
    "fig, ax = plt.subplots(1,2)\n",
    "ax[0].imshow(adf, cmap='gray')\n",
    "ax[0].set_title(r'ADF like contrast')\n",
    "ax[1].imshow(tlambda_map, cmap='gray')\n",
    "ax[1].set_title('mean free path')"
   ]
  },
  {
   "cell_type": "markdown",
   "id": "97368622-9c77-4d8e-9528-4269f6b5c7ae",
   "metadata": {},
   "source": [
    "#### Simulation part\n",
    "CoreLossSimulator is an object which simulates a core loss multispectrum from the given elements, maps, t/&lambda; and the settings.\\\n",
    "Here is a small description on how the multispectrum gets simulated:\n",
    "1. Calculate a low loss which contains a zero-loss (Gaussian) with a FWHM (1eV) and the low loss. The low loss only uses the bulk plasmons, these are calculated using the plasmon energy (22 eV) and t/&lambda;. In this simulation the only variying parameter in the low loss is the t/&lambda; . This is done to showcase the influence of multiple scattering on the core-loss spectra.\n",
    "2. The background is calculated by starting with a powerlaw (A E<sup>-3</sup>) which gets convolved with the low loss at each probe position. This modifies the shape of the background. \n",
    "3. The core loss edges are calculated using the E0, alpha, beta and GOS tables available. The calculated shape then gets convolved with the low loss to thake the multiple scattering into account. The GOS tables used are the one calculated by [Zhang Zezhong](https://zenodo.org/records/7729585). Note that no fine structure is added to the edges which is something that is always present in experimental EEL spectra. \n",
    "4. Poisson noise is added to the core-loss."
   ]
  },
  {
   "cell_type": "code",
   "execution_count": 16,
   "id": "483646b4-a3d4-474f-87c4-24a2673263f6",
   "metadata": {},
   "outputs": [],
   "source": [
    "E0 = 300e3 #acceleration voltage [V]\n",
    "alpha = 1e-9 #convergence angle [rad]\n",
    "beta = 20e-3 #collection angle [rad]\n",
    "\n",
    "dispersion = 0.5 #[eV]\n",
    "offset = 200 #[eV]\n",
    "size = 2048 #number of pixel used in simulation [eV]\n",
    "\n",
    "settings = (E0, alpha, beta)\n",
    "msh = em.MultiSpectrumshape(dispersion, offset, size, xsize, ysize)"
   ]
  },
  {
   "cell_type": "code",
   "execution_count": 9,
   "id": "17048054-551d-4442-8423-ff0582f3a438",
   "metadata": {},
   "outputs": [
    {
     "name": "stderr",
     "output_type": "stream",
     "text": [
      "16384it [00:13, 1202.08it/s]\n",
      "16384it [00:36, 443.36it/s]"
     ]
    },
    {
     "name": "stdout",
     "output_type": "stream",
     "text": [
      "Multispectrum is simulated\n"
     ]
    },
    {
     "name": "stderr",
     "output_type": "stream",
     "text": [
      "\n"
     ]
    }
   ],
   "source": [
    "sim = em.CoreLossSimulator(msh, elements, edges, maps, tlambda_map, settings)\n",
    "sim.use_shift = False #no shifts are added\n",
    "sim.simulate_multispectrum()"
   ]
  },
  {
   "cell_type": "code",
   "execution_count": 17,
   "id": "4440ef30-6a4d-4ddd-abb1-3377b3b40d30",
   "metadata": {},
   "outputs": [],
   "source": [
    "#redefine the multispectra for easy use\n",
    "hl = sim.multispectrum\n",
    "ll = sim.ll"
   ]
  },
  {
   "cell_type": "markdown",
   "id": "b49694e2-9b95-4c3e-b98b-7f7072b7709f",
   "metadata": {},
   "source": [
    "## Quantification Part\n",
    "In this section, the three methods are used to obtain quantitative results on EELS map. \n"
   ]
  },
  {
   "cell_type": "markdown",
   "id": "a1638983-756a-4844-b99a-a11d340b1c35",
   "metadata": {},
   "source": [
    "#### Conventional\n",
    "The conventional method selects a pre-region from each edge. These regions should be selected by the user. These pre regions are used to fit a power-law function ($AE^{-r}$). Since this is a non-linear function, proper starting values should be provided. These starting values are estimated by performing a linear fit on:\\\n",
    "$$\\log S(E) = \\log A - r \\log E,$$ \n",
    "where S(E) is the measured intensity, E the energy axis [eV], A the amplitude of the power-law and r the power of the power-law.\n",
    "These values will be given as starting parameters for the non-linear fit. Note, other methods can be used to estimate the starting values of the power-law but are not used at this point. \\\n",
    "The next step is to integrate the signal under the remaining edge ($I_m$). The interval regions [$E_1$, $E_2$] over which to integrate are selected by the user could be described by following function.\n",
    "$$I_m =   \\int_{E_1}^{E_2} S(E) - bg(E) dE$$\n",
    "To get an estimate on the real abundance, this value should be compared to the theoretical cross section. This cross section is calculated by using the atomic GOS ($\\sigma_A$) and the experimental parameters; acceleration voltage, convergence angle, collection angle and low loss (ZLP). The expected intensity ($I_e$) is then calculated by integrating the theoretical edge over the same interval.\n",
    "$$I_e = \\int_{E_1}^{E_2} ZLP(E) \\ast \\sigma_A(E, E_0, \\alpha, \\beta) dE  $$\n",
    "The resulting abundance is the ratio of measured intensity over expected intensity $I_m/I_e$.\n"
   ]
  },
  {
   "cell_type": "code",
   "execution_count": 11,
   "id": "841f5582-2489-4f76-a406-024379951130",
   "metadata": {},
   "outputs": [
    {
     "name": "stdout",
     "output_type": "stream",
     "text": [
      "True\n"
     ]
    },
    {
     "name": "stderr",
     "output_type": "stream",
     "text": [
      "16384it [00:02, 6751.95it/s]\n",
      "16384it [00:33, 481.93it/s]\n",
      "16384it [00:01, 14100.49it/s]\n",
      "16384it [00:08, 1832.40it/s]\n"
     ]
    },
    {
     "name": "stdout",
     "output_type": "stream",
     "text": [
      "True\n"
     ]
    },
    {
     "name": "stderr",
     "output_type": "stream",
     "text": [
      "16384it [00:02, 6192.05it/s]\n",
      "16384it [00:40, 406.37it/s]\n",
      "16384it [00:01, 13454.15it/s]\n",
      "16384it [00:09, 1798.89it/s]\n"
     ]
    },
    {
     "name": "stdout",
     "output_type": "stream",
     "text": [
      "True\n"
     ]
    },
    {
     "name": "stderr",
     "output_type": "stream",
     "text": [
      "16384it [00:02, 6731.93it/s]\n",
      "16384it [00:41, 391.48it/s]\n",
      "16384it [00:01, 13542.57it/s]\n",
      "16384it [00:09, 1819.19it/s]\n"
     ]
    },
    {
     "name": "stdout",
     "output_type": "stream",
     "text": [
      "True\n"
     ]
    },
    {
     "name": "stderr",
     "output_type": "stream",
     "text": [
      "16384it [00:02, 6675.14it/s]\n",
      "16384it [00:52, 312.08it/s]\n",
      "16384it [00:01, 14260.09it/s]\n",
      "16384it [00:09, 1709.24it/s]\n"
     ]
    }
   ],
   "source": [
    "signal_ranges = [[220,280],[350,395],[440,520],[600,700]] #user-selected\n",
    "int_wins= [[285,350],[400,475],[525,600], [700,800]] #user-selected\n",
    "elements = ['C', 'N', 'O', 'Fe'] #the sequence of elements chosen in signal_ranges\n",
    "E0=settings[0]\n",
    "alpha=settings[1]\n",
    "beta=settings[2]\n",
    "int_maps = np.zeros_like(maps)\n",
    "for ii in range(len(signal_ranges)):\n",
    "    back = BackgroundRemoval(hl, signal_ranges[ii])\n",
    "    rem = back.calculate_multi()\n",
    "    int_maps[ii] = back.quantify_from_edge(int_wins[ii], elements[ii], edges[ii],\n",
    "                                           E0, alpha, beta, ll=ll)"
   ]
  },
  {
   "cell_type": "code",
   "execution_count": 12,
   "id": "74fc147e-2c76-463c-a3ae-d2e54864ab2d",
   "metadata": {},
   "outputs": [],
   "source": [
    "fig, ax = plt.subplots(1, int_maps.shape[0])\n",
    "for ii in range(int_maps.shape[0]):\n",
    "    ax[ii].imshow(int_maps[ii])\n",
    "    ax[ii].set_title(elements[ii])"
   ]
  },
  {
   "cell_type": "markdown",
   "id": "97214bd9-a623-447e-af00-1c8e89cc7040",
   "metadata": {},
   "source": [
    "#### Power-law Model\n",
    "The model-based approach where the power-law is used as background function. The atomic cross sections are calculated using the GOS tables calculated by [Zhang Zezhong](https://zenodo.org/records/7729585) Multiple scattering is taken into account by adding the low-loss multispectrum. Here, the ElementalQuantification class is used for the quantification workflow. If one is interested in how to do the workflow by itself, then I would advice to have a look at the Coreloss Example notebook or have a look at the source code used in the ElementalQuantification class. "
   ]
  },
  {
   "cell_type": "code",
   "execution_count": 13,
   "id": "3b0ad3e6-5f3d-4346-bbdd-39885dc50f8c",
   "metadata": {},
   "outputs": [],
   "source": [
    "elements = ['C', 'N', 'O', 'Fe']\n",
    "edges = ['K', 'K', 'K', 'L']\n",
    "\n",
    "E0 = 300e3 #acceleration voltage [V]\n",
    "alpha = 1e-9 #convergence angle [rad]\n",
    "beta = 20e-3 #collection angle [rad]\n",
    "settings = (E0, alpha, beta)"
   ]
  },
  {
   "cell_type": "markdown",
   "id": "72b46d85-e461-4c29-bd6c-5e4e5e84e258",
   "metadata": {},
   "source": [
    "The non-linear fitting procedure is rather slow (20 it/s) on this pc. Hence the computation takes some time +-15 min. "
   ]
  },
  {
   "cell_type": "code",
   "execution_count": 14,
   "id": "b1436df0-027e-4689-8ef5-59fdf5fb4164",
   "metadata": {},
   "outputs": [
    {
     "name": "stdout",
     "output_type": "stream",
     "text": [
      "dataset is already aligned\n"
     ]
    },
    {
     "name": "stderr",
     "output_type": "stream",
     "text": [
      "cannot use analytical gradients since a convolutor is inside model\n",
      "16384it [12:20, 22.12it/s]\n",
      "16384it [00:07, 2158.95it/s]\n"
     ]
    }
   ],
   "source": [
    "quantpw = ElementalQuantification(hl, elements, edges, settings, ll=ll)\n",
    "quantpw.background_model = 'powerlaw' #attribute to indicate the background model\n",
    "quantpw.do_procedure()"
   ]
  },
  {
   "cell_type": "markdown",
   "id": "b3513e6d-87e7-49a4-95f8-b9ed346bb56c",
   "metadata": {},
   "source": [
    "#### Linear Model\n",
    "The model-based approach where background is estimated as the sum of power-laws. In this work, the exact background function is following:\n",
    "$$ bg(E) = A_0 E^{-1} + A_1 E^{-2.33} + A_2 E^{-3.66} + A_3 E^{-5}, $$\n",
    "The values of the powers are taken from [Van den Broek et al](https://doi.org/10.1016/j.ultramic.2023.113830). This choice of background reduces the optimization problem to a linear one. This has the advantage of being faster, non-iterative and no starting values are needed. Moreover, as is shown in [Van den Broek et al](https://doi.org/10.1016/j.ultramic.2023.113830), this background function is a better description of a real background signal in EELS compared to a power-law especially over large energy windows. The atomic cross sections and low loss is the same as for the **Power-law Method**."
   ]
  },
  {
   "cell_type": "code",
   "execution_count": 18,
   "id": "e3c94c71-1660-4acf-b0de-1c0b70d06a87",
   "metadata": {},
   "outputs": [
    {
     "name": "stdout",
     "output_type": "stream",
     "text": [
      "dataset is already aligned\n"
     ]
    },
    {
     "name": "stderr",
     "output_type": "stream",
     "text": [
      "cannot use analytical gradients since a convolutor is inside model\n",
      "16384it [00:32, 502.75it/s]\n",
      "16384it [00:11, 1430.99it/s]\n"
     ]
    }
   ],
   "source": [
    "quant = ElementalQuantification(hl, elements, edges, settings, ll=ll)\n",
    "quant.n_bgterms = 4 #attribute to indicate the number of terms used in the linear background model\n",
    "quant.linear_fitter_method = 'ols' #the optimization method, ols (ordinary least squares) non-negative is also available (nnls)\n",
    "quant.do_procedure()"
   ]
  },
  {
   "cell_type": "markdown",
   "id": "822ba9a7-c1dc-4ffa-adef-402cecc98a61",
   "metadata": {},
   "source": [
    "## Comparison \n",
    "The last section shows some comparisons between the different methods. The first part compares the resulting fits of **Power-law Method** and **Linear Method** in terms of error between fitted model and experimental data. The second part compares the elemental abundances obtained from the different methods. "
   ]
  },
  {
   "cell_type": "markdown",
   "id": "79e7b32e-226b-44d3-9868-cf6c0d2d29d4",
   "metadata": {},
   "source": [
    "#### Resulting Fits\n",
    "The resulting fits are first visually compared and next the error between the fit and experimental data is shown."
   ]
  },
  {
   "cell_type": "code",
   "execution_count": 19,
   "id": "f3bbdd58-6c41-4511-a34b-ac6054b9876a",
   "metadata": {},
   "outputs": [
    {
     "name": "stderr",
     "output_type": "stream",
     "text": [
      "16384it [00:10, 1551.52it/s]\n",
      "16384it [00:11, 1480.35it/s]\n",
      "16384it [00:12, 1298.72it/s]\n",
      "16384it [00:10, 1517.68it/s]\n",
      "16384it [00:12, 1332.25it/s]\n",
      "16384it [00:08, 2004.58it/s]\n",
      "16384it [00:07, 2082.30it/s]\n",
      "16384it [00:07, 2109.07it/s]\n",
      "16384it [00:07, 2074.78it/s]\n",
      "16384it [00:08, 2016.88it/s]\n"
     ]
    }
   ],
   "source": [
    "multimodels = quant.get_multimodels()\n",
    "multimodelspw = quantpw.get_multimodels()"
   ]
  },
  {
   "cell_type": "code",
   "execution_count": 38,
   "id": "cc677cc7-c09e-4db2-bc08-8dafd3594d39",
   "metadata": {},
   "outputs": [
    {
     "name": "stderr",
     "output_type": "stream",
     "text": [
      "No artists with labels found to put in legend.  Note that artists whose label start with an underscore are ignored when legend() is called with no argument.\n"
     ]
    },
    {
     "data": {
      "text/plain": [
       "<pyEELSMODEL.operators.multispectrumvisualizer.MultiSpectrumVisualizer at 0x21301620a60>"
      ]
     },
     "execution_count": 38,
     "metadata": {},
     "output_type": "execute_result"
    }
   ],
   "source": [
    "#comparison between experimental data and linear model\n",
    "em.MultiSpectrumVisualizer([hl]+multimodels)"
   ]
  },
  {
   "cell_type": "code",
   "execution_count": 20,
   "id": "098bcb3f-b2e6-47b3-b2fc-149b1fc635c4",
   "metadata": {},
   "outputs": [
    {
     "name": "stderr",
     "output_type": "stream",
     "text": [
      "No artists with labels found to put in legend.  Note that artists whose label start with an underscore are ignored when legend() is called with no argument.\n"
     ]
    },
    {
     "data": {
      "text/plain": [
       "<pyEELSMODEL.operators.multispectrumvisualizer.MultiSpectrumVisualizer at 0x2444846d180>"
      ]
     },
     "execution_count": 20,
     "metadata": {},
     "output_type": "execute_result"
    }
   ],
   "source": [
    "#comparison between experimental data and power-law model\n",
    "em.MultiSpectrumVisualizer([hl]+multimodelspw)"
   ]
  },
  {
   "cell_type": "code",
   "execution_count": 21,
   "id": "4a9293bb-5734-42fe-ad14-d248d04d8ed1",
   "metadata": {},
   "outputs": [
    {
     "data": {
      "text/plain": [
       "<pyEELSMODEL.operators.multispectrumvisualizer.MultiSpectrumVisualizer at 0x2445b0aea10>"
      ]
     },
     "execution_count": 21,
     "metadata": {},
     "output_type": "execute_result"
    }
   ],
   "source": [
    "#comparison of the total fit between two methods\n",
    "em.MultiSpectrumVisualizer([hl]+[multimodels[-1]]+[multimodelspw[-1]], labels=['Data','Linear','Powerlaw'])"
   ]
  },
  {
   "cell_type": "markdown",
   "id": "484ff4e1-cd7e-4f27-a54c-c2c26b153e2a",
   "metadata": {},
   "source": [
    "The error of each fitted spectrum. Check the colorbar indicating the absolute error which is larger for the **Power-law Method**. This shows that the power-law is not a valid model for the backgroud. The linear background is also not perfect and still some bias is present but it is better at approximating the background which in this case is the convolution of a power-law with the low loss signal."
   ]
  },
  {
   "cell_type": "code",
   "execution_count": 55,
   "id": "c9bd6c30-f7cf-4d55-ba14-f83f6ef2ff51",
   "metadata": {},
   "outputs": [
    {
     "data": {
      "text/plain": [
       "<matplotlib.colorbar.Colorbar at 0x21305b25720>"
      ]
     },
     "execution_count": 55,
     "metadata": {},
     "output_type": "execute_result"
    }
   ],
   "source": [
    "fig, ax = plt.subplots(1,2)\n",
    "im= ax[0].imshow(quant.fitter.error_matrix)\n",
    "divider = make_axes_locatable(ax[0])\n",
    "cax = divider.append_axes('right', size='5%', pad=0.05)\n",
    "fig.colorbar(im, cax=cax, orientation='vertical')\n",
    "\n",
    "im = ax[1].imshow(quantpw.fitter.error_matrix)\n",
    "divider = make_axes_locatable(ax[1])\n",
    "cax = divider.append_axes('right', size='5%', pad=0.05)\n",
    "fig.colorbar(im, cax=cax, orientation='vertical')"
   ]
  },
  {
   "cell_type": "markdown",
   "id": "ede45a2f-2a6f-43eb-b01a-9182bcf5faf8",
   "metadata": {},
   "source": [
    "#### Elemental maps: visual inspection\n",
    "A visual inspection to compare the different methods with the ground truth. Note that a quantitative comparison from these images is difficult to do. However some artifacts can already be seen. For example, the oxgyen map for conventional shows a negative content in the left top square. Also for the power-law method, the carbon content is not homogeneous over the map."
   ]
  },
  {
   "cell_type": "code",
   "execution_count": 45,
   "id": "eb0c8cc1-a906-4710-bf75-ebc920b08de0",
   "metadata": {},
   "outputs": [],
   "source": [
    "mths = [maps, int_maps, quantpw.elemental_maps, quant.elemental_maps]\n",
    "mths_nms = ['Ground truth', 'Conventional', 'Power-law Method', 'Linear Method']\n",
    "\n",
    "fig, ax = plt.subplots(4, len(elements))\n",
    "for jj in range(len(mths)):\n",
    "    for ii in range(len(elements)):\n",
    "        if ii == 0:\n",
    "            vmin = -0.1\n",
    "            vmax = 1.5*mths[jj][ii].max()\n",
    "        \n",
    "        ax[jj,ii].imshow(mths[jj][ii], vmin=vmin, vmax=vmax)\n",
    "\n",
    "        if ii == 0:\n",
    "            ax[jj,ii].set_ylabel(mths_nms[jj])\n",
    "        if jj == 0:\n",
    "            ax[jj,ii].set_title(elements[ii])\n"
   ]
  },
  {
   "cell_type": "markdown",
   "id": "a4ade515-7428-49a0-9b1e-74778f8ab10a",
   "metadata": {},
   "source": [
    "#### Elemental abundance: quantitative comparison\n",
    "Since we know the ground truth of the different regions we can compare the average values to see if there is any bias (accuracy) present. Moreover because the different regions have a constant abundance, the standard devitiation can be used to have some measure of precision. One could identify 4 different regions on the sample. "
   ]
  },
  {
   "cell_type": "code",
   "execution_count": 28,
   "id": "91131008-3b62-49f0-bee5-235af85e3572",
   "metadata": {},
   "outputs": [],
   "source": [
    "def get_average_std(mask, mths, mths_nms, rn=2):\n",
    "    \"\"\"\n",
    "    Small function to get the average and standard deviation from the region \n",
    "    identified by mask. \n",
    "    \"\"\"\n",
    "    for ii in range(maps.shape[0]):\n",
    "            print('Mask, element: '+str(elements[ii]))\n",
    "            theo = maps[ii][mask.astype('bool')].flatten().mean()\n",
    "            print('Theoretical value: ' + str(theo))\n",
    "            \n",
    "            for kk in range(len(mths)):\n",
    "                ndata = mths[kk][ii][mask.astype('bool')].flatten()\n",
    "                avg = ndata.mean()\n",
    "                std = ndata.std()\n",
    "                print(mths_nms[kk] + ' method: '+str(np.round(avg,rn))+' +- ' + str(np.round(std, rn)))\n",
    "                \n",
    "            print(' ')"
   ]
  },
  {
   "cell_type": "markdown",
   "id": "305f41df-7846-40e5-882d-d4b58167552c",
   "metadata": {},
   "source": [
    "##### Region 0 "
   ]
  },
  {
   "cell_type": "code",
   "execution_count": null,
   "id": "0f85775c-8eb1-4611-b55d-0db4bfc7f4fd",
   "metadata": {
    "scrolled": true
   },
   "outputs": [],
   "source": [
    "fig, ax = plt.subplots()\n",
    "ax.imshow(mask0)\n",
    "\n",
    "get_average_std(mask0, mths, mths_nms)"
   ]
  },
  {
   "cell_type": "markdown",
   "id": "35e1b2b2-978a-4dbc-bbec-5545d2babf6f",
   "metadata": {},
   "source": [
    "##### Region 1 "
   ]
  },
  {
   "cell_type": "code",
   "execution_count": 46,
   "id": "c0be0cf6-c8ed-459d-b2db-bf9821368717",
   "metadata": {},
   "outputs": [
    {
     "name": "stdout",
     "output_type": "stream",
     "text": [
      "Mask, element: C\n",
      "Theoretical value: 1.0\n",
      "Ground truth method: 1.0 +- 0.0\n",
      "Conventional method: 0.93 +- 0.09\n",
      "Power-law Method method: 1.23 +- 0.04\n",
      "Linear Method method: 1.04 +- 0.07\n",
      " \n",
      "Mask, element: N\n",
      "Theoretical value: 1.0\n",
      "Ground truth method: 1.0 +- 0.0\n",
      "Conventional method: 0.97 +- 0.21\n",
      "Power-law Method method: 0.81 +- 0.05\n",
      "Linear Method method: 1.0 +- 0.08\n",
      " \n",
      "Mask, element: O\n",
      "Theoretical value: 0.0\n",
      "Ground truth method: 0.0 +- 0.0\n",
      "Conventional method: -0.12 +- 0.18\n",
      "Power-law Method method: 0.0 +- 0.0\n",
      "Linear Method method: -0.05 +- 0.07\n",
      " \n",
      "Mask, element: Fe\n",
      "Theoretical value: 0.0\n",
      "Ground truth method: 0.0 +- 0.0\n",
      "Conventional method: -0.0 +- 0.06\n",
      "Power-law Method method: 0.0 +- 0.0\n",
      "Linear Method method: -0.02 +- 0.02\n",
      " \n"
     ]
    }
   ],
   "source": [
    "fig, ax = plt.subplots()\n",
    "ax.imshow(mask1)\n",
    "\n",
    "get_average_std(mask1, mths, mths_nms)"
   ]
  },
  {
   "cell_type": "markdown",
   "id": "d27f36b4-c110-4503-bebf-fc550d186149",
   "metadata": {},
   "source": [
    "##### Region 2 "
   ]
  },
  {
   "cell_type": "code",
   "execution_count": 31,
   "id": "79bf9393-71f7-4118-8bd7-b4682e921508",
   "metadata": {},
   "outputs": [
    {
     "name": "stdout",
     "output_type": "stream",
     "text": [
      "Mask, element: C\n",
      "Theoretical value: 1.0\n",
      "Ground truth method: 1.0 +- 0.0\n",
      "Conventional method: 0.93 +- 0.12\n",
      "Power-law Method method: 0.97 +- 0.06\n",
      "Linear Method method: 1.04 +- 0.09\n",
      " \n",
      "Mask, element: N\n",
      "Theoretical value: 0.0\n",
      "Ground truth method: 0.0 +- 0.0\n",
      "Conventional method: -0.16 +- 0.25\n",
      "Power-law Method method: 0.0 +- 0.0\n",
      "Linear Method method: -0.01 +- 0.1\n",
      " \n",
      "Mask, element: O\n",
      "Theoretical value: 1.0\n",
      "Ground truth method: 1.0 +- 0.0\n",
      "Conventional method: 1.02 +- 0.2\n",
      "Power-law Method method: 0.52 +- 0.07\n",
      "Linear Method method: 0.96 +- 0.09\n",
      " \n",
      "Mask, element: Fe\n",
      "Theoretical value: 0.5\n",
      "Ground truth method: 0.5 +- 0.0\n",
      "Conventional method: 0.5 +- 0.07\n",
      "Power-law Method method: 0.34 +- 0.02\n",
      "Linear Method method: 0.49 +- 0.03\n",
      " \n"
     ]
    }
   ],
   "source": [
    "fig, ax = plt.subplots()\n",
    "ax.imshow(mask2)\n",
    "\n",
    "get_average_std(mask2, mths, mths_nms)"
   ]
  },
  {
   "cell_type": "markdown",
   "id": "0bab2915-2767-4b11-85d5-09497743678e",
   "metadata": {},
   "source": [
    "##### Region 3"
   ]
  },
  {
   "cell_type": "code",
   "execution_count": 36,
   "id": "4ccba0b6-1b31-4d39-bfe6-ba64d95de458",
   "metadata": {},
   "outputs": [
    {
     "name": "stdout",
     "output_type": "stream",
     "text": [
      "Mask, element: C\n",
      "Theoretical value: 1.0\n",
      "Ground truth method: 1.0 +- 0.0\n",
      "Conventional method: 0.93 +- 0.12\n",
      "Power-law Method method: 1.05 +- 0.05\n",
      "Linear Method method: 1.04 +- 0.11\n",
      " \n",
      "Mask, element: N\n",
      "Theoretical value: 0.0\n",
      "Ground truth method: 0.0 +- 0.0\n",
      "Conventional method: -0.23 +- 0.27\n",
      "Power-law Method method: 0.0 +- 0.0\n",
      "Linear Method method: -0.02 +- 0.11\n",
      " \n",
      "Mask, element: O\n",
      "Theoretical value: 0.0\n",
      "Ground truth method: 0.0 +- 0.0\n",
      "Conventional method: -0.02 +- 0.21\n",
      "Power-law Method method: 0.0 +- 0.0\n",
      "Linear Method method: -0.05 +- 0.09\n",
      " \n",
      "Mask, element: Fe\n",
      "Theoretical value: 1.0\n",
      "Ground truth method: 1.0 +- 0.0\n",
      "Conventional method: 1.03 +- 0.07\n",
      "Power-law Method method: 0.82 +- 0.02\n",
      "Linear Method method: 0.99 +- 0.03\n",
      " \n"
     ]
    }
   ],
   "source": [
    "fig, ax = plt.subplots()\n",
    "ax.imshow(mask3)\n",
    "\n",
    "get_average_std(mask3, mths, mths_nms)"
   ]
  }
 ],
 "metadata": {
  "kernelspec": {
   "display_name": "Python 3 (ipykernel)",
   "language": "python",
   "name": "python3"
  },
  "language_info": {
   "codemirror_mode": {
    "name": "ipython",
    "version": 3
   },
   "file_extension": ".py",
   "mimetype": "text/x-python",
   "name": "python",
   "nbconvert_exporter": "python",
   "pygments_lexer": "ipython3",
   "version": "3.10.13"
  }
 },
 "nbformat": 4,
 "nbformat_minor": 5
}
