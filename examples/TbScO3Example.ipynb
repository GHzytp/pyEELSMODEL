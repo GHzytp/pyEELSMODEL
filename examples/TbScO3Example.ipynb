{
 "cells": [
  {
   "cell_type": "markdown",
   "metadata": {},
   "source": [
    "# Constrained Fine Structure Fitting on TbScO3\n",
    "This notebook shows how to perform the constrained fine structure fit on EELS datasets. The example shows an atomic scale map on TbScO3 where three different methods are applied to the data.\n",
    "1. Unconstrained fine structure: No constrains are applied to the fine structure\n",
    "2. Constrained fine structure: Constrains derived from the Bethe sum rule are applied to the three core-loss edges\n",
    "3. Power-law subtraction which is the conventional EELS processing method. \n",
    "\n",
    "For the model based methods, the constrained background model is also used. For more information on the methodology see the work of [Jannis et al](https://arxiv.org/abs/2408.11870).\n"
   ]
  },
  {
   "cell_type": "code",
   "execution_count": 1,
   "metadata": {},
   "outputs": [],
   "source": [
    "%matplotlib qt"
   ]
  },
  {
   "cell_type": "code",
   "execution_count": 2,
   "metadata": {},
   "outputs": [],
   "source": [
    "import pyEELSMODEL.api as em\n",
    "import matplotlib.pyplot as plt\n",
    "import os\n",
    "import numpy as np\n",
    "\n",
    "from pyEELSMODEL.components.linear_background import LinearBG\n",
    "from pyEELSMODEL.components.gdoslin import GDOSLin\n",
    "from pyEELSMODEL.components.constrained_gdoslin import ConstrainedGDOSLin\n",
    "from pyEELSMODEL.components.MScatter.mscatterfft import MscatterFFT"
   ]
  },
  {
   "cell_type": "code",
   "execution_count": 4,
   "metadata": {},
   "outputs": [],
   "source": [
    "def do_fine_structure_fit(s, ll, elements, edges, onsets, ewidths, ns, settings, method):\n",
    "    \"\"\"\n",
    "    Small function which wraps the fitting of the multispectrum or a single spectrum. \n",
    "\n",
    "    Args:\n",
    "        s (MultiSpectrum): The multispectrum which needs to be fitted. \n",
    "        ll (MultiSpectrum): The low-loss multispectrum\n",
    "        elements (list): List of elements which are present in the spectrum\n",
    "        edges (list): List of edges which are present in the spectrum,\n",
    "            should match with elements\n",
    "        onsets (list): Onset energies of the atomic cross sections\n",
    "        ewidths (list): The extend of the fine structures\n",
    "        ns (list): The number of parameters for each fine structure\n",
    "        settings (list): E0 (V), alpha (radians), beta (radians)\n",
    "        method (str): Indicate if fine structure should be constrained or not\n",
    "    \"\"\"\n",
    "    \n",
    "    specshape=s.get_spectrumshape()\n",
    "\n",
    "    E0 = settings[0]\n",
    "    alpha = settings[1]\n",
    "    beta = settings[2]\n",
    "\n",
    "    #the background is modelled with a power op 3 for convenience\n",
    "    BG = LinearBG(specshape, rlist=[1,2,3,4,5])\n",
    "    BG.use_approx = \"sufficient\"\n",
    "\n",
    "    comp_elements = []\n",
    "    comp_fine = []\n",
    "    for edge, element, onset, interval, n in zip(edges, elements, onsets, ewidths, ns):\n",
    "        # comp = HydrogenicCoreLossEdge(specshape, 1, E0, alpha, beta, element, edge, eshift=onset)\n",
    "\n",
    "        comp = em.ZezhongCoreLossEdgeCombined(specshape, 1, E0, alpha, beta, \n",
    "                                              element, edge, eshift=onset, q_steps=20)\n",
    "\n",
    "        comp_elements.append(comp)\n",
    "        if method == 'constrained':\n",
    "            fine = ConstrainedGDOSLin.gdoslin_from_edge(specshape, comp, ewidth=interval,degree=n,\n",
    "                                interpolationtype='nearest', pre_e=0)\n",
    "        else:\n",
    "            fine = GDOSLin.gdoslin_from_edge(specshape, comp, ewidth=interval,degree=n,\n",
    "                                            interpolationtype='nearest', pre_e=0)\n",
    "\n",
    "        comp_fine.append(fine)\n",
    "        \n",
    "    llcomp = MscatterFFT(specshape, ll)\n",
    "    components = [BG] + comp_elements + comp_fine + [llcomp]\n",
    "    Omod = em.Model(specshape, components=components)\n",
    "    fit = em.QuadraticFitter(s, Omod)  # The fitter object\n",
    "    \n",
    "    if type(s) is em.MultiSpectrum:\n",
    "        fit.multi_fit()\n",
    "        fitsig = fit.model_to_multispectrum()\n",
    "        fig, maps, name = fit.show_map_result(comp_elements)\n",
    "\n",
    "        return fit, fitsig, maps\n",
    "\n",
    "    else:\n",
    "        fit.perform_fit()\n",
    "        fit.set_fit_values()\n",
    "        return fit\n"
   ]
  },
  {
   "cell_type": "markdown",
   "metadata": {},
   "source": [
    "### Dataset\n",
    "The dataset can be retrieved from "
   ]
  },
  {
   "cell_type": "code",
   "execution_count": 5,
   "metadata": {},
   "outputs": [],
   "source": [
    "\n",
    "dir = r''"
   ]
  },
  {
   "cell_type": "code",
   "execution_count": 6,
   "metadata": {},
   "outputs": [],
   "source": [
    "hl = em.MultiSpectrum.load(os.path.join(dir, 'tbsco3_coreloss.hdf5'))\n",
    "ll = em.MultiSpectrum.load(os.path.join(dir, 'tbsco3_lowloss.hdf5'))"
   ]
  },
  {
   "cell_type": "code",
   "execution_count": 7,
   "metadata": {},
   "outputs": [
    {
     "name": "stderr",
     "output_type": "stream",
     "text": [
      "c:\\users\\daen.jannis1\\documents\\pyeelsmodel\\pyEELSMODEL\\operators\\multispectrumvisualizer.py:119: UserWarning: No artists with labels found to put in legend.  Note that artists whose label start with an underscore are ignored when legend() is called with no argument.\n",
      "  ax[1].legend()\n"
     ]
    },
    {
     "data": {
      "text/plain": [
       "<pyEELSMODEL.operators.multispectrumvisualizer.MultiSpectrumVisualizer at 0x1f24ac8b7c0>"
      ]
     },
     "execution_count": 7,
     "metadata": {},
     "output_type": "execute_result"
    }
   ],
   "source": [
    "em.MultiSpectrumVisualizer([hl])"
   ]
  },
  {
   "cell_type": "code",
   "execution_count": 11,
   "metadata": {},
   "outputs": [],
   "source": [
    "alpha = 28e-3\n",
    "E0 = 300e3\n",
    "beta= 32e-3\n",
    "settings = [E0, alpha, beta]\n",
    "\n",
    "elements = ['Sc', 'O', 'Tb']\n",
    "edges = ['L', 'K', 'M']\n",
    "onsets = [-2, 0, 0]\n",
    "\n",
    "intervals = [100, 100, 200] \n",
    "ns = [30,30,50]"
   ]
  },
  {
   "cell_type": "code",
   "execution_count": 8,
   "metadata": {},
   "outputs": [
    {
     "name": "stderr",
     "output_type": "stream",
     "text": [
      "cannot use analytical gradients since a convolutor is inside model\n"
     ]
    },
    {
     "name": "stdout",
     "output_type": "stream",
     "text": [
      "Convergent incoming beam is used\n",
      "convergence angle is: 0.028\n",
      "collection angle is: 0.032\n",
      "Convergent incoming beam is used\n",
      "convergence angle is: 0.028\n",
      "collection angle is: 0.032\n"
     ]
    },
    {
     "name": "stderr",
     "output_type": "stream",
     "text": [
      "cannot use analytical gradients since a convolutor is inside model\n"
     ]
    },
    {
     "name": "stdout",
     "output_type": "stream",
     "text": [
      "Convergent incoming beam is used\n",
      "convergence angle is: 0.028\n",
      "collection angle is: 0.032\n"
     ]
    }
   ],
   "source": [
    "single_fitn = do_fine_structure_fit(hl.mean(), ll.mean(), elements, edges, onsets, intervals, ns, settings, None)\n",
    "single_fitc = do_fine_structure_fit(hl.mean(), ll.mean(), elements, edges, onsets, intervals, ns, settings, \"constrained\")\n"
   ]
  },
  {
   "cell_type": "code",
   "execution_count": 9,
   "metadata": {},
   "outputs": [],
   "source": [
    "fig = single_fitn.plot()\n",
    "fig = single_fitc.plot()"
   ]
  },
  {
   "cell_type": "code",
   "execution_count": 12,
   "metadata": {},
   "outputs": [],
   "source": [
    "n = 256"
   ]
  },
  {
   "cell_type": "code",
   "execution_count": 13,
   "metadata": {},
   "outputs": [
    {
     "name": "stdout",
     "output_type": "stream",
     "text": [
      "Convergent incoming beam is used\n",
      "convergence angle is: 0.028\n",
      "collection angle is: 0.032\n",
      "Convergent incoming beam is used\n",
      "convergence angle is: 0.028\n",
      "collection angle is: 0.032\n",
      "Convergent incoming beam is used\n",
      "convergence angle is: 0.028\n",
      "collection angle is: 0.032\n"
     ]
    },
    {
     "name": "stderr",
     "output_type": "stream",
     "text": [
      "cannot use analytical gradients since a convolutor is inside model\n",
      "65536it [17:57, 60.85it/s]\n",
      "65536it [00:54, 1197.96it/s]\n"
     ]
    }
   ],
   "source": [
    "fitc, fitsigc, mapsc = do_fine_structure_fit(hl[:n,:n,:], ll[:n,:n,:], elements, edges, onsets,\n",
    "                                             intervals, ns, settings, \"constrained\")"
   ]
  },
  {
   "cell_type": "code",
   "execution_count": 14,
   "metadata": {},
   "outputs": [
    {
     "name": "stderr",
     "output_type": "stream",
     "text": [
      "cannot use analytical gradients since a convolutor is inside model\n",
      "65536it [18:34, 58.81it/s]\n",
      "65536it [01:04, 1018.97it/s]\n"
     ]
    }
   ],
   "source": [
    "fitn, fitsign, mapsn = do_fine_structure_fit(hl[:n,:n,:], ll[:n,:n,:], elements, edges, onsets,\n",
    "                                             intervals, ns, settings, None)\n"
   ]
  },
  {
   "cell_type": "markdown",
   "metadata": {},
   "source": [
    "### 3. Power-law subtraction\n",
    "The next step is to perform the background subtraction, the background windows and integration windows are defined by the user itself."
   ]
  },
  {
   "cell_type": "code",
   "execution_count": 15,
   "metadata": {},
   "outputs": [
    {
     "name": "stdout",
     "output_type": "stream",
     "text": [
      "True\n"
     ]
    },
    {
     "name": "stderr",
     "output_type": "stream",
     "text": [
      "0it [00:00, ?it/s]"
     ]
    },
    {
     "name": "stderr",
     "output_type": "stream",
     "text": [
      "65536it [00:09, 7117.19it/s]\n",
      "65536it [02:05, 523.27it/s]\n",
      "65536it [00:03, 21041.51it/s]\n"
     ]
    },
    {
     "name": "stdout",
     "output_type": "stream",
     "text": [
      "True\n"
     ]
    },
    {
     "name": "stderr",
     "output_type": "stream",
     "text": [
      "65536it [00:06, 9556.31it/s] \n",
      "65536it [05:33, 196.45it/s]\n",
      "65536it [00:02, 22546.51it/s]\n"
     ]
    },
    {
     "name": "stdout",
     "output_type": "stream",
     "text": [
      "True\n"
     ]
    },
    {
     "name": "stderr",
     "output_type": "stream",
     "text": [
      "65536it [00:07, 8585.07it/s]\n",
      "65536it [24:55, 43.82it/s]\n",
      "65536it [00:02, 22096.57it/s]\n"
     ]
    }
   ],
   "source": [
    "bg_win = [[310, 390],[480, 520],[1000,1220]] #are defined by user\n",
    "int_win = [[395,500], [530,650],[1230,2000]] #are defined by user\n",
    "int_maps = np.zeros((3, n, n))\n",
    "bgs = []\n",
    "for ii, win in enumerate(bg_win):\n",
    "    rem = em.BackgroundRemoval(hl[:n,:n,:], win)\n",
    "    bg = rem.calculate_multi()    \n",
    "    int_maps[ii] = rem.quantify_from_edge(int_win[ii], elements[ii], edges[ii], E0, alpha, beta)\n",
    "    \n",
    "    bgs.append(bg)"
   ]
  },
  {
   "cell_type": "code",
   "execution_count": 16,
   "metadata": {},
   "outputs": [],
   "source": [
    "mastermap = [mapsn, mapsc, int_maps]\n",
    "fig, ax = plt.subplots(3, len(mastermap))\n",
    "\n",
    "for jj, mp in enumerate(mastermap):\n",
    "    for ii in range(mp.shape[0]):\n",
    "        ax[ii, jj].imshow(mp[ii], cmap='viridis')\n",
    "        if jj == 0:\n",
    "            ax[ii,jj].set_title(f'{elements[ii]} {edges[ii]}')\n",
    "        ax[ii, jj].axis('off')"
   ]
  },
  {
   "cell_type": "markdown",
   "metadata": {},
   "source": []
  },
  {
   "cell_type": "code",
   "execution_count": 17,
   "metadata": {},
   "outputs": [
    {
     "name": "stdout",
     "output_type": "stream",
     "text": [
      "0.163787841796875\n",
      "0.096649169921875\n",
      "0.108062744140625\n",
      "0.008331298828125\n",
      "0.0162200927734375\n",
      "0.0047454833984375\n",
      "0.012054443359375\n",
      "0.361358642578125\n",
      "0.0456695556640625\n"
     ]
    }
   ],
   "source": [
    "fig, ax= plt.subplots(1, 3, figsize=(14,4))\n",
    "bins_min = [.01,0.01,0.01]\n",
    "bins_max = [2,8, 2.]\n",
    "fs=14\n",
    "mth = ['{c}', '{1}', '{2}', '{3}', '{in}']\n",
    "colors = ['red', 'blue', 'green', 'orange', 'purple']\n",
    "\n",
    "for jj, mp in enumerate(mastermap):\n",
    "    for ii in range(mp.shape[0]):\n",
    "        bins=np.linspace(bins_min[ii], bins_max[ii], 300)\n",
    "        xx = (bins[:-1] + bins[1:])/2\n",
    "        # hsq = np.histogram(mapssq[ii].flatten(), bins=bins)\n",
    "        sig = mp[ii].flatten()\n",
    "        sig[sig<0] = 0\n",
    "        boolean = sig == 0\n",
    "        sigg = sig[np.invert(boolean)]\n",
    "        hl = np.histogram(sigg, bins=bins)\n",
    "        avg = np.nanmean(sigg)\n",
    "        std = np.nanstd(sigg)    \n",
    "    \n",
    "    \n",
    "        print((sig==0).sum()/sig.size)\n",
    "    \n",
    "        label0 = r'$\\langle {0} \\rangle_{1}$ = {2}  $\\pm$ {3}'.format(elements[ii], mth[jj], np.round(avg,2), np.round(std,2))\n",
    "    \n",
    "        ax[ii].fill_between(xx, hl[0],  color=colors[jj], alpha=0.5)\n",
    "\n",
    "        ax[ii].plot(xx, hl[0], color=colors[jj],label=label0)\n",
    "        \n",
    "\n",
    "        # ax[ii].set_title(elements[ii], fontsize=fs)\n",
    "        \n",
    "        \n",
    "lbs=[r'\\textbf{a)}', r'\\textbf{b)}', r'\\textbf{c)}']\n",
    "\n",
    "for ii, axe in enumerate(ax):\n",
    "    axe.legend(fontsize=12)\n",
    "    axe.set_xlabel(elements[ii] + r' counts [a.u.]', fontsize=fs)\n",
    "    axe.set_xlim([bins_min[ii], bins_max[ii]])\n",
    "    axe.set_ylim([0, None])\n"
   ]
  },
  {
   "cell_type": "code",
   "execution_count": null,
   "metadata": {},
   "outputs": [],
   "source": []
  }
 ],
 "metadata": {
  "kernelspec": {
   "display_name": "em_env",
   "language": "python",
   "name": "python3"
  },
  "language_info": {
   "codemirror_mode": {
    "name": "ipython",
    "version": 3
   },
   "file_extension": ".py",
   "mimetype": "text/x-python",
   "name": "python",
   "nbconvert_exporter": "python",
   "pygments_lexer": "ipython3",
   "version": "3.10.0"
  }
 },
 "nbformat": 4,
 "nbformat_minor": 2
}
