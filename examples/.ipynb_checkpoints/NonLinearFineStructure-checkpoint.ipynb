{
 "cells": [
  {
   "cell_type": "markdown",
   "id": "e385db83-30bf-410b-a591-a466dfa8e8b4",
   "metadata": {},
   "source": [
    "# Non Linear Fine Structure Determination\n",
    "In this notebook, a non-linear fitting procedure is shown. In particular, the peak energies of the fine structure of the titanium L edge are determined via fitting the appropriate model to the data. The data is not a real sample but **simulated** and shows how to get relevant information on the fitted model via the use of pyEELSMODEL. \\\n",
    "Note that pyEELSMODEL can be used to perform non-linear fitting procdures on EELS data, it is not optimized for these tasks as we focussed mainly on elemental quantification using linear models. "
   ]
  },
  {
   "cell_type": "code",
   "execution_count": 5,
   "id": "336b2384-a598-4d5f-8deb-a6e388c250bc",
   "metadata": {},
   "outputs": [],
   "source": [
    "%matplotlib qt \n",
    "#important for the em.MultiSpectrumVisualizer since this is an interactive plotting tool"
   ]
  },
  {
   "cell_type": "code",
   "execution_count": 14,
   "id": "51d0c983-b6db-4fc2-98d4-8f085d7de27b",
   "metadata": {},
   "outputs": [],
   "source": [
    "import numpy as np\n",
    "import matplotlib.pyplot as plt\n",
    "import pyEELSMODEL.api as em\n",
    "from pyEELSMODEL.components.linear_background import LinearBG #how to import a class, check documentation of available components\n",
    "from pyEELSMODEL.components.lorentzian import Lorentzian #how to import a class, check documentation of available components"
   ]
  },
  {
   "cell_type": "markdown",
   "id": "496b2712-3eb0-4bea-acf3-d3133f801a0f",
   "metadata": {},
   "source": [
    "## Simulation\n",
    "The EEL spectrum of the titanium L edge is simulated as the linear combination of four lorentzian peaks (amplitude, center and broadening), the atomic cross section and a background function. \\\n",
    "The EEL map will have use the same amplitudes and broadenings for the different lorentzians but the position will vary with probe position."
   ]
  },
  {
   "cell_type": "code",
   "execution_count": 7,
   "id": "796ddb72-3c0c-4a24-9fe6-ec88b82a460f",
   "metadata": {},
   "outputs": [],
   "source": [
    "def ti_4(specshape, As, cs, fwhms, settings):\n",
    "    \"\"\"\n",
    "    Small function which calculates the titanium l edge where the As (amplitudes),\n",
    "    cs (centers) and fhwms are given for the lorentzians,\n",
    "    \"\"\"\n",
    "    E0 = settings[0]\n",
    "    alpha = settings[1]\n",
    "    beta = settings[2]    \n",
    "    \n",
    "    element = 'Ti'\n",
    "    edge = 'L'\n",
    "    \n",
    "    bg = LinearBG(specshape, rlist=np.linspace(1,5,4))\n",
    "\n",
    "    comp = em.ZezhongCoreLossEdgeCombined(specshape, 1, E0, alpha, beta, element, edge)\n",
    "    value = 1/comp.data.max()\n",
    "    comp.parameters[0].setvalue(value)\n",
    "    \n",
    "    lorentz = []\n",
    "    for ii in range(len(As)):\n",
    "        lorentz.append(Lorentzian(specshape, As[ii], cs[ii], fwhms[ii]))\n",
    "    \n",
    "    components = [bg, comp] + lorentz\n",
    "    mod = em.Model(specshape, components)\n",
    "    mod.calculate()\n",
    "    return mod"
   ]
  },
  {
   "cell_type": "code",
   "execution_count": 21,
   "id": "e1f51b64-5bdc-489a-b836-ee73737cafbd",
   "metadata": {},
   "outputs": [],
   "source": [
    "def change_params(mod, As, cs, fwhms):\n",
    "    \"\"\"\n",
    "    Function which modifies the parameters of the lorentzian peaks\n",
    "    \"\"\"\n",
    "    #first two components are the background and atomic edge\n",
    "    for ii, comp in enumerate(mod.components[2:]):\n",
    "        comp.parameters[0].setvalue(As[ii])\n",
    "        comp.parameters[1].setvalue(cs[ii])\n",
    "        comp.parameters[2].setvalue(fwhms[ii])\n",
    "    return mod\n",
    "    "
   ]
  },
  {
   "cell_type": "code",
   "execution_count": 11,
   "id": "66c40a5d-2e9c-48dd-ace9-f2e7e5828e0b",
   "metadata": {},
   "outputs": [],
   "source": [
    "xsize = 50\n",
    "ysize = 50 \n",
    "\n",
    "msh = em.MultiSpectrumshape(0.1, 420, 1024, xsize, ysize)\n",
    "specshape = msh.getspectrumshape()\n",
    "settings = (300e3, 1e-9, 20e-3)\n",
    "\n",
    "\n",
    "As = [4,6,4,6]\n",
    "fwhms = [0.5,0.8,1,1.3]\n",
    "\n",
    "#the EELS map has two region of constant fine structure\n",
    "#only the \n",
    "cs1 = [456, 459, 462, 464] \n",
    "cs2 = [457, 459, 462.5, 464]"
   ]
  },
  {
   "cell_type": "markdown",
   "id": "21a5925b-1c72-495c-ba6d-ef464e04c328",
   "metadata": {},
   "source": [
    "Two different fine structures with different energies of the first and third peak. "
   ]
  },
  {
   "cell_type": "code",
   "execution_count": 15,
   "id": "f9166f55-4c7c-452c-ab27-7afaacc4837d",
   "metadata": {},
   "outputs": [],
   "source": [
    "mod1 = ti_4(specshape, As, cs1, fwhms, settings)\n",
    "mod2 = ti_4(specshape, As, cs2, fwhms, settings)"
   ]
  },
  {
   "cell_type": "code",
   "execution_count": 16,
   "id": "02181a95-aade-47c3-aa09-c83e4169e547",
   "metadata": {},
   "outputs": [
    {
     "data": {
      "text/plain": [
       "[<matplotlib.lines.Line2D at 0x2725233bf10>]"
      ]
     },
     "execution_count": 16,
     "metadata": {},
     "output_type": "execute_result"
    }
   ],
   "source": [
    "fig, ax = plt.subplots()\n",
    "ax.plot(mod1.energy_axis, mod1.data)\n",
    "ax.plot(mod2.energy_axis, mod2.data)"
   ]
  },
  {
   "cell_type": "markdown",
   "id": "a207ebea-5599-43c8-88a6-a566a197daa1",
   "metadata": {},
   "source": [
    "EEL map will be simulated with constant amplitudes and broadening at each probe position. The center energy of the first and third peak does vary in the map. The first 10 rows all have the same fine structure (mod1), the last 10 rows also have the same fine structure (mod2). In between, the energy of the first and third peak scales linearly per row. "
   ]
  },
  {
   "cell_type": "code",
   "execution_count": 17,
   "id": "104c854b-43e6-40a5-8c95-32069c0c490b",
   "metadata": {},
   "outputs": [],
   "source": [
    "scan_size = (xsize, ysize)\n",
    "As_map = np.ones(scan_size+(4,))\n",
    "fwhms_map = np.ones(scan_size+(4,))\n",
    "cs_map = np.ones(scan_size+(4,))\n",
    "\n",
    "start=10\n",
    "end=40\n",
    "\n",
    "XX, YY = np.meshgrid(np.arange(xsize)-start, np.arange(ysize)-start)\n",
    "m1 = (cs2[0]-cs1[0])/(end-start)\n",
    "m1 = (cs2[0]-cs1[0])/(end-start)\n",
    "\n",
    "for ii in range(len(As)):\n",
    "    As_map[:,:,ii] = As[ii]\n",
    "    fwhms_map[:,:,ii] = fwhms[ii]\n",
    "    cs_map[:start,:,ii] = cs1[ii]\n",
    "    cs_map[end:,:,ii] = cs2[ii]\n",
    "    \n",
    "    m = (cs2[ii] - cs1[ii])/(end-start)\n",
    "    cs_map[start:end,:,ii] = m*YY[start:end,:]+cs1[ii]"
   ]
  },
  {
   "cell_type": "code",
   "execution_count": 19,
   "id": "70eb388d-ee0c-46b5-a5af-f25250c4579d",
   "metadata": {},
   "outputs": [],
   "source": [
    "fig, ax = plt.subplots(1,4)\n",
    "for ii in range(cs_map.shape[-1]):\n",
    "    ax[ii].imshow(cs_map[:,:,ii])\n",
    "    name = 'Center peak '+str(ii+1)\n",
    "    ax[ii].set_title(name)\n"
   ]
  },
  {
   "cell_type": "markdown",
   "id": "c8e56688-7345-4d07-b779-6f021b4debc1",
   "metadata": {},
   "source": [
    "Simulation of the EELS map where at each probe position. It uses the As_map, cs_map, fwhms_map information is input for each lorentzian. There is no thickness effect added to the simulation since this is only for illustration purposes. Noise is added in the form of poisson noise and can be modified using the cte."
   ]
  },
  {
   "cell_type": "code",
   "execution_count": 25,
   "id": "7be039ee-0871-4f9e-bb8e-35583f2270cc",
   "metadata": {},
   "outputs": [],
   "source": [
    "cte = 1e2 #counts which modifies the poisson noise \n",
    "eels_data = np.zeros((xsize, ysize, msh.Esize))\n",
    "for index in np.ndindex(scan_size):\n",
    "        islice = np.s_[index]\n",
    "        mod = change_params(mod1, As_map[islice], cs_map[islice], fwhms_map[islice])\n",
    "        \n",
    "        mod.calculate()\n",
    "        eels_data[islice] = np.random.poisson(mod.data*cte)\n",
    "\n",
    "s = em.MultiSpectrum(msh, data=eels_data)"
   ]
  },
  {
   "cell_type": "code",
   "execution_count": 26,
   "id": "4edb6476-6b6f-45c2-a624-c0b64219360f",
   "metadata": {
    "scrolled": true
   },
   "outputs": [
    {
     "name": "stderr",
     "output_type": "stream",
     "text": [
      "No artists with labels found to put in legend.  Note that artists whose label start with an underscore are ignored when legend() is called with no argument.\n"
     ]
    },
    {
     "data": {
      "text/plain": [
       "<pyEELSMODEL.operators.multispectrumvisualizer.MultiSpectrumVisualizer at 0x2725298b760>"
      ]
     },
     "execution_count": 26,
     "metadata": {},
     "output_type": "execute_result"
    }
   ],
   "source": [
    "em.MultiSpectrumVisualizer([s])"
   ]
  },
  {
   "cell_type": "markdown",
   "id": "ceaa1dbf-ba7e-406c-9e93-6e22675e0b57",
   "metadata": {},
   "source": [
    "Visulization of the EEL spectra accross the x direction. This shows how the peak position of the first and third peak changes along the EELS map."
   ]
  },
  {
   "cell_type": "code",
   "execution_count": 27,
   "id": "3e896b27-34bf-4c67-9cac-262bdf13e81a",
   "metadata": {},
   "outputs": [
    {
     "data": {
      "text/plain": [
       "<matplotlib.image.AxesImage at 0x272538eb160>"
      ]
     },
     "execution_count": 27,
     "metadata": {},
     "output_type": "execute_result"
    }
   ],
   "source": [
    "fig, ax = plt.subplots()\n",
    "ax.imshow(s.multidata.mean(1), aspect='auto')"
   ]
  },
  {
   "cell_type": "code",
   "execution_count": null,
   "id": "445f7849-a08d-4348-b63e-c4d1b16a0e96",
   "metadata": {},
   "outputs": [],
   "source": []
  },
  {
   "cell_type": "code",
   "execution_count": null,
   "id": "75ef9605-a713-43a6-b98b-00b71328e382",
   "metadata": {},
   "outputs": [],
   "source": []
  },
  {
   "cell_type": "code",
   "execution_count": null,
   "id": "cbbdc1de-d255-473a-8a70-b611b939c0d7",
   "metadata": {},
   "outputs": [],
   "source": []
  },
  {
   "cell_type": "code",
   "execution_count": null,
   "id": "f67aaf04-b6f3-4f63-b90f-b4161806ba36",
   "metadata": {},
   "outputs": [],
   "source": []
  },
  {
   "cell_type": "code",
   "execution_count": null,
   "id": "4c9e45d1-2537-4221-82c2-c5e23c5fe489",
   "metadata": {},
   "outputs": [],
   "source": []
  },
  {
   "cell_type": "code",
   "execution_count": null,
   "id": "17b58d28-b489-435c-b06c-069b2f170638",
   "metadata": {},
   "outputs": [],
   "source": []
  },
  {
   "cell_type": "code",
   "execution_count": null,
   "id": "91dd2836-0758-4346-bed2-3592e49cccc3",
   "metadata": {},
   "outputs": [],
   "source": []
  }
 ],
 "metadata": {
  "kernelspec": {
   "display_name": "Python 3 (ipykernel)",
   "language": "python",
   "name": "python3"
  },
  "language_info": {
   "codemirror_mode": {
    "name": "ipython",
    "version": 3
   },
   "file_extension": ".py",
   "mimetype": "text/x-python",
   "name": "python",
   "nbconvert_exporter": "python",
   "pygments_lexer": "ipython3",
   "version": "3.10.13"
  }
 },
 "nbformat": 4,
 "nbformat_minor": 5
}
