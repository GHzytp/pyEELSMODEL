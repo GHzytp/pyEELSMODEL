{
 "cells": [
  {
   "cell_type": "markdown",
   "id": "ee9d1cc1-ed6e-4b53-8179-9b490a3c7b10",
   "metadata": {},
   "source": [
    "# Inequality constrains for background\n",
    "In the notebook the inequality fit of the background will be shown on a single spectrum of SrTiO$_3$. To illustrate the problems that can arise with the non-constrained background, the fine structure is not incorporated in the model which is necessary if one wants to perform a good quantification of the EEL spectrum. For more information see the work of [Van den Broek et al](https://doi.org/10.1016/j.ultramic.2023.113830).\n"
   ]
  },
  {
   "cell_type": "code",
   "execution_count": 1,
   "id": "0b7616d8-74f7-4d68-a339-dc64017adc95",
   "metadata": {},
   "outputs": [],
   "source": [
    "%matplotlib qt5"
   ]
  },
  {
   "cell_type": "code",
   "execution_count": 2,
   "id": "ae7bb01e",
   "metadata": {},
   "outputs": [],
   "source": [
    "import os\n",
    "import numpy as np\n",
    "import matplotlib.pyplot as plt\n",
    "import pyEELSMODEL.api as em\n",
    "from pyEELSMODEL.components.linear_background import LinearBG\n",
    "from pyEELSMODEL.components.CLedge.zezhong_coreloss_edgecombined import ZezhongCoreLossEdgeCombined\n",
    "from pyEELSMODEL.components.gdoslin import GDOSLin\n",
    "from pyEELSMODEL.components.MScatter.mscatterfft import MscatterFFT"
   ]
  },
  {
   "cell_type": "code",
   "execution_count": 3,
   "id": "396416b5",
   "metadata": {},
   "outputs": [
    {
     "name": "stdout",
     "output_type": "stream",
     "text": [
      "Current directory is: c:\\Users\\daen.jannis1\\Documents\\pyEELSMODEL\\examples\n"
     ]
    }
   ],
   "source": [
    "cdir = os.getcwd()\n",
    "print('Current directory is: ' + cdir)"
   ]
  },
  {
   "cell_type": "code",
   "execution_count": 4,
   "id": "bf88f751-eb27-41ee-9c10-3ac6b17a463f",
   "metadata": {},
   "outputs": [],
   "source": [
    "filename = os.path.join(cdir, 'data', 'hl.msa')\n",
    "filenamell = os.path.join(cdir, 'data', 'll.msa')"
   ]
  },
  {
   "cell_type": "code",
   "execution_count": 5,
   "id": "e38fe468",
   "metadata": {},
   "outputs": [],
   "source": [
    "#The experimental parameters \n",
    "alpha = 0.9e-3 #convergence angle [rad]\n",
    "beta = 2.675e-3 #collection angle [rad]\n",
    "E0 = 300e3 #acceleration voltage [V]"
   ]
  },
  {
   "cell_type": "code",
   "execution_count": 6,
   "id": "98b84b9f",
   "metadata": {},
   "outputs": [],
   "source": [
    "# The edges in the spectrum\n",
    "elements = ['Ti', 'O']\n",
    "edges = ['L', 'K']"
   ]
  },
  {
   "cell_type": "markdown",
   "id": "44f1f164",
   "metadata": {},
   "source": [
    "## Loading the datasets"
   ]
  },
  {
   "cell_type": "code",
   "execution_count": 7,
   "id": "32209a46",
   "metadata": {},
   "outputs": [
    {
     "name": "stderr",
     "output_type": "stream",
     "text": [
      "this will change the size and contents of the current spectrum\n",
      "this will change the size and contents of the current spectrum\n"
     ]
    }
   ],
   "source": [
    "s0 = em.Spectrum.load(filename)\n",
    "ll = em.Spectrum.load(filenamell)"
   ]
  },
  {
   "cell_type": "code",
   "execution_count": 8,
   "id": "109b8c97",
   "metadata": {},
   "outputs": [],
   "source": [
    "#the core loss spectrum\n",
    "s0.plot()"
   ]
  },
  {
   "cell_type": "code",
   "execution_count": 9,
   "id": "1e652204",
   "metadata": {
    "scrolled": true
   },
   "outputs": [],
   "source": [
    "#the low loss spectrum\n",
    "ll.plot()"
   ]
  },
  {
   "cell_type": "markdown",
   "id": "d87f826b",
   "metadata": {},
   "source": [
    "## Constrained fitting via Quadratic programming\n",
    "A model based fitting approach is used to quantify the core-loss spectrum where three different constrains are applied to the backgroud.\n",
    "1. No constrains, which is the ordinary least squares method\n",
    "2. The parameters of the background are all positive\n",
    "3. Inequality constrains on the background parameters to ensure convexity and a negative gradient. \n"
   ]
  },
  {
   "cell_type": "markdown",
   "id": "caece8d4-1e7d-47b6-87f3-ec8f304a835e",
   "metadata": {},
   "source": [
    "#### Model\n",
    "The model  needs to be defined and consist out of four components.\n",
    "1. Background: Linear background model, where the constrains can be modified\n",
    "2. Titanium L edge\n",
    "3. Oxygen K edge\n",
    "4. Low-loss to take multiple scattering into account"
   ]
  },
  {
   "cell_type": "code",
   "execution_count": 10,
   "id": "a6d952b4",
   "metadata": {},
   "outputs": [],
   "source": [
    "def make_model(spectrum, elements, edges, constrains):\n",
    "    specshape = s0.get_spectrumshape()\n",
    "    BG = LinearBG(specshape, rlist=np.linspace(1,5,4))\n",
    "    BG.use_approx = constrains\n",
    "    \n",
    "    comp_elements = []\n",
    "    for elem, edge in zip(elements, edges):\n",
    "        comp = ZezhongCoreLossEdgeCombined(specshape, 1, E0, alpha, beta, elem, edge)\n",
    "        comp_elements.append(comp)\n",
    "\n",
    "    ll_comp = MscatterFFT(specshape, ll)\n",
    "    component_list = [BG]+comp_elements+[ll_comp]\n",
    "    mod = em.Model(specshape, components=component_list) #The model object\n",
    "    return mod"
   ]
  },
  {
   "cell_type": "code",
   "execution_count": 11,
   "id": "ac38f8c5",
   "metadata": {},
   "outputs": [
    {
     "name": "stdout",
     "output_type": "stream",
     "text": [
      "hll\n",
      "hll\n",
      "hll\n",
      "hll\n",
      "hll\n",
      "hll\n",
      "hll\n",
      "hll\n",
      "hll\n",
      "hll\n",
      "hll\n",
      "hll\n"
     ]
    }
   ],
   "source": [
    "ols_model = make_model(s0, elements, edges, None) #model used for oridinary least squares\n",
    "nnls_model = make_model(s0, elements, edges, 'non-neg') #model used for non-negative least squares\n",
    "ineq_model = make_model(s0, elements, edges, 'sufficient') #model used for inequality constrained least squares"
   ]
  },
  {
   "cell_type": "code",
   "execution_count": 12,
   "id": "360831c5",
   "metadata": {},
   "outputs": [
    {
     "name": "stderr",
     "output_type": "stream",
     "text": [
      "cannot use analytical gradients since a convolutor is inside model\n",
      "cannot use analytical gradients since a convolutor is inside model\n",
      "cannot use analytical gradients since a convolutor is inside model\n"
     ]
    }
   ],
   "source": [
    "fit_ols = em.LinearFitter(s0, ols_model)\n",
    "fit_nnls = em.QuadraticFitter(s0, nnls_model)\n",
    "fit_ineq = em.QuadraticFitter(s0, ineq_model)\n",
    "fits  = [fit_ols, fit_nnls, fit_ineq]\n",
    "for fit in fits:\n",
    "    fit.perform_fit()\n",
    "    fit.plot()\n",
    "    "
   ]
  },
  {
   "cell_type": "markdown",
   "id": "74eb2bdc",
   "metadata": {},
   "source": [
    "Visualization of the different background models obtained from the entire fit. It is clear that OLS has local maxima which is unphysical and the NNLS is not \"flexible\" enough to properly describe the background. In reality, the fine structure should be added to the model however this is done to illustrate problems that can occur for the OLS and NNLS methodologies."
   ]
  },
  {
   "cell_type": "code",
   "execution_count": 13,
   "id": "b32cc667",
   "metadata": {},
   "outputs": [
    {
     "data": {
      "text/plain": [
       "<matplotlib.legend.Legend at 0x1e6f8d444f0>"
      ]
     },
     "execution_count": 13,
     "metadata": {},
     "output_type": "execute_result"
    }
   ],
   "source": [
    "fig, ax = plt.subplots()\n",
    "mods = [ols_model, nnls_model, ineq_model]\n",
    "lbs = ['OLS', 'NNLS', 'Ineq']\n",
    "ax.plot(s0.energy_axis, s0.data, label='Data', color='black')\n",
    "for jj, mod in enumerate(mods):\n",
    "    ax.plot(s0.energy_axis, mod.components[0].data, label=lbs[jj])\n",
    "ax.legend()"
   ]
  },
  {
   "cell_type": "code",
   "execution_count": null,
   "id": "18bf77ab",
   "metadata": {},
   "outputs": [],
   "source": []
  }
 ],
 "metadata": {
  "kernelspec": {
   "display_name": "Python 3 (ipykernel)",
   "language": "python",
   "name": "python3"
  },
  "language_info": {
   "codemirror_mode": {
    "name": "ipython",
    "version": 3
   },
   "file_extension": ".py",
   "mimetype": "text/x-python",
   "name": "python",
   "nbconvert_exporter": "python",
   "pygments_lexer": "ipython3",
   "version": "3.10.0"
  },
  "vscode": {
   "interpreter": {
    "hash": "46d9b0858666972ec7e6205651389579dbda988de87580abd88ea58cf43757c8"
   }
  }
 },
 "nbformat": 4,
 "nbformat_minor": 5
}
